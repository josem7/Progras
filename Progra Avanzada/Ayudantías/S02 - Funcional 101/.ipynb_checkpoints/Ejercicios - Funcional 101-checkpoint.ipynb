{
 "cells": [
  {
   "cell_type": "markdown",
   "metadata": {},
   "source": [
    "# Ejecicios de práctica\n",
    "\n",
    "Estos son algunos pocos ejercicios para que practiquen la materia de esta semana.\n",
    "\n",
    "Los \"enunciados\" serán hechos de instrucciones explícitas para que puedan guiarse fácilmente. Si tienen dudas, repasen la materia, busquen en Google y, si persiste, no duden en publicar una Issue.\n",
    "\n",
    "-----"
   ]
  },
  {
   "cell_type": "code",
   "execution_count": 9,
   "metadata": {
    "collapsed": true
   },
   "outputs": [],
   "source": [
    "# Algunos imports útiles\n",
    "from collections import namedtuple\n",
    "from functools import reduce"
   ]
  },
  {
   "cell_type": "markdown",
   "metadata": {},
   "source": [
    "### Ejercicio 1\n",
    "\n",
    "Se tiene una lista con números enteros del 0 al 9999. Haga un `filter` para obtener un generador con los números pares de la lista `lista_enteros`.\n",
    "\n",
    "PS: recuerde que `filter` retorna un generador."
   ]
  },
  {
   "cell_type": "code",
   "execution_count": 1,
   "metadata": {},
   "outputs": [],
   "source": [
    "lista_enteros = [entero for entero in range(2, 10000)]"
   ]
  },
  {
   "cell_type": "code",
   "execution_count": 6,
   "metadata": {},
   "outputs": [
    {
     "data": {
      "text/plain": [
       "6"
      ]
     },
     "execution_count": 6,
     "metadata": {},
     "output_type": "execute_result"
    }
   ],
   "source": [
    "gen = filter(lambda x: x%2 == 0, lista_enteros)"
   ]
  },
  {
   "cell_type": "markdown",
   "metadata": {},
   "source": [
    "Existe una \"equivalencia\" entre `filter` y expresiones generadoras:\n",
    "\n",
    "`filter(condicion(x), iterable) <==> (x for x in iterable if condicion(x))`\n",
    "\n",
    "Haga una expresión generadora con los números **primos** de la lista `lista_enteros`. Se recomienda utilizar la función `es_primo(numero)`."
   ]
  },
  {
   "cell_type": "code",
   "execution_count": 27,
   "metadata": {
    "collapsed": true
   },
   "outputs": [],
   "source": [
    "def es_primo(numero):\n",
    "    for n in range(2, numero):\n",
    "        if numero % n == 0:\n",
    "            return False\n",
    "    return True"
   ]
  },
  {
   "cell_type": "code",
   "execution_count": 32,
   "metadata": {},
   "outputs": [],
   "source": [
    "ex"
   ]
  },
  {
   "cell_type": "markdown",
   "metadata": {},
   "source": [
    "### Ejercicios 2\n",
    "\n",
    "Se tiene una lista de `Persona`s, las cuales ya se encuentran cargadas en la lista `lista_personas`. Debes, utilizando `map`, crear un generador que contenga los nombres de las personas.\n",
    "\n",
    "PS: recuerda que `map` retorna un generador."
   ]
  },
  {
   "cell_type": "code",
   "execution_count": null,
   "metadata": {
    "collapsed": true
   },
   "outputs": [],
   "source": [
    "Persona = namedtuple(\"Persona\", \"nombre apellido\")\n",
    "\n",
    "lista_personas = [Persona(\"Enzo\", \"Tamburini\"),\n",
    "                  Persona(\"Benjamín\", \"Cárcamo\"),\n",
    "                  Persona(\"Bastián\", \"Mavrakis\")]"
   ]
  },
  {
   "cell_type": "code",
   "execution_count": null,
   "metadata": {
    "collapsed": true
   },
   "outputs": [],
   "source": [
    "# Haga su solución aquí"
   ]
  },
  {
   "cell_type": "markdown",
   "metadata": {},
   "source": [
    "Spoiler: Esto también se podría hacer con un generador por comprensión, tal como se muestra a continuación:\n",
    "\n",
    "`(persona.nombre for persona in lista_personas)`"
   ]
  },
  {
   "cell_type": "markdown",
   "metadata": {},
   "source": [
    "### Ejercicio 3\n",
    "\n",
    "Intente ver qué imprime el siguiente código:\n",
    "\n",
    "```\n",
    "ite1 = [2, 7, 1, 8, 2, 8, 2]     # e\n",
    "ite2 = [1, 4, 1, 4, 2, 1]        # raíz de 2\n",
    "ite3 = [3, 1, 4, 1, 5, 9, 2, 6]  # pi\n",
    "\n",
    "print(*zip(ite1, ite2, ite3))     \n",
    "print(*zip(*zip(ite1, ite2, ite3)))\n",
    "```"
   ]
  },
  {
   "cell_type": "code",
   "execution_count": 8,
   "metadata": {
    "collapsed": true
   },
   "outputs": [],
   "source": [
    "# Pruebe aquí para ver si lo pensaste bien :)"
   ]
  },
  {
   "cell_type": "markdown",
   "metadata": {},
   "source": [
    "### Ejercicio 4\n",
    "\n",
    "Intente ver qué imprime el siguiente código:\n",
    "\n",
    "```\n",
    "def funcion_generadora():\n",
    "    s = \"Hola {}\"\n",
    "    yield s.format(\"amigo\")\n",
    "    while True:\n",
    "        s += \", ¿cómo están?\"\n",
    "        yield s.format(\"amiguitos\")\n",
    "            \n",
    "gen = funcion_generadora()\n",
    "\n",
    "next(gen)\n",
    "print(next(gen))\n",
    "```"
   ]
  },
  {
   "cell_type": "code",
   "execution_count": 13,
   "metadata": {
    "collapsed": true
   },
   "outputs": [],
   "source": [
    "# Pruebe aquí para ver si lo pensaste bien :)"
   ]
  },
  {
   "cell_type": "markdown",
   "metadata": {},
   "source": [
    "### Ejercicio 5\n",
    "\n",
    "Haga un _refactor_ del siguiente código (\"traspásalo al paradigma funcional..\"):\n",
    "\n",
    "```\n",
    "def diccionalizador(*args):\n",
    "    diccionario_elementos = {}\n",
    "    i = 0\n",
    "    for elemento in args:\n",
    "        diccionario_elementos[i] = elemento\n",
    "        i += 1\n",
    "    return diccionario_elementos\n",
    "```\n",
    "\n",
    "Recuerde la existencia de las estructuras por comprensión y de la función `enumerate`."
   ]
  },
  {
   "cell_type": "code",
   "execution_count": 19,
   "metadata": {},
   "outputs": [],
   "source": [
    "def diccionalizador(*args):\n",
    "    # Haga su solución aquí\n",
    "    pass"
   ]
  },
  {
   "cell_type": "markdown",
   "metadata": {},
   "source": [
    "### Ejercicio 6\n",
    "\n",
    "Se tiene una lista `lista_peliculas` con varias películas, las cuales tienen un `nombre` y un `genero`. Cree un `set` por comprensión para almacenar los nombres de las películas de género `\"Acción\"`."
   ]
  },
  {
   "cell_type": "code",
   "execution_count": 10,
   "metadata": {
    "collapsed": true
   },
   "outputs": [],
   "source": [
    "Pelicula = namedtuple(\"Pelicula\", [\"título\", \"género\"])\n",
    "lista_peliculas = [Pelicula(\"Into the Woods\", \"Aventura\"),\n",
    "             Pelicula(\"American Sniper\",  \"Acción\"),\n",
    "             Pelicula(\"Birdman\", \"Comedia\"),\n",
    "             Pelicula(\"Boyhood\", \"Drama\"), \n",
    "             Pelicula(\"Taken 3\", \"Acción\"), \n",
    "             Pelicula(\"The Imitation Game\", \"Biografías\"),\n",
    "             Pelicula(\"Gone Girl\", \"Drama\")]"
   ]
  },
  {
   "cell_type": "code",
   "execution_count": 11,
   "metadata": {
    "collapsed": true
   },
   "outputs": [],
   "source": [
    "# Haga su solución aquí."
   ]
  },
  {
   "cell_type": "markdown",
   "metadata": {},
   "source": [
    "Ahora, haga una función llamada `cant_peliculas_por_genero` que reciba la lista `lista_peliculas` y retorne un diccionario del tipo `{genero: cant_peliculas}`.\n"
   ]
  },
  {
   "cell_type": "code",
   "execution_count": 20,
   "metadata": {
    "collapsed": true
   },
   "outputs": [],
   "source": [
    "def cant_peliculas_por_genero(lista_peliculas):\n",
    "    # Haga su solución aquí\n",
    "    pass"
   ]
  },
  {
   "cell_type": "markdown",
   "metadata": {},
   "source": [
    "Spoiler: La función debe retornar:\n",
    "\n",
    "`{\"Aventura\": 1, \"Acción\": 2, \"Comedia\": 1, \"Drama\": 2, \"Biografías\": 1}`\n",
    "\n",
    "Omita el orden. Recuerde la función `reduce` y los `defaultdict`s."
   ]
  },
  {
   "cell_type": "markdown",
   "metadata": {},
   "source": [
    "### Ejercicio 7\n",
    "\n",
    "Se tiene un generador `varios_numeros` con varios números enteros. Haz una función `promedio_numeros` que reciba el generador y retorne el promedio (asuma que el generador es no vacío).\n",
    "\n",
    "PS: el método `mean` de la librería `statistics` puede resultarle útil."
   ]
  },
  {
   "cell_type": "code",
   "execution_count": 16,
   "metadata": {
    "collapsed": true
   },
   "outputs": [],
   "source": [
    "def fibonacci():\n",
    "    a, b = 0, 1\n",
    "    while True: # Notar que este generador nunca \"se agota\"\n",
    "        yield b\n",
    "        a, b = b, a + b\n",
    "\n",
    "generador = fibonacci()\n",
    "        \n",
    "varios_numeros = (next(generador) for x in range(10000))"
   ]
  },
  {
   "cell_type": "code",
   "execution_count": null,
   "metadata": {
    "collapsed": true
   },
   "outputs": [],
   "source": [
    "def promedio_numeros(generador):\n",
    "    # Haga su solución aquí\n",
    "    pass"
   ]
  },
  {
   "cell_type": "markdown",
   "metadata": {},
   "source": [
    "### Ejercicio 8\n",
    "\n",
    "Haga una función `lambda` que reciba 2 argumentos `x` e `y` y que retorne la suma de `x` e `y`. "
   ]
  },
  {
   "cell_type": "code",
   "execution_count": 14,
   "metadata": {
    "collapsed": true
   },
   "outputs": [],
   "source": [
    "# Haga su solución aquí"
   ]
  },
  {
   "cell_type": "markdown",
   "metadata": {},
   "source": [
    "### Ejercicio 9\n",
    "\n",
    "Haga una función `funcion_flexible` que pueda recibir un número variable de argumentos. Imprima todos junto con posición. Un ejemplo de _input_ y _output_:\n",
    "\n",
    "```\n",
    ">>  funcion_flexible(\"hola\", 5, True)\n",
    "(0, 'hola') (1, 5) (2, True)\n",
    "```"
   ]
  },
  {
   "cell_type": "code",
   "execution_count": 17,
   "metadata": {},
   "outputs": [],
   "source": [
    "# Haga aquí su solución"
   ]
  },
  {
   "cell_type": "markdown",
   "metadata": {},
   "source": [
    "### Ejercicio 10\n",
    "\n",
    "Haga una función `funcion_flexible` que pueda recibir un número variable de números enteros (asuma que siempre recibe al menos 2 números enteros). Luego, obtenga la suma utilizando `reduce` y retórnela."
   ]
  },
  {
   "cell_type": "code",
   "execution_count": 5,
   "metadata": {
    "collapsed": true
   },
   "outputs": [],
   "source": [
    "# Haga su solución aquí"
   ]
  }
 ],
 "metadata": {
  "kernelspec": {
   "display_name": "Python 3",
   "language": "python",
   "name": "python3"
  },
  "language_info": {
   "codemirror_mode": {
    "name": "ipython",
    "version": 3
   },
   "file_extension": ".py",
   "mimetype": "text/x-python",
   "name": "python",
   "nbconvert_exporter": "python",
   "pygments_lexer": "ipython3",
   "version": "3.6.4"
  }
 },
 "nbformat": 4,
 "nbformat_minor": 2
}
