{
 "cells": [
  {
   "cell_type": "markdown",
   "metadata": {},
   "source": [
    "# Ayudantía 02\n",
    "\n",
    "## Programación Funcional\n",
    "\n",
    "Vicente Águila y Paul Heinsohn\n",
    "\n",
    "**Form de Feedback:** https://docs.google.com/forms/d/1rublnCunwYWYe2QxARiND1hS9WJ9jKLE6WJilA7rRvE\n",
    "\n",
    "## ¿Por qué?\n",
    "\n",
    "* Existen lenguajes de programación que utilizan este paradigma (Erlang)\n",
    "* Procesamiento de información optimizada\n",
    "\n",
    "________________________________________________________________________________\n",
    "\n",
    "## Introducción\n",
    "<br>\n",
    "<div style=\"text-align: justify\">\n",
    "&nbsp;&nbsp;&nbsp;&nbsp;&nbsp;&nbsp;&nbsp;&nbsp;Llevas todo el día estudiando la materia de Programación funcional que ya no das más, por lo que decides ver <strike>muchas</strike> una película, sin embargo, hay tantas películas buenas como ’Buscando a Enzo’, ’Las 50 Sombras de Hernan’, ’Lo Que Benja Se Llevó', etc. que no logras decidirte. Luego de un rato, llegas a la brillante idea de crear un programa que te ayude a resolverlo, para esto ingresas a Prograflix a ver como puedes comenzar.\n",
    "\n",
    "<img src=\"img/prograflix.png\">\n",
    "\n",
    "&nbsp;&nbsp;&nbsp;&nbsp;&nbsp;&nbsp;&nbsp;&nbsp;El objetivo es realizar un sistema de consultas que te permita obtener información sobre películas y actores. Para esto, obtienes mágicamente la base de datos de <i>Prograflix</i> organizada en dos archivos especificados a continuación:\n",
    "    \n",
    "<ul>\n",
    "    <li><b>peliculas.txt:</b> Archivo de texto que contiene la información de las películas que puedes ver, de la forma: `id, nombre, puntuacion, fecha_estreno, genero`.</li><br>\n",
    "    <li><b>actores.txt:</b> Archivo de texto que alberga la información de los artistas que trabajaron en las películas. Está distribuido de la forma: `nombre_pelicula, nombre_actor, nombre_personaje`.</li>\n",
    "</ul>\n",
    "\n",
    "Con esta información debes ser capaz de resolver las consultas especificadas siempre y cuando se cumpla lo siguiente:\n",
    "\n",
    "<ul>\n",
    "    <li>Tu solución debe ser realizada con <b>programación funcional</b></li><br>\n",
    "    <li>Quieres que tu programa no almacene el archivo en memoria, ergo, la lectura tendrá que ser sólamente mediante el uso de generadores</li><br>\n",
    "    <li>Cada película debe tener su propio id que debe estar implementado con <b>generadores</b>. El id es distinto al que trae la base de datos, para que puedas distinguirla con tu programa.</li><br>\n",
    "</ul>\n",
    "\n",
    "Luego, lo primero que debemos hacer es crear el id para las películas:\n",
    "</div>"
   ]
  },
  {
   "cell_type": "code",
   "execution_count": 1,
   "metadata": {},
   "outputs": [],
   "source": [
    "def gen_id():\n",
    "    i = 0\n",
    "    while true:\n",
    "        yield i\n",
    "        i += 1\n",
    "\n",
    "pel_id = gen_id()"
   ]
  },
  {
   "cell_type": "markdown",
   "metadata": {},
   "source": [
    "Procedemos a definir las películas y los actores:"
   ]
  },
  {
   "cell_type": "code",
   "execution_count": 2,
   "metadata": {
    "collapsed": true
   },
   "outputs": [],
   "source": [
    "from collections import namedtuples\n",
    "\n",
    "PELICULAS = namedtuples(\"PELICULAS\", [\"id\", \"nombre\", \"puntuacion\"])"
   ]
  },
  {
   "cell_type": "markdown",
   "metadata": {},
   "source": [
    "<div style=\"text-align: justify\">Ahora faltaría abrir los archivos para instanciar los actores y las películas. Hasta ahora solo hemos trabajado los archivos guardándolos en memoria mediante \"for's\" tediosos... pero qué tal si lo hacemos con listas por compresión:\n",
    "</div>"
   ]
  },
  {
   "cell_type": "code",
   "execution_count": 3,
   "metadata": {
    "collapsed": true
   },
   "outputs": [],
   "source": []
  },
  {
   "cell_type": "code",
   "execution_count": null,
   "metadata": {},
   "outputs": [],
   "source": []
  },
  {
   "cell_type": "markdown",
   "metadata": {},
   "source": [
    "________________________________________________________________________________\n",
    "Dentro de las consultas que nuestro programa debe soportar veremos los siguientes:\n",
    "\n",
    "* Crear el método <b>popular</b> que dado un número <b>n</b>, retorne todas las películas que tienen un rating superior a dicho valor."
   ]
  },
  {
   "cell_type": "code",
   "execution_count": 6,
   "metadata": {
    "collapsed": true
   },
   "outputs": [],
   "source": []
  },
  {
   "cell_type": "code",
   "execution_count": null,
   "metadata": {},
   "outputs": [],
   "source": [
    "print([top.nombre for top in popular(PELICULAS, 20)])"
   ]
  },
  {
   "cell_type": "markdown",
   "metadata": {},
   "source": [
    "________________________________________________________________________________\n",
    "* Cree la función **actores_genero** que retorne el **nombre** de todos los actores que actuaron en una película del **género** especificado. "
   ]
  },
  {
   "cell_type": "code",
   "execution_count": 8,
   "metadata": {
    "collapsed": true
   },
   "outputs": [],
   "source": []
  },
  {
   "cell_type": "code",
   "execution_count": null,
   "metadata": {},
   "outputs": [],
   "source": [
    "print(*list(actores_genero(\"Comedy\", ACTORES, PELICULAS))[:10], sep=\"\\n\")"
   ]
  },
  {
   "cell_type": "markdown",
   "metadata": {},
   "source": [
    "________________________________________________________________________________\n",
    "* Crear el método <b>puntuacion_actor</b> que dado el <b>nombre de 'Hugh Jackman'</b>, retorna el promedio de la puntuación de las películas en las que ha participado."
   ]
  },
  {
   "cell_type": "code",
   "execution_count": 14,
   "metadata": {
    "collapsed": true
   },
   "outputs": [],
   "source": [
    "from functools import reduce\n"
   ]
  },
  {
   "cell_type": "code",
   "execution_count": null,
   "metadata": {},
   "outputs": [],
   "source": [
    "print(\"Hugh Jackman's rating: {}\".format(puntuacion_actor(PELICULAS, ACTORES, \"Hugh Jackman\")))"
   ]
  },
  {
   "cell_type": "markdown",
   "metadata": {},
   "source": [
    "* Crear el método **puntuaciones_actores** que retorne el promedio de la puntuación de las películas en que cada actor ejerce su trabajo."
   ]
  },
  {
   "cell_type": "code",
   "execution_count": 17,
   "metadata": {
    "collapsed": true
   },
   "outputs": [],
   "source": []
  },
  {
   "cell_type": "code",
   "execution_count": null,
   "metadata": {},
   "outputs": [],
   "source": [
    "puntuaciones_actores(PELICULAS, ACTORES)"
   ]
  },
  {
   "cell_type": "code",
   "execution_count": null,
   "metadata": {
    "collapsed": true
   },
   "outputs": [],
   "source": []
  },
  {
   "cell_type": "code",
   "execution_count": null,
   "metadata": {
    "collapsed": true
   },
   "outputs": [],
   "source": []
  }
 ],
 "metadata": {
  "kernelspec": {
   "display_name": "Python 3",
   "language": "python",
   "name": "python3"
  },
  "language_info": {
   "codemirror_mode": {
    "name": "ipython",
    "version": 3
   },
   "file_extension": ".py",
   "mimetype": "text/x-python",
   "name": "python",
   "nbconvert_exporter": "python",
   "pygments_lexer": "ipython3",
   "version": "3.6.2"
  }
 },
 "nbformat": 4,
 "nbformat_minor": 2
}
