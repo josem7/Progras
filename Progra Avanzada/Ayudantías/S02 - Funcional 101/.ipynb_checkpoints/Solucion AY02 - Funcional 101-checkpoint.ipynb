{
 "cells": [
  {
   "cell_type": "markdown",
   "metadata": {},
   "source": [
    "# Ayudantía 2\n",
    "\n",
    "## Programación Funcional\n",
    "\n",
    "Vicente Águila y Paul Heinsohn\n",
    "\n",
    "**Form:** https://docs.google.com/forms/d/1rublnCunwYWYe2QxARiND1hS9WJ9jKLE6WJilA7rRvE\n",
    "\n",
    "## ¿Por qué?\n",
    "\n",
    "* Existen lenguajes de programación que utilizan este paradigma (Erlang)\n",
    "* Procesamiento de información optimizada\n",
    "\n",
    "________________________________________________________________________________\n",
    "\n",
    "## Introducción\n",
    "<br>\n",
    "<div style=\"text-align: justify\">\n",
    "&nbsp;&nbsp;&nbsp;&nbsp;&nbsp;&nbsp;&nbsp;&nbsp;Llevas todo el día estudiando la materia de Programación funcional que ya no das más, por lo que decides ver <strike>muchas</strike> una película, sin embargo, hay tantas películas buenas como ’Buscando a Enzo’, ’Las 50 Sombras de Hernan’, ’Lo Que Benja Se Llevó', etc. que no logras decidirte. Luego de un rato, llegas a la brillante idea de crear un programa que te ayude a resolverlo, para esto ingresas a Prograflix a ver como puedes comenzar.\n",
    "\n",
    "<img src=\"img/prograflix.png\">\n",
    "\n",
    "&nbsp;&nbsp;&nbsp;&nbsp;&nbsp;&nbsp;&nbsp;&nbsp;El objetivo es realizar un sistema de consultas que te permita obtener información sobre películas y actores. Para esto, obtienes mágicamente la base de datos de <i>Prograflix</i> organizada en dos archivos especificados a continuación:\n",
    "    \n",
    "<ul>\n",
    "    <li><b>peliculas.txt:</b> Archivo de texto que contiene la información de las películas que puedes ver, de la forma: id, nombre, puntuacion, fecha_estreno, genero</li><br>\n",
    "    <li><b>actores.txt:</b> Archivo de texto que alberga la información de los artistas que trabajaron en las películas. Está distribuido de la forma: nombre_pelicula, nombre_actor, nombre_personaje.</li>\n",
    "</ul>\n",
    "\n",
    "Con esta información debes ser capaz de resolver las consultas especificadas siempre y cuando se cumpla lo siguiente:\n",
    "\n",
    "<ul>\n",
    "    <li>Tu solución debe ser realizada con <b>programación funcional</b></li><br>\n",
    "    <li>Quieres que tu programa no almacene el archivo en memoria, ergo, la lectura tendrá que ser sólamente mediante el uso de generadores</li><br>\n",
    "    <li>Cada película debe tener su propio id que debe estar implementado con <b>generadores</b>. El id es distinto al que trae la base de datos, para que puedas distinguirla con tu programa.</li><br>\n",
    "</ul>\n",
    "\n",
    "Luego, lo primero que debemos hacer es crear el id para las películas:\n",
    "</div>"
   ]
  },
  {
   "cell_type": "code",
   "execution_count": null,
   "metadata": {
    "collapsed": true
   },
   "outputs": [],
   "source": [
    "def id_pelicula():  # Debido al punto N°3\n",
    "    id_ = 0\n",
    "    while True:\n",
    "        yield id_\n",
    "        id_ += 1"
   ]
  },
  {
   "cell_type": "markdown",
   "metadata": {},
   "source": [
    "Procedemos a definir las películas y los actores:"
   ]
  },
  {
   "cell_type": "code",
   "execution_count": null,
   "metadata": {
    "collapsed": true
   },
   "outputs": [],
   "source": [
    "from collections import namedtuple\n",
    "\n",
    "\n",
    "Pelicula = namedtuple(\"Pelicula\", [\"id\", \"nombre\", \"puntuacion\", \"fecha_estreno\", \"genero\"])\n",
    "Actor = namedtuple(\"Actor\", \"nombre_pelicula nombre_actor nombre_personaje\")"
   ]
  },
  {
   "cell_type": "markdown",
   "metadata": {},
   "source": [
    "<div style=\"text-align: justify\">Ahora faltaría abrir los archivos para instanciar los actores y las películas. Hasta ahora solo hemos trabajado los archivos guardándolos en memoria mediante \"for's\" tediosos... pero qué tal si lo hacemos con listas por compresión:\n",
    "</div>"
   ]
  },
  {
   "cell_type": "code",
   "execution_count": null,
   "metadata": {},
   "outputs": [],
   "source": [
    "limpiador = lambda x: x.strip().split(\",\")\n",
    "gen_id = id_pelicula()\n",
    "\n",
    "\n",
    "with open(\"archivos/peliculas.txt\", \"r\", encoding=\"utf-8\") as linea:\n",
    "    PELICULAS = [Pelicula(next(gen_id), *limpiador(p)[1:]) for p in linea]\n",
    "        \n",
    "with open(\"archivos/actores.txt\", \"r\", encoding=\"utf-8\") as linea:\n",
    "    ACTORES = [Actor(*limpiador(a)) for a in linea]"
   ]
  },
  {
   "cell_type": "code",
   "execution_count": null,
   "metadata": {},
   "outputs": [],
   "source": [
    "for i, elem in enumerate(PELICULAS, 1):\n",
    "    if i > 5:\n",
    "        break\n",
    "    print(\"{}: {}\\n\".format(i, elem))\n"
   ]
  },
  {
   "cell_type": "code",
   "execution_count": null,
   "metadata": {},
   "outputs": [],
   "source": [
    "for i, elem in enumerate(ACTORES):\n",
    "    if i > 4:\n",
    "        break\n",
    "    print(\"{}: {}\\n\".format(i + 1, elem))"
   ]
  },
  {
   "cell_type": "markdown",
   "metadata": {},
   "source": [
    "________________________________________________________________________________\n",
    "Dentro de las consultas que nuestro programa debe soportar veremos los siguientes:\n",
    "\n",
    "* Crear el método <b>popular</b> que dado un número <b>n</b>, retorne todas las películas que tienen un rating superior a dicho valor."
   ]
  },
  {
   "cell_type": "code",
   "execution_count": null,
   "metadata": {
    "collapsed": true
   },
   "outputs": [],
   "source": [
    "def popular(pelis, n):\n",
    "    return filter(lambda x: float(x.puntuacion) >= n, pelis)"
   ]
  },
  {
   "cell_type": "code",
   "execution_count": null,
   "metadata": {},
   "outputs": [],
   "source": [
    "print([top.nombre for top in popular(PELICULAS, 20)])\n",
    "print('-' * 35)\n",
    "print('cosas', 'separadas', 'por', 'forma', 'normal', 'se', 'ven', 'asi')\n",
    "print('-' * 35)\n",
    "print('cosas', 'separadas', 'por', 'coma', 'se', 'ven', 'asi', sep=\",\")\n",
    "print('-' * 35)\n",
    "print(*[top.nombre for top in popular(PELICULAS, 20)])\n",
    "print('-' * 35)\n",
    "# Y aquí explicar lo del sep, porque los chicos pueden no saber la magia del sep\n",
    "print('cosas', 'separadas', 'por', 'guionBajo', 'se', 'ven', 'asi', sep='_')\n",
    "print('-' * 35)\n",
    "print(*[top.nombre for top in popular(PELICULAS, 20)], sep='\\n')"
   ]
  },
  {
   "cell_type": "markdown",
   "metadata": {},
   "source": [
    "________________________________________________________________________________\n",
    "* Cree la función **actores_genero** que retorne el **nombre** de todos los actores que actuaron en una película del **género** especificado. "
   ]
  },
  {
   "cell_type": "code",
   "execution_count": null,
   "metadata": {
    "collapsed": true
   },
   "outputs": [],
   "source": [
    "def actores_genero(genero, actores, peliculas):\n",
    "    peliculas_genero = filter(lambda p: p.genero == genero, peliculas)\n",
    "    nombres_p_genero = list(map(lambda p_gen: p_gen.nombre, peliculas_genero))\n",
    "    \n",
    "    actores_peliculas = filter(lambda a: a.nombre_pelicula in nombres_p_genero, actores)\n",
    "    actores_genero = map(lambda a_gen: a_gen.nombre_actor, actores_peliculas)\n",
    "    return actores_genero\n",
    "\n",
    "# Es lo mismo que hacer lo siguiente\n",
    "\n",
    "def actores_genero_simplificado(genero, actores, peliculas):\n",
    "    peliculas_genero = list(map(lambda p_gen: p_gen.nombre, filter(lambda p: p.genero == genero, peliculas)))\n",
    "    return map(lambda a_gen: a_gen.nombre_actor, filter(lambda a: a.nombre_pelicula in peliculas_genero, actores))"
   ]
  },
  {
   "cell_type": "code",
   "execution_count": null,
   "metadata": {},
   "outputs": [],
   "source": [
    "print(*list(actores_genero(\"Comedy\", ACTORES, PELICULAS))[:9], sep=\"\\n\")\n",
    "print(\"-\" * 35)\n",
    "print(*actores_genero(\"Comedy\", ACTORES, PELICULAS), sep=\"\\n\")"
   ]
  },
  {
   "cell_type": "markdown",
   "metadata": {},
   "source": [
    "________________________________________________________________________________\n",
    "* Crear el método <b>puntuacion_actor</b> que dado el <b>nombre de 'Hugh Jackman'</b>, retorna el promedio de la puntuación de las películas en las que ha participado."
   ]
  },
  {
   "cell_type": "code",
   "execution_count": null,
   "metadata": {
    "collapsed": true
   },
   "outputs": [],
   "source": [
    "from functools import reduce\n",
    "\n",
    "\n",
    "def puntuacion_actor(peliculas, actores, n_actor):\n",
    "    nombre_peliculas_actor = [a.nombre_pelicula for a in filter(lambda actor: actor.nombre_actor == n_actor, actores)]\n",
    "    \n",
    "    peliculas_actor = filter(lambda pelicula: pelicula.nombre in nombre_peliculas_actor, peliculas)\n",
    "    return reduce(lambda x, y: x + y, map(lambda p: float(p.puntuacion), peliculas_actor)) / len(nombre_peliculas_actor)\n",
    "    "
   ]
  },
  {
   "cell_type": "code",
   "execution_count": null,
   "metadata": {},
   "outputs": [],
   "source": [
    "print(\"Hugh Jackman's rating: {}\".format(puntuacion_actor(PELICULAS, ACTORES, \"Hugh Jackman\")))"
   ]
  },
  {
   "cell_type": "markdown",
   "metadata": {},
   "source": [
    "________________________________________________________________________________________________________________________________\n",
    "* Crear el método **puntuaciones_actores** que retorne el promedio de la puntuación de las películas en que cada actor ejerce su trabajo."
   ]
  },
  {
   "cell_type": "code",
   "execution_count": null,
   "metadata": {
    "collapsed": true
   },
   "outputs": [],
   "source": [
    "def puntuaciones_actores(peliculas, actores):\n",
    "    nombre_actores = {a.nombre_actor for a in actores}\n",
    "    return {n: puntuacion_actor(peliculas, actores, n) for n in nombre_actores}"
   ]
  },
  {
   "cell_type": "code",
   "execution_count": null,
   "metadata": {},
   "outputs": [],
   "source": [
    "puntuaciones_actores(PELICULAS, ACTORES)"
   ]
  },
  {
   "cell_type": "markdown",
   "metadata": {},
   "source": [
    "______________________________________________________________________________________________________________________________\n",
    "En caso de que queramos crear una función generadora que no almacene la menor cantidad de memoria podría ser útil la siguiente función que deberemos llamar cada vez que queramos hacer una consulta:"
   ]
  },
  {
   "cell_type": "code",
   "execution_count": null,
   "metadata": {
    "collapsed": true
   },
   "outputs": [],
   "source": [
    "def abrir_archivos(ruta_archivo):\n",
    "    with open(ruta_archivo, \"r\", encoding=\"utf-8\") as file:\n",
    "        for i in file:\n",
    "            yield limpiador(i)"
   ]
  },
  {
   "cell_type": "code",
   "execution_count": null,
   "metadata": {},
   "outputs": [],
   "source": [
    "abridor = abrir_archivos(\"archivos/peliculas.txt\")\n",
    "print(next(abridor))\n",
    "print(next(abridor))\n",
    "print(next(abridor))"
   ]
  },
  {
   "cell_type": "code",
   "execution_count": null,
   "metadata": {},
   "outputs": [],
   "source": [
    "for linea in abrir_archivos(\"archivos/peliculas.txt\"):\n",
    "    print(linea)"
   ]
  },
  {
   "cell_type": "code",
   "execution_count": null,
   "metadata": {
    "collapsed": true
   },
   "outputs": [],
   "source": []
  }
 ],
 "metadata": {
  "kernelspec": {
   "display_name": "Python 3",
   "language": "python",
   "name": "python3"
  },
  "language_info": {
   "codemirror_mode": {
    "name": "ipython",
    "version": 3
   },
   "file_extension": ".py",
   "mimetype": "text/x-python",
   "name": "python",
   "nbconvert_exporter": "python",
   "pygments_lexer": "ipython3",
   "version": "3.6.4"
  }
 },
 "nbformat": 4,
 "nbformat_minor": 2
}
