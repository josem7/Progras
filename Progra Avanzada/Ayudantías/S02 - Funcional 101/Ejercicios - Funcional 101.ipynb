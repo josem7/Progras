{
 "cells": [
  {
   "cell_type": "markdown",
   "metadata": {},
   "source": [
    "# Ejecicios de práctica\n",
    "\n",
    "Estos son algunos pocos ejercicios para que practiquen la materia de esta semana.\n",
    "\n",
    "Los \"enunciados\" serán hechos de instrucciones explícitas para que puedan guiarse fácilmente. Si tienen dudas, repasen la materia, busquen en Google y, si persiste, no duden en publicar una Issue.\n",
    "\n",
    "-----"
   ]
  },
  {
   "cell_type": "code",
   "execution_count": 44,
   "metadata": {},
   "outputs": [],
   "source": [
    "# Algunos imports útiles\n",
    "from collections import namedtuple\n",
    "from functools import reduce\n",
    "from collections import defaultdict"
   ]
  },
  {
   "cell_type": "markdown",
   "metadata": {},
   "source": [
    "### Ejercicio 1\n",
    "\n",
    "Se tiene una lista con números enteros del 0 al 9999. Haga un `filter` para obtener un generador con los números pares de la lista `lista_enteros`.\n",
    "\n",
    "PS: recuerde que `filter` retorna un generador."
   ]
  },
  {
   "cell_type": "code",
   "execution_count": 45,
   "metadata": {},
   "outputs": [],
   "source": [
    "lista_enteros = [entero for entero in range(2, 10000)]"
   ]
  },
  {
   "cell_type": "code",
   "execution_count": 46,
   "metadata": {},
   "outputs": [],
   "source": [
    "gen = filter(lambda x: x%2 == 0, lista_enteros)"
   ]
  },
  {
   "cell_type": "markdown",
   "metadata": {},
   "source": [
    "Existe una \"equivalencia\" entre `filter` y expresiones generadoras:\n",
    "\n",
    "`filter(condicion(x), iterable) <==> (x for x in iterable if condicion(x))`\n",
    "\n",
    "Haga una expresión generadora con los números **primos** de la lista `lista_enteros`. Se recomienda utilizar la función `es_primo(numero)`."
   ]
  },
  {
   "cell_type": "code",
   "execution_count": 47,
   "metadata": {},
   "outputs": [],
   "source": [
    "def es_primo(numero):\n",
    "    for n in range(2, numero):\n",
    "        if numero % n == 0:\n",
    "            return False\n",
    "    return True"
   ]
  },
  {
   "cell_type": "code",
   "execution_count": 48,
   "metadata": {},
   "outputs": [
    {
     "data": {
      "text/plain": [
       "7"
      ]
     },
     "execution_count": 48,
     "metadata": {},
     "output_type": "execute_result"
    }
   ],
   "source": [
    "exp_gen = (x for x in lista_enteros if es_primo(x))\n",
    "next(exp_gen)\n",
    "next(exp_gen)\n",
    "next(exp_gen)\n",
    "next(exp_gen)"
   ]
  },
  {
   "cell_type": "markdown",
   "metadata": {},
   "source": [
    "### Ejercicios 2\n",
    "\n",
    "Se tiene una lista de `Persona`s, las cuales ya se encuentran cargadas en la lista `lista_personas`. Debes, utilizando `map`, crear un generador que contenga los nombres de las personas.\n",
    "\n",
    "PS: recuerda que `map` retorna un generador."
   ]
  },
  {
   "cell_type": "code",
   "execution_count": 49,
   "metadata": {},
   "outputs": [],
   "source": [
    "Persona = namedtuple(\"Persona\", \"nombre apellido\")\n",
    "\n",
    "lista_personas = [Persona(\"Enzo\", \"Tamburini\"),\n",
    "                  Persona(\"Benjamín\", \"Cárcamo\"),\n",
    "                  Persona(\"Bastián\", \"Mavrakis\")]"
   ]
  },
  {
   "cell_type": "code",
   "execution_count": 50,
   "metadata": {},
   "outputs": [
    {
     "name": "stdout",
     "output_type": "stream",
     "text": [
      "['Enzo', 'Benjamín', 'Bastián']\n"
     ]
    }
   ],
   "source": [
    "gen_personas = map(lambda x: x.nombre ,lista_personas)\n",
    "print(list(gen_personas))"
   ]
  },
  {
   "cell_type": "markdown",
   "metadata": {},
   "source": [
    "Spoiler: Esto también se podría hacer con un generador por comprensión, tal como se muestra a continuación:\n",
    "\n",
    "`(persona.nombre for persona in lista_personas)`"
   ]
  },
  {
   "cell_type": "markdown",
   "metadata": {},
   "source": [
    "### Ejercicio 3\n",
    "\n",
    "Intente ver qué imprime el siguiente código:\n",
    "\n",
    "```\n",
    "ite1 = [2, 7, 1, 8, 2, 8, 2]     # e\n",
    "ite2 = [1, 4, 1, 4, 2, 1]        # raíz de 2\n",
    "ite3 = [3, 1, 4, 1, 5, 9, 2, 6]  # pi\n",
    "\n",
    "print(*zip(ite1, ite2, ite3))     \n",
    "print(*zip(*zip(ite1, ite2, ite3)))\n",
    "```"
   ]
  },
  {
   "cell_type": "code",
   "execution_count": 51,
   "metadata": {},
   "outputs": [
    {
     "name": "stdout",
     "output_type": "stream",
     "text": [
      "(2, 1, 3) (7, 4, 1) (1, 1, 4) (8, 4, 1) (2, 2, 5) (8, 1, 9)\n",
      "(2, 7, 1, 8, 2, 8) (1, 4, 1, 4, 2, 1) (3, 1, 4, 1, 5, 9)\n"
     ]
    }
   ],
   "source": [
    "ite1 = [2, 7, 1, 8, 2, 8, 2]     # e\n",
    "ite2 = [1, 4, 1, 4, 2, 1]        # raíz de 2\n",
    "ite3 = [3, 1, 4, 1, 5, 9, 2, 6]  # pi\n",
    "\n",
    "print(*zip(ite1, ite2, ite3))     \n",
    "print(*zip(*zip(ite1, ite2, ite3)))"
   ]
  },
  {
   "cell_type": "code",
   "execution_count": 52,
   "metadata": {},
   "outputs": [
    {
     "name": "stdout",
     "output_type": "stream",
     "text": [
      "1: (2,1,3), (7,4,1), (1,1,4), (8,4,1), (2,2,5), (8,1,9)\n",
      "2: (2,7,1,8,2,8), (1,4,1,4,2,1), (3,1,4,1,5,9)\n"
     ]
    }
   ],
   "source": [
    "# Pruebe aquí para ver si lo pensaste bien :\n",
    "print (\"1: (2,1,3), (7,4,1), (1,1,4), (8,4,1), (2,2,5), (8,1,9)\")\n",
    "print (\"2: (2,7,1,8,2,8), (1,4,1,4,2,1), (3,1,4,1,5,9)\")"
   ]
  },
  {
   "cell_type": "markdown",
   "metadata": {},
   "source": [
    "### Ejercicio 4\n",
    "\n",
    "Intente ver qué imprime el siguiente código:\n",
    "\n",
    "```\n",
    "def funcion_generadora():\n",
    "    s = \"Hola {}\"\n",
    "    yield s.format(\"amigo\")\n",
    "    while True:\n",
    "        s += \", ¿cómo están?\"\n",
    "        yield s.format(\"amiguitos\")\n",
    "            \n",
    "gen = funcion_generadora()\n",
    "\n",
    "next(gen)\n",
    "print(next(gen))\n",
    "```"
   ]
  },
  {
   "cell_type": "code",
   "execution_count": 53,
   "metadata": {},
   "outputs": [
    {
     "name": "stdout",
     "output_type": "stream",
     "text": [
      "Hola amiguitos, ¿cómo están?\n"
     ]
    }
   ],
   "source": [
    "def funcion_generadora():\n",
    "    s = \"Hola {}\"\n",
    "    yield s.format(\"amigo\")\n",
    "    while True:\n",
    "        s += \", ¿cómo están?\"\n",
    "        yield s.format(\"amiguitos\")\n",
    "\n",
    "gen = funcion_generadora()\n",
    "\n",
    "next(gen)\n",
    "print(next(gen))"
   ]
  },
  {
   "cell_type": "code",
   "execution_count": 54,
   "metadata": {},
   "outputs": [
    {
     "name": "stdout",
     "output_type": "stream",
     "text": [
      "Object `están` not found.\n"
     ]
    }
   ],
   "source": [
    "# Pruebe aquí para ver si lo pensaste bien :)\n",
    "hola amiguitos ¿cómo están?"
   ]
  },
  {
   "cell_type": "code",
   "execution_count": null,
   "metadata": {},
   "outputs": [],
   "source": [
    "hola amiguitos ¿cómo están"
   ]
  },
  {
   "cell_type": "markdown",
   "metadata": {},
   "source": [
    "### Ejercicio 5\n",
    "\n",
    "Haga un _refactor_ del siguiente código (\"traspásalo al paradigma funcional..\"):\n",
    "\n",
    "```\n",
    "def diccionalizador(*args):\n",
    "    diccionario_elementos = {}\n",
    "    i = 0\n",
    "    for elemento in args:\n",
    "        diccionario_elementos[i] = elemento\n",
    "        i += 1\n",
    "    return diccionario_elementos\n",
    "```\n",
    "\n",
    "Recuerde la existencia de las estructuras por comprensión y de la función `enumerate`."
   ]
  },
  {
   "cell_type": "code",
   "execution_count": 55,
   "metadata": {},
   "outputs": [
    {
     "data": {
      "text/plain": [
       "{0: Persona(nombre='Enzo', apellido='Tamburini'),\n",
       " 1: Persona(nombre='Benjamín', apellido='Cárcamo'),\n",
       " 2: Persona(nombre='Bastián', apellido='Mavrakis')}"
      ]
     },
     "execution_count": 55,
     "metadata": {},
     "output_type": "execute_result"
    }
   ],
   "source": [
    "def diccionalizador(*args):\n",
    "    diccionario_elementos = {}\n",
    "    diccionario_elementos = {indice: elemento for indice, elemento in enumerate(*args)}\n",
    "    return diccionario_elementos\n",
    "diccionalizador(lista_personas)\n"
   ]
  },
  {
   "cell_type": "code",
   "execution_count": 56,
   "metadata": {},
   "outputs": [
    {
     "data": {
      "text/plain": [
       "{0: [Persona(nombre='Enzo', apellido='Tamburini'),\n",
       "  Persona(nombre='Benjamín', apellido='Cárcamo'),\n",
       "  Persona(nombre='Bastián', apellido='Mavrakis')]}"
      ]
     },
     "execution_count": 56,
     "metadata": {},
     "output_type": "execute_result"
    }
   ],
   "source": [
    "def diccionalizador(*args):\n",
    "    diccionario_elementos = {}\n",
    "    i = 0\n",
    "    for elemento in args:\n",
    "        diccionario_elementos[i] = elemento\n",
    "        i += 1\n",
    "    return diccionario_elementos\n",
    "diccionalizador(lista_personas)"
   ]
  },
  {
   "cell_type": "markdown",
   "metadata": {},
   "source": [
    "### Ejercicio 6\n",
    "\n",
    "Se tiene una lista `lista_peliculas` con varias películas, las cuales tienen un `nombre` y un `genero`. Cree un `set` por comprensión para almacenar los nombres de las películas de género `\"Acción\"`."
   ]
  },
  {
   "cell_type": "code",
   "execution_count": 57,
   "metadata": {},
   "outputs": [],
   "source": [
    "Pelicula = namedtuple(\"Pelicula\", [\"título\", \"género\"])\n",
    "lista_peliculas = [Pelicula(\"Into the Woods\", \"Aventura\"),\n",
    "             Pelicula(\"American Sniper\",  \"Acción\"),\n",
    "             Pelicula(\"Birdman\", \"Comedia\"),\n",
    "             Pelicula(\"Boyhood\", \"Drama\"), \n",
    "             Pelicula(\"Taken 3\", \"Acción\"), \n",
    "             Pelicula(\"The Imitation Game\", \"Biografías\"),\n",
    "             Pelicula(\"Gone Girl\", \"Drama\")]"
   ]
  },
  {
   "cell_type": "code",
   "execution_count": 58,
   "metadata": {},
   "outputs": [
    {
     "name": "stdout",
     "output_type": "stream",
     "text": [
      "{'American Sniper', 'Taken 3'}\n"
     ]
    }
   ],
   "source": [
    "peliculas_accion = {p.título for p in lista_peliculas if p.género == \"Acción\"}\n",
    "print(peliculas_accion)"
   ]
  },
  {
   "cell_type": "markdown",
   "metadata": {},
   "source": [
    "Ahora, haga una función llamada `cant_peliculas_por_genero` que reciba la lista `lista_peliculas` y retorne un diccionario del tipo `{genero: cant_peliculas}`.\n"
   ]
  },
  {
   "cell_type": "code",
   "execution_count": 69,
   "metadata": {},
   "outputs": [
    {
     "data": {
      "text/plain": [
       "defaultdict(int,\n",
       "            {'Aventura': 1,\n",
       "             'Acción': 2,\n",
       "             'Comedia': 1,\n",
       "             'Drama': 2,\n",
       "             'Biografías': 1})"
      ]
     },
     "execution_count": 69,
     "metadata": {},
     "output_type": "execute_result"
    }
   ],
   "source": [
    "def cant_peliculas_por_genero(lista_pelicula):\n",
    "    dic = defaultdict(int)\n",
    "    lista_genero =map(lambda x: x.género, lista_pelicula)\n",
    "    for j in lista_genero:\n",
    "        dic[j] += 1\n",
    "    return dic\n",
    "cant_peliculas_por_genero(lista_peliculas)"
   ]
  },
  {
   "cell_type": "markdown",
   "metadata": {},
   "source": [
    "Spoiler: La función debe retornar:\n",
    "\n",
    "`{\"Aventura\": 1, \"Acción\": 2, \"Comedia\": 1, \"Drama\": 2, \"Biografías\": 1}`\n",
    "\n",
    "Omita el orden. Recuerde la función `reduce` y los `defaultdict`s."
   ]
  },
  {
   "cell_type": "markdown",
   "metadata": {},
   "source": [
    "### Ejercicio 7\n",
    "\n",
    "Se tiene un generador `varios_numeros` con varios números enteros. Haz una función `promedio_numeros` que reciba el generador y retorne el promedio (asuma que el generador es no vacío).\n",
    "\n",
    "PS: el método `mean` de la librería `statistics` puede resultarle útil."
   ]
  },
  {
   "cell_type": "code",
   "execution_count": 70,
   "metadata": {},
   "outputs": [],
   "source": [
    "def fibonacci():\n",
    "    a, b = 0, 1\n",
    "    while True: # Notar que este generador nunca \"se agota\"\n",
    "        yield b\n",
    "        a, b = b, a + b\n",
    "\n",
    "generador = fibonacci()\n",
    "        \n",
    "varios_numeros = (next(generador) for x in range(10000))"
   ]
  },
  {
   "cell_type": "code",
   "execution_count": 83,
   "metadata": {},
   "outputs": [
    {
     "ename": "TypeError",
     "evalue": "'int' object is not iterable",
     "output_type": "error",
     "traceback": [
      "\u001b[1;31m---------------------------------------------------------------------------\u001b[0m",
      "\u001b[1;31mTypeError\u001b[0m                                 Traceback (most recent call last)",
      "\u001b[1;32m<ipython-input-83-8587d05c6223>\u001b[0m in \u001b[0;36m<module>\u001b[1;34m()\u001b[0m\n\u001b[0;32m      3\u001b[0m     \u001b[0ma\u001b[0m \u001b[1;33m=\u001b[0m \u001b[0mreduce\u001b[0m\u001b[1;33m(\u001b[0m\u001b[1;32mlambda\u001b[0m \u001b[0mx\u001b[0m\u001b[1;33m,\u001b[0m\u001b[0my\u001b[0m\u001b[1;33m:\u001b[0m \u001b[0mmean\u001b[0m\u001b[1;33m(\u001b[0m\u001b[0mx\u001b[0m\u001b[1;33m+\u001b[0m\u001b[0my\u001b[0m\u001b[1;33m)\u001b[0m \u001b[1;33m,\u001b[0m \u001b[0mgenerador\u001b[0m\u001b[1;33m)\u001b[0m\u001b[1;33m\u001b[0m\u001b[0m\n\u001b[0;32m      4\u001b[0m     \u001b[1;32mreturn\u001b[0m \u001b[0ma\u001b[0m\u001b[1;33m\u001b[0m\u001b[0m\n\u001b[1;32m----> 5\u001b[1;33m \u001b[0mpromedio_numeros\u001b[0m\u001b[1;33m(\u001b[0m\u001b[0mvarios_numeros\u001b[0m\u001b[1;33m)\u001b[0m\u001b[1;33m\u001b[0m\u001b[0m\n\u001b[0m",
      "\u001b[1;32m<ipython-input-83-8587d05c6223>\u001b[0m in \u001b[0;36mpromedio_numeros\u001b[1;34m(generador)\u001b[0m\n\u001b[0;32m      1\u001b[0m \u001b[1;32mfrom\u001b[0m \u001b[0mstatistics\u001b[0m \u001b[1;32mimport\u001b[0m \u001b[0mmean\u001b[0m\u001b[1;33m\u001b[0m\u001b[0m\n\u001b[0;32m      2\u001b[0m \u001b[1;32mdef\u001b[0m \u001b[0mpromedio_numeros\u001b[0m\u001b[1;33m(\u001b[0m\u001b[0mgenerador\u001b[0m\u001b[1;33m)\u001b[0m\u001b[1;33m:\u001b[0m\u001b[1;33m\u001b[0m\u001b[0m\n\u001b[1;32m----> 3\u001b[1;33m     \u001b[0ma\u001b[0m \u001b[1;33m=\u001b[0m \u001b[0mreduce\u001b[0m\u001b[1;33m(\u001b[0m\u001b[1;32mlambda\u001b[0m \u001b[0mx\u001b[0m\u001b[1;33m,\u001b[0m\u001b[0my\u001b[0m\u001b[1;33m:\u001b[0m \u001b[0mmean\u001b[0m\u001b[1;33m(\u001b[0m\u001b[0mx\u001b[0m\u001b[1;33m+\u001b[0m\u001b[0my\u001b[0m\u001b[1;33m)\u001b[0m \u001b[1;33m,\u001b[0m \u001b[0mgenerador\u001b[0m\u001b[1;33m)\u001b[0m\u001b[1;33m\u001b[0m\u001b[0m\n\u001b[0m\u001b[0;32m      4\u001b[0m     \u001b[1;32mreturn\u001b[0m \u001b[0ma\u001b[0m\u001b[1;33m\u001b[0m\u001b[0m\n\u001b[0;32m      5\u001b[0m \u001b[0mpromedio_numeros\u001b[0m\u001b[1;33m(\u001b[0m\u001b[0mvarios_numeros\u001b[0m\u001b[1;33m)\u001b[0m\u001b[1;33m\u001b[0m\u001b[0m\n",
      "\u001b[1;32m<ipython-input-83-8587d05c6223>\u001b[0m in \u001b[0;36m<lambda>\u001b[1;34m(x, y)\u001b[0m\n\u001b[0;32m      1\u001b[0m \u001b[1;32mfrom\u001b[0m \u001b[0mstatistics\u001b[0m \u001b[1;32mimport\u001b[0m \u001b[0mmean\u001b[0m\u001b[1;33m\u001b[0m\u001b[0m\n\u001b[0;32m      2\u001b[0m \u001b[1;32mdef\u001b[0m \u001b[0mpromedio_numeros\u001b[0m\u001b[1;33m(\u001b[0m\u001b[0mgenerador\u001b[0m\u001b[1;33m)\u001b[0m\u001b[1;33m:\u001b[0m\u001b[1;33m\u001b[0m\u001b[0m\n\u001b[1;32m----> 3\u001b[1;33m     \u001b[0ma\u001b[0m \u001b[1;33m=\u001b[0m \u001b[0mreduce\u001b[0m\u001b[1;33m(\u001b[0m\u001b[1;32mlambda\u001b[0m \u001b[0mx\u001b[0m\u001b[1;33m,\u001b[0m\u001b[0my\u001b[0m\u001b[1;33m:\u001b[0m \u001b[0mmean\u001b[0m\u001b[1;33m(\u001b[0m\u001b[0mx\u001b[0m\u001b[1;33m+\u001b[0m\u001b[0my\u001b[0m\u001b[1;33m)\u001b[0m \u001b[1;33m,\u001b[0m \u001b[0mgenerador\u001b[0m\u001b[1;33m)\u001b[0m\u001b[1;33m\u001b[0m\u001b[0m\n\u001b[0m\u001b[0;32m      4\u001b[0m     \u001b[1;32mreturn\u001b[0m \u001b[0ma\u001b[0m\u001b[1;33m\u001b[0m\u001b[0m\n\u001b[0;32m      5\u001b[0m \u001b[0mpromedio_numeros\u001b[0m\u001b[1;33m(\u001b[0m\u001b[0mvarios_numeros\u001b[0m\u001b[1;33m)\u001b[0m\u001b[1;33m\u001b[0m\u001b[0m\n",
      "\u001b[1;32mc:\\users\\josed\\appdata\\local\\programs\\python\\python36-32\\lib\\statistics.py\u001b[0m in \u001b[0;36mmean\u001b[1;34m(data)\u001b[0m\n\u001b[0;32m    305\u001b[0m     \u001b[0mIf\u001b[0m\u001b[0;31m \u001b[0m\u001b[0;31m`\u001b[0m\u001b[0;31m`\u001b[0m\u001b[0mdata\u001b[0m\u001b[0;31m`\u001b[0m\u001b[0;31m`\u001b[0m \u001b[1;32mis\u001b[0m \u001b[0mempty\u001b[0m\u001b[1;33m,\u001b[0m \u001b[0mStatisticsError\u001b[0m \u001b[0mwill\u001b[0m \u001b[0mbe\u001b[0m \u001b[0mraised\u001b[0m\u001b[1;33m.\u001b[0m\u001b[1;33m\u001b[0m\u001b[0m\n\u001b[0;32m    306\u001b[0m     \"\"\"\n\u001b[1;32m--> 307\u001b[1;33m     \u001b[1;32mif\u001b[0m \u001b[0miter\u001b[0m\u001b[1;33m(\u001b[0m\u001b[0mdata\u001b[0m\u001b[1;33m)\u001b[0m \u001b[1;32mis\u001b[0m \u001b[0mdata\u001b[0m\u001b[1;33m:\u001b[0m\u001b[1;33m\u001b[0m\u001b[0m\n\u001b[0m\u001b[0;32m    308\u001b[0m         \u001b[0mdata\u001b[0m \u001b[1;33m=\u001b[0m \u001b[0mlist\u001b[0m\u001b[1;33m(\u001b[0m\u001b[0mdata\u001b[0m\u001b[1;33m)\u001b[0m\u001b[1;33m\u001b[0m\u001b[0m\n\u001b[0;32m    309\u001b[0m     \u001b[0mn\u001b[0m \u001b[1;33m=\u001b[0m \u001b[0mlen\u001b[0m\u001b[1;33m(\u001b[0m\u001b[0mdata\u001b[0m\u001b[1;33m)\u001b[0m\u001b[1;33m\u001b[0m\u001b[0m\n",
      "\u001b[1;31mTypeError\u001b[0m: 'int' object is not iterable"
     ]
    }
   ],
   "source": [
    "from statistics import mean\n",
    "def promedio_numeros(generador):\n",
    "    a = reduce(lambda x,y: mean(x+y) , generador)\n",
    "    return a\n",
    "promedio_numeros(varios_numeros)"
   ]
  },
  {
   "cell_type": "markdown",
   "metadata": {},
   "source": [
    "### Ejercicio 8\n",
    "\n",
    "Haga una función `lambda` que reciba 2 argumentos `x` e `y` y que retorne la suma de `x` e `y`. "
   ]
  },
  {
   "cell_type": "code",
   "execution_count": 85,
   "metadata": {},
   "outputs": [
    {
     "data": {
      "text/plain": [
       "5"
      ]
     },
     "execution_count": 85,
     "metadata": {},
     "output_type": "execute_result"
    }
   ],
   "source": [
    "suma = lambda x,y: x+y\n",
    "suma(2,3)"
   ]
  },
  {
   "cell_type": "markdown",
   "metadata": {},
   "source": [
    "### Ejercicio 9\n",
    "\n",
    "Haga una función `funcion_flexible` que pueda recibir un número variable de argumentos. Imprima todos junto con posición. Un ejemplo de _input_ y _output_:\n",
    "\n",
    "```\n",
    ">>  funcion_flexible(\"hola\", 5, True)\n",
    "(0, 'hola') (1, 5) (2, True)\n",
    "```"
   ]
  },
  {
   "cell_type": "code",
   "execution_count": 94,
   "metadata": {},
   "outputs": [
    {
     "name": "stdout",
     "output_type": "stream",
     "text": [
      "('hola', 5, True, 'chao')\n",
      "0: hola\n",
      "1: 5\n",
      "2: True\n",
      "3: chao\n"
     ]
    }
   ],
   "source": [
    "def funcion_flexible(*args):\n",
    "    print(args)\n",
    "    for indice, elemento in enumerate(args):\n",
    "         print(f\"{indice}: {elemento}\")\n",
    "\n",
    "funcion_flexible(\"hola\", 5, True, \"chao\")"
   ]
  },
  {
   "cell_type": "markdown",
   "metadata": {},
   "source": [
    "### Ejercicio 10\n",
    "\n",
    "Haga una función `funcion_flexible` que pueda recibir un número variable de números enteros (asuma que siempre recibe al menos 2 números enteros). Luego, obtenga la suma utilizando `reduce` y retórnela."
   ]
  },
  {
   "cell_type": "code",
   "execution_count": 96,
   "metadata": {},
   "outputs": [
    {
     "data": {
      "text/plain": [
       "24"
      ]
     },
     "execution_count": 96,
     "metadata": {},
     "output_type": "execute_result"
    }
   ],
   "source": [
    "# Haga su solución aquí\n",
    "def funcion_flexible(*args):\n",
    "    return reduce(lambda x,y: x+y, args)\n",
    "funcion_flexible(2, 3, 5, 6 ,8)"
   ]
  },
  {
   "cell_type": "code",
   "execution_count": null,
   "metadata": {},
   "outputs": [],
   "source": []
  }
 ],
 "metadata": {
  "kernelspec": {
   "display_name": "Python 3",
   "language": "python",
   "name": "python3"
  },
  "language_info": {
   "codemirror_mode": {
    "name": "ipython",
    "version": 3
   },
   "file_extension": ".py",
   "mimetype": "text/x-python",
   "name": "python",
   "nbconvert_exporter": "python",
   "pygments_lexer": "ipython3",
   "version": "3.6.4"
  }
 },
 "nbformat": 4,
 "nbformat_minor": 2
}
