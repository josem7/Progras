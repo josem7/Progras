{
 "cells": [
  {
   "cell_type": "markdown",
   "metadata": {},
   "source": [
    "# Ayudantía 03: Decoradores"
   ]
  },
  {
   "cell_type": "markdown",
   "metadata": {},
   "source": [
    "#### Gabriel Lyon y Pablo Olea"
   ]
  },
  {
   "cell_type": "markdown",
   "metadata": {},
   "source": [
    "## Decoradores\n",
    "- ¿Qué son los decoradores?\n",
    "- ¿Qué recibe como argumento?\n",
    "- ¿Qué retorna?\n",
    "- ¿Cuál es la utilidad de un decorador?"
   ]
  },
  {
   "cell_type": "markdown",
   "metadata": {},
   "source": [
    "## Cómo construir un decorador"
   ]
  },
  {
   "cell_type": "markdown",
   "metadata": {},
   "source": [
    "### Ejemplo 1"
   ]
  },
  {
   "cell_type": "code",
   "execution_count": 2,
   "metadata": {},
   "outputs": [],
   "source": [
    "# -------------------\n",
    "# Función decoradora\n",
    "# -------------------\n",
    "def decorador_msjes(fn):\n",
    "    def msje_con_tags(*args, **kwargs): # Que es *args y **kwargs?\n",
    "        return \"<H>{}</H>\".format(fn(*args, **kwargs))\n",
    "    return decorador_msjes # Aquí se retorna la función como objeto\n",
    "\n",
    "# -------------------\n",
    "# Función a decorar\n",
    "# -------------------\n",
    "@decorador_msjes\n",
    "def saludo_miembro(nombre):\n",
    "    return \"Hola {}! Bienvenido(a) de vuelta!\".format(nombre)\n",
    "\n",
    "@decorador_msjes\n",
    "def msje_advertencia(warning):\n",
    "    return \"Advertencia! : {}\".format(warning)"
   ]
  },
  {
   "cell_type": "markdown",
   "metadata": {},
   "source": [
    "### Cómo construir un decorador con argumentos : Envolturas"
   ]
  },
  {
   "cell_type": "markdown",
   "metadata": {},
   "source": [
    "### Ejemplo 2"
   ]
  },
  {
   "cell_type": "code",
   "execution_count": null,
   "metadata": {},
   "outputs": [],
   "source": [
    "# -------------------\n",
    "# Función decoradora\n",
    "# -------------------\n",
    "def wrapper_mensajes_tag(tag) # Pasamos como argumento el tag que queremos usar\n",
    "    # Aquí podemos usar los argumentos del wrapper para nuestro decorador\n",
    "    def decorador_msjes_tag(fn):\n",
    "        def msje_tags_distintos(*args, **kwargs):\n",
    "            return \"<0>{1}</0>\".format(tag, fn(*args, **kwargs))\n",
    "        return msje_tags_distintos # Aquí se retorna la función como objeto\n",
    "    return decorador_msjes_tag # Aquí se devuelve el decorador mismo\n",
    "\n",
    "# -------------------\n",
    "# Función a decorar\n",
    "# -------------------\n",
    "@wrapper_mensajes_tag(\"p\")\n",
    "def saludo_miembro(nombre):\n",
    "    return \"Hola {}! Bienvenido(a) de vuelta!\".format(nombre)\n",
    "\n",
    "@wrapper_mensajes_tag(\"h\")\n",
    "def msje_advertencia(warning):\n",
    "    return \"Advertencia! : {}\".format(warning)"
   ]
  },
  {
   "cell_type": "markdown",
   "metadata": {},
   "source": [
    "## Actividad 06 2018-1"
   ]
  },
  {
   "cell_type": "markdown",
   "metadata": {},
   "source": [
    "## Enunciado"
   ]
  },
  {
   "cell_type": "markdown",
   "metadata": {},
   "source": [
    "Jeff Musk, CEO de la empresa *Programazon*, se fue de viaje y volvió para encontrar que la base de datos de su sistema de ventas había sido modificado por error. Lamentablemente como CEO de la compañia, no programa *software* hace mucho tiempo; por esto, decidió llamar a los estudiantes de Programación Avanzada, pidiendo ayuda. Para que Jeff Reconozca las funciones arregladas deberá modificarlas utilizando **decoradores**. "
   ]
  },
  {
   "cell_type": "markdown",
   "metadata": {},
   "source": [
    "### Funciones del programa\n",
    "\n",
    "#### No debes modificar estas funciones, solo debes decorarlas.\n",
    "\n",
    "\n",
    "\n",
    "* `procesar(línea)`: retorna un iterable de strings que se encuentran en una línea separados por \";\"\n",
    "\n",
    "\n",
    "\n",
    "* `leer_archivo(filepath)`: es una función generadora que retorna un diccionario de la forma {nombre_producto: precio} por línea de un archivo filepath.\n",
    "\n",
    "\n",
    "* `cargar_productos(filepath)`: retorna un diccionario con todos los productos disponibles en la base de datos.\n",
    "\n",
    "\n",
    "* `abonar(monto, saldo)`: dado un monto y un saldo, la función retorna el saldo actualizado según el monto\n",
    "\n",
    "\n",
    "* `agregar_al_carro(carro, producos_tienda, productos)`: recibe una lista, un diccionario con todos los productos disponibles y un iterable de productos que se quieren agregar, la función verifica que los productos estén disponibles y se puedan agregar al carro de ser así.\n",
    "\n",
    "\n",
    "* `pagar(carro, productos_tienda, saldo)`: recibe una lista con productos, un diccionario con todos los productos disponibles y un saldo. Verifica que se puedan pagar todos los productos con el saldo. Además, vacía el carro y descuenta el saldo según la compra hecha. Finalmente, retorna una **tupla** con el carro vacío y el nuevo saldo si la compra fue un éxito, de lo contrario, retorna None."
   ]
  },
  {
   "cell_type": "markdown",
   "metadata": {},
   "source": [
    "## Programa Principal a decorar"
   ]
  },
  {
   "cell_type": "code",
   "execution_count": 2,
   "metadata": {},
   "outputs": [],
   "source": [
    "def procesar(línea):\n",
    "    return línea.rstrip('\\n').split(';')\n",
    "\n",
    "\n",
    "def leer_archivo(filepath):\n",
    "    with open(filepath, mode='r', encoding='UTF-8') as archivo:\n",
    "        for línea in archivo:\n",
    "            nombre, precio = procesar(línea)\n",
    "            yield {nombre: int(precio)}\n",
    "            \n",
    "\n",
    "def cargar_productos(filepath):\n",
    "    productos = {}\n",
    "    for ítem in leer_archivo(filepath):\n",
    "        productos.update(ítem)\n",
    "    return productos\n",
    "\n",
    "\n",
    "def abonar(monto, saldo):\n",
    "    saldo += monto\n",
    "    print(\"Saldo actual: {}\".format(saldo))\n",
    "    return saldo\n",
    "\n",
    "\n",
    "def agregar_al_carro(carro, producos_tienda, productos):\n",
    "    for ítem in productos:\n",
    "        if ítem not in producos_tienda:\n",
    "            print(\"El producto '{}' no existe.\".format(ítem))\n",
    "        else:\n",
    "            print(\"El producto '{}' ha sido agregado.\".format(ítem))\n",
    "            carro.append(ítem)\n",
    "    return carro\n",
    "\n",
    "\n",
    "def pagar(carro, productos_tienda, saldo):\n",
    "    if not carro:\n",
    "        print(\"El carro está vacío.\")\n",
    "        return None\n",
    "\n",
    "    total = sum(productos_tienda[ítem] for ítem in carro)\n",
    "\n",
    "    if saldo < total:\n",
    "        print(\"Falta dinero, amigue.\")\n",
    "        return None\n",
    "\n",
    "    print(\"Compra satisfactoria.\")\n",
    "    carro = []\n",
    "    nuevo_saldo = abonar(-total, saldo)\n",
    "\n",
    "    return (carro, nuevo_saldo)"
   ]
  },
  {
   "cell_type": "markdown",
   "metadata": {},
   "source": [
    "## Decoradores"
   ]
  },
  {
   "cell_type": "markdown",
   "metadata": {},
   "source": [
    "* `invertir_string` Corrige el comportamiento de la función **procesar**. Una forma de hacerlo es invirtiendo el orden del primer elemento que retorna la función decorada."
   ]
  },
  {
   "cell_type": "code",
   "execution_count": null,
   "metadata": {},
   "outputs": [],
   "source": [
    "def invertir_string(func):\n",
    "    pass"
   ]
  },
  {
   "cell_type": "markdown",
   "metadata": {},
   "source": [
    "* `verificar_tipos(tipo_1, ..., tipo_i, ..., tipo_n)` Dada una función, se verifica que los argumentos recibidos sean de los tipos indicados en las parámetros del decorador. En caso de que ocurra alguno de los siguientes errores, se debe imprimir un mensaje indicando el error y retornar False.\n",
    "    * Si algún argumento no es del tipo especificado.\n",
    "    * Si la cantidad de argumentos ingresados en el decorador no coincide con la cantidad de elementos que recibe la función decorada."
   ]
  },
  {
   "cell_type": "code",
   "execution_count": null,
   "metadata": {},
   "outputs": [],
   "source": [
    "def verificar_tipos(*tipos):\n",
    "    pass"
   ]
  },
  {
   "cell_type": "markdown",
   "metadata": {},
   "source": [
    "* `registrar`: Cada vez que una función decorada por **registrar** sea ejecutada, se debe guardar en el archivo **registro.txt** un registro con: el nombre de la función a la que se le aplica el decorador y el resultado retornado. Si el archivo ya existe entonces el registro debe agregarse como una nueva línea, **HINT**: __name__ retorna el nombre de una función."
   ]
  },
  {
   "cell_type": "code",
   "execution_count": null,
   "metadata": {},
   "outputs": [],
   "source": [
    "def registrar(func):\n",
    "    pass"
   ]
  },
  {
   "cell_type": "markdown",
   "metadata": {},
   "source": [
    "## Decorando funciones"
   ]
  },
  {
   "cell_type": "markdown",
   "metadata": {},
   "source": [
    "   * Para no perder ganancias debes registrar en un log de eventos cada vez que una función relacionada con ventas o movimientos de dinero sea ejecutada\n",
    "\n",
    "   * El sistema no acepta abonos de dinero si es que los montos o saldos ingresados no son números enteros. Por lo tanto, se deben controlar en la función `abonar` que los argumentos sean **enteros**.\n",
    "   \n",
    "   * Al momento de pagar se debe verificar que el formato del carro, los productos disponibles y el saldo sean los correctos. El carro debe ser una **lista**, los productos disponibles deben venir en un **diccionario** y el saldo debe ser un **entero**.\n",
    "   \n",
    "   * Cada línea de la base de datos debería ser de la forma producto:precio, sin embargo ha quedado de la forma **otcudorp:precio**. Por lo tanto, la función `procesar` debe retornar el nombre del producto de forma correcta."
   ]
  },
  {
   "cell_type": "code",
   "execution_count": null,
   "metadata": {},
   "outputs": [],
   "source": []
  },
  {
   "cell_type": "markdown",
   "metadata": {},
   "source": [
    "## Probando los resultados"
   ]
  },
  {
   "cell_type": "code",
   "execution_count": 10,
   "metadata": {},
   "outputs": [],
   "source": [
    "productos_prograzom = cargar_productos(\"productos.csv\")\n",
    "print(productos_prograzom)"
   ]
  },
  {
   "cell_type": "code",
   "execution_count": 7,
   "metadata": {},
   "outputs": [],
   "source": [
    "carro_polea = []\n",
    "saldo_polea = 0\n",
    "saldo_polea = abonar(2000, saldo_polea)\n",
    "productos_a_comprar = [\"libro\", \"disco\"]"
   ]
  },
  {
   "cell_type": "code",
   "execution_count": 13,
   "metadata": {},
   "outputs": [],
   "source": [
    "agregar_al_carro(carro_polea, productos_prograzom, productos_a_comprar)\n",
    "print(carro_polea)\n",
    "datos_actualizados = pagar(carro_polea, productos_prograzom, saldo_polea)\n",
    "print(datos_actualizados)"
   ]
  },
  {
   "cell_type": "markdown",
   "metadata": {},
   "source": [
    "## Feedback Ayudantía\n",
    "\n",
    "### Por favor responder el feedback de la ayudantía (Comentarios, sugerencias, opiniones).\n",
    "https://docs.google.com/forms/d/1rublnCunwYWYe2QxARiND1hS9WJ9jKLE6WJilA7rRvE"
   ]
  }
 ],
 "metadata": {
  "kernelspec": {
   "display_name": "Python 3",
   "language": "python",
   "name": "python3"
  },
  "language_info": {
   "codemirror_mode": {
    "name": "ipython",
    "version": 3
   },
   "file_extension": ".py",
   "mimetype": "text/x-python",
   "name": "python",
   "nbconvert_exporter": "python",
   "pygments_lexer": "ipython3",
   "version": "3.6.4"
  }
 },
 "nbformat": 4,
 "nbformat_minor": 2
}
