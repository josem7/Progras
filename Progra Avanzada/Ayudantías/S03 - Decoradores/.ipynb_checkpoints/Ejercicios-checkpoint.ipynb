{
 "cells": [
  {
   "cell_type": "markdown",
   "metadata": {},
   "source": [
    "# Ejercicios\n",
    "\n",
    "Recuerden que los decoradores son funciones normales, que añaden o cambian levemente el comportamiento de otras funciones.\n",
    "\n",
    "El esqueleto típico de un decorador `decorador_generico` sería algo como esto:\n",
    "\n",
    "```python\n",
    "def decorador_generico(funcion):\n",
    "    def nueva_funcion(*args, **kwargs):\n",
    "        # Añadir funcionalidad\n",
    "        retorno_de_la_funcion = funcion(*args, **kwargs)\n",
    "        # Hacer algo con el retorno\n",
    "        return retorno_de_la_funcion\n",
    "    return nueva_funcion\n",
    "```\n",
    "\n",
    "---"
   ]
  },
  {
   "cell_type": "markdown",
   "metadata": {},
   "source": [
    "### Ejercicio 1\n",
    "\n",
    "Haga un decorador para la función `generador`, para que retorne su contenido como un `deque`."
   ]
  },
  {
   "cell_type": "code",
   "execution_count": null,
   "metadata": {},
   "outputs": [],
   "source": [
    "def generador(N):\n",
    "    for i in range(N):\n",
    "        if not i % 2:\n",
    "            yield i"
   ]
  },
  {
   "cell_type": "code",
   "execution_count": null,
   "metadata": {},
   "outputs": [],
   "source": [
    "from collections import deque\n",
    "def decorador_generico(funcion):\n",
    "    def nueva_funcion(*args, **kwargs):\n",
    "        retorno_de_la_funcion = funcion(*args, **kwargs)\n",
    "        return retorno_de_la_funcion\n",
    "    return nueva_funcion"
   ]
  },
  {
   "cell_type": "markdown",
   "metadata": {},
   "source": [
    "### Ejercicio 2\n",
    "\n",
    "Se tiene una función `funcion_demorona` que se demora bastante y los jefes quieren saber exactamente cuánto se está demorando. Haz un decorador que imprima el tiempo que se toma la ejecución de las funciones que decora."
   ]
  },
  {
   "cell_type": "code",
   "execution_count": null,
   "metadata": {},
   "outputs": [],
   "source": [
    "import time\n",
    "import random\n",
    "\n",
    "def funcion_demorona(a, b = 5):\n",
    "    time.sleep(random.randint(1, 10))\n",
    "    return a * b"
   ]
  },
  {
   "cell_type": "code",
   "execution_count": null,
   "metadata": {},
   "outputs": [],
   "source": [
    "# Escriba su respuesta aquí"
   ]
  },
  {
   "cell_type": "markdown",
   "metadata": {},
   "source": [
    "### Ejercicio 3\n",
    "\n",
    "Se tiene la siguiente decoración por _sugar syntax_.\n",
    "\n",
    "```python\n",
    "@h\n",
    "@g\n",
    "def funcion(x):\n",
    "  pass\n",
    "```\n",
    "\n",
    "Su trabajo es realizar la decoración sin uso de azucar sintáctico."
   ]
  },
  {
   "cell_type": "code",
   "execution_count": null,
   "metadata": {},
   "outputs": [],
   "source": [
    "# Pruebe su respuesta aquí."
   ]
  },
  {
   "cell_type": "markdown",
   "metadata": {},
   "source": [
    "### Ejercicio 4\n",
    "\n",
    "Se tiene la siguiente decoración por _sugar syntax_.\n",
    "\n",
    "```python\n",
    "@decorador(print)\n",
    "def funcion(x):\n",
    "  pass\n",
    "```\n",
    "\n",
    "Su trabajo es realizar la decoración sin uso de azucar sintáctico."
   ]
  },
  {
   "cell_type": "code",
   "execution_count": null,
   "metadata": {},
   "outputs": [],
   "source": [
    "# Pruebe su respuesta aquí."
   ]
  },
  {
   "cell_type": "markdown",
   "metadata": {},
   "source": [
    "### Ejercicio 5\n",
    "\n",
    "Haga un decorador `ejecutor` que aplique una función dada como argumento al retorno de la función original.\n",
    "\n",
    "Por ejemplo, si la función entregada es `print`:\n",
    "\n",
    "```python\n",
    "@ejecutor(print)\n",
    "def funcion_de_ejemplo(numero):\n",
    "    return numero ** numero\n",
    "\n",
    "funcion_de_ejemplo(2) # Imprime 4\n",
    "```\n",
    "\n",
    "Si la función es otra, debiese ejecutarla sobre el output:\n",
    "\n",
    "```python\n",
    "@ejecutor(list)\n",
    "def funcion_de_ejemplo(numero):\n",
    "    return numero ** numero\n",
    "\n",
    "print(funcion_de_ejemplo(3)) # Imprime [27]\n",
    "```"
   ]
  },
  {
   "cell_type": "code",
   "execution_count": null,
   "metadata": {},
   "outputs": [],
   "source": [
    "# Haga su solución aquí"
   ]
  },
  {
   "cell_type": "markdown",
   "metadata": {},
   "source": [
    "### Ejercicio 6\n",
    "\n",
    "Indique el _output_ del siguiente _snippet_.\n",
    "\n",
    "```python\n",
    "def decorador(p1, p2):\n",
    "    def _decorador(f):\n",
    "        def wrapper(*args, **kwargs):\n",
    "            r = f(*args, **kwargs)\n",
    "            return r * p1 + p2\n",
    "        return wrapper\n",
    "    return _decorador\n",
    "    \n",
    "@decorador(6, 1)\n",
    "def f1(a, b, c):\n",
    "    return a // b - c\n",
    "    \n",
    "@decorador(2, [2, 1, 4])\n",
    "def f2(a, b, c):\n",
    "    return list(filter(lambda x: a < x < b, c))\n",
    "    \n",
    "print(f1(1, 4, 5))\n",
    "print(f2(1, 4, range(1, 10)))\n",
    "```"
   ]
  },
  {
   "cell_type": "code",
   "execution_count": null,
   "metadata": {},
   "outputs": [],
   "source": [
    "# Pruebe aquí si estaba en lo correcto"
   ]
  },
  {
   "cell_type": "markdown",
   "metadata": {},
   "source": [
    "### Ejercicio 7\n",
    "\n",
    "Indique el _output_ del siguiente programa:\n",
    "\n",
    "```python\n",
    "def mi_dec(f):\n",
    "    def interno(*args, **kwargs):\n",
    "        print(\"Los argumentos son: {0} {1}\\n\".format(*args,**kwargs))\n",
    "        return f(*args,**kwargs)\n",
    "    return interno\n",
    "\n",
    "@mi_dec\n",
    "def f_1(x, y=1):\n",
    "    return (x + 1) ** y\n",
    "\n",
    "def f_2(x, y):\n",
    "    return x * y\n",
    "\n",
    "print(f_1(1,2))\n",
    "print(f_2(2,2))\n",
    "```"
   ]
  },
  {
   "cell_type": "code",
   "execution_count": null,
   "metadata": {},
   "outputs": [],
   "source": [
    "# Pruebe aquí si estaba en lo correcto"
   ]
  }
 ],
 "metadata": {
  "kernelspec": {
   "display_name": "Python 3",
   "language": "python",
   "name": "python3"
  },
  "language_info": {
   "codemirror_mode": {
    "name": "ipython",
    "version": 3
   },
   "file_extension": ".py",
   "mimetype": "text/x-python",
   "name": "python",
   "nbconvert_exporter": "python",
   "pygments_lexer": "ipython3",
   "version": "3.6.4"
  }
 },
 "nbformat": 4,
 "nbformat_minor": 2
}
