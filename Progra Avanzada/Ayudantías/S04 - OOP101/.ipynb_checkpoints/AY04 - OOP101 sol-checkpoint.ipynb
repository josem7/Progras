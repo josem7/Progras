{
 "cells": [
  {
   "cell_type": "markdown",
   "metadata": {
    "colab_type": "text",
    "id": "rbNLGjLkARoK",
    "slideshow": {
     "slide_type": "slide"
    }
   },
   "source": [
    "# Ayudantía 4\n",
    "## Object Oriented Programming 101\n",
    "\n",
    "mail: iic2233@ing.puc.cl\n",
    "\n",
    "Por Vicente Águila y Juan Aguillón"
   ]
  },
  {
   "cell_type": "markdown",
   "metadata": {
    "colab_type": "text",
    "id": "avxRYhGEAau5",
    "slideshow": {
     "slide_type": "slide"
    }
   },
   "source": [
    " ## Recordatorio IIC1103\n",
    " \n",
    " ### Programación Orientada a Objetos\n",
    " \n",
    " - ¿Qué es un Objeto?\n",
    " - ¿Qué es una clase?\n",
    " "
   ]
  },
  {
   "cell_type": "markdown",
   "metadata": {
    "colab_type": "text",
    "id": "k9c5VORwAlk_",
    "slideshow": {
     "slide_type": "slide"
    }
   },
   "source": [
    "## Ejemplo del baúl de los recuerdos\n",
    "\n",
    "Modelando un computador"
   ]
  },
  {
   "cell_type": "code",
   "execution_count": 1,
   "metadata": {
    "colab": {},
    "colab_type": "code",
    "id": "2_llZipYAmiA",
    "slideshow": {
     "slide_type": "subslide"
    }
   },
   "outputs": [],
   "source": [
    "from itertools import count\n",
    "\n",
    " \n",
    "class Computador: #CamelCase notation (PEP8)\n",
    "    '''Clase que representa un computador\n",
    "    '''\n",
    "    _id = count(start=0)\n",
    "    \n",
    "    def __init__(self, sistema, procesador, ram, rom):\n",
    "        self._id = next(Computador._id)\n",
    "        self.sistema = sistema\n",
    "        self.procesador = procesador\n",
    "        self.ram = ram #on GB\n",
    "        self.rom = rom #on TB\n",
    "        self.registros = []\n",
    "        self.on = False\n",
    "        \n",
    "    def boton_encendido(self):\n",
    "        '''modela el boton de encendido'''\n",
    "        self.on = not(self.on)\n",
    "    \n",
    "    def agregar_registro(self, registro):\n",
    "        '''modela el agregar un registro'''\n",
    "        self.registros.append(registro)\n",
    "        \n",
    "    def obtener_registro(self, indice):\n",
    "        '''retorna un registro dado un indice'''\n",
    "        return self.registros[indice]\n",
    "    \n",
    "    def __str__(self):\n",
    "        return '''\n",
    "        Computador {}\n",
    "        OS: {}\n",
    "        Procesador: {}\n",
    "        RAM: {} GB\n",
    "        ROM: {} TB'''.format(self._id, self.sistema, self.procesador, self.ram, self.rom)"
   ]
  },
  {
   "cell_type": "code",
   "execution_count": 2,
   "metadata": {
    "colab": {
     "base_uri": "https://localhost:8080/",
     "height": 119
    },
    "colab_type": "code",
    "id": "bGGdXKrmAr-o",
    "outputId": "e6318c60-c89e-47f3-86e6-ebf3c00b5cf2",
    "slideshow": {
     "slide_type": "subslide"
    }
   },
   "outputs": [
    {
     "name": "stdout",
     "output_type": "stream",
     "text": [
      "\n",
      "        Computador 0\n",
      "        OS: Windows\n",
      "        Procesador: Intel Core i7-7770HQ\n",
      "        RAM: 16 GB\n",
      "        ROM: 2 TB\n"
     ]
    }
   ],
   "source": [
    "compu_1 = Computador(\"Windows\", \"Intel Core i7-7770HQ\", 16, 2)\n",
    "print(compu_1)"
   ]
  },
  {
   "cell_type": "code",
   "execution_count": 3,
   "metadata": {
    "colab": {
     "base_uri": "https://localhost:8080/",
     "height": 544
    },
    "colab_type": "code",
    "id": "iEOV4bAQAyjm",
    "outputId": "9cd1af47-a1e7-4bb2-f190-ec6e29523c43",
    "slideshow": {
     "slide_type": "subslide"
    }
   },
   "outputs": [
    {
     "name": "stdout",
     "output_type": "stream",
     "text": [
      "Help on class Computador in module __main__:\n",
      "\n",
      "class Computador(builtins.object)\n",
      " |  Computador(sistema, procesador, ram, rom)\n",
      " |  \n",
      " |  Clase que representa un computador\n",
      " |  \n",
      " |  Methods defined here:\n",
      " |  \n",
      " |  __init__(self, sistema, procesador, ram, rom)\n",
      " |      Initialize self.  See help(type(self)) for accurate signature.\n",
      " |  \n",
      " |  __str__(self)\n",
      " |      Return str(self).\n",
      " |  \n",
      " |  agregar_registro(self, registro)\n",
      " |      modela el agregar un registro\n",
      " |  \n",
      " |  boton_encendido(self)\n",
      " |      modela el boton de encendido\n",
      " |  \n",
      " |  obtener_registro(self, indice)\n",
      " |      retorna un registro dado un indice\n",
      " |  \n",
      " |  ----------------------------------------------------------------------\n",
      " |  Data descriptors defined here:\n",
      " |  \n",
      " |  __dict__\n",
      " |      dictionary for instance variables (if defined)\n",
      " |  \n",
      " |  __weakref__\n",
      " |      list of weak references to the object (if defined)\n",
      "\n"
     ]
    }
   ],
   "source": [
    "help(Computador)"
   ]
  },
  {
   "cell_type": "markdown",
   "metadata": {
    "colab_type": "text",
    "id": "LoHmyrxhxw4G",
    "slideshow": {
     "slide_type": "slide"
    }
   },
   "source": [
    "## Introducción\n",
    "<br>\n",
    "<div style='text-align: justify'>\n",
    "  Luego de una ardua tarde de estudio de Programación Avanzada, decides relajarte y jugar unas partidas de *Fortnite* con los cabros. Lamentablemente *eduroam* vuelve a hacer de las suyas y no logras conectarte, por lo que decides hacer tu propio Battle Royale <strike>con juegos de azar y mujerzuelas</strike> con Castillos, Casas y Edificios. Así es como nació:\n",
    "</div>"
   ]
  },
  {
   "cell_type": "markdown",
   "metadata": {
    "colab_type": "text",
    "id": "mrRgu-ZL_MqH",
    "slideshow": {
     "slide_type": "fragment"
    }
   },
   "source": [
    "  <img src='img/Progranite.png' style='display:block;margin-left:auto;margin-right:auto;width:50%;'>\n",
    "  "
   ]
  },
  {
   "cell_type": "markdown",
   "metadata": {
    "colab_type": "text",
    "id": "cJQNBJrCVFUW",
    "slideshow": {
     "slide_type": "slide"
    }
   },
   "source": [
    "### Las Edificaciones\n",
    "\n",
    "\n",
    "Las distintas edificaciones que tendrá nuestro juego serán: Casas, Edificios y Castillos con Atalayas y Torres. \n",
    "\n",
    "- Casa: posee un área de construcción y cierta cantidad de habitaciones.\n",
    "- Edificio: posee un área de construcción y una cantidad de pisos\n",
    "- Castillo: posee un área de construcción, está formado por cierta cantidad de torres y atalayas y además tiene un área interna en que pueden haber casas.\n",
    "- Atalaya: posee un área de contrucción y altura\n",
    "- Torre: posee lo mismo que la atalaya y además cierta cantidad de cañones\n",
    "\n",
    "\n",
    "Cada uno debe tener una sobrecarga de string, con los atributos correspondientes"
   ]
  },
  {
   "cell_type": "markdown",
   "metadata": {
    "colab_type": "text",
    "id": "s1aUycwkA_lH",
    "slideshow": {
     "slide_type": "slide"
    }
   },
   "source": [
    "## Diagrama de clases\n",
    "\n",
    "- ¿Qué es un diagrama de clases?\n",
    "- ¿De qué nos sirve?"
   ]
  },
  {
   "cell_type": "markdown",
   "metadata": {
    "colab_type": "text",
    "id": "vxi_HF56BHLn",
    "slideshow": {
     "slide_type": "fragment"
    }
   },
   "source": [
    "https://www.draw.io/"
   ]
  },
  {
   "cell_type": "markdown",
   "metadata": {
    "colab_type": "text",
    "id": "4WYwliz7Afs1",
    "slideshow": {
     "slide_type": "subslide"
    }
   },
   "source": [
    "# <img src='img/class_diagram.png'>"
   ]
  },
  {
   "cell_type": "markdown",
   "metadata": {
    "colab_type": "text",
    "id": "ci9dShZnA46o",
    "slideshow": {
     "slide_type": "slide"
    }
   },
   "source": [
    "## Agregación y Composición\n",
    "* ¿Cuándo se usa cuál?\n",
    "* ¿Qué diferencias hay en el código?"
   ]
  },
  {
   "cell_type": "code",
   "execution_count": 4,
   "metadata": {
    "colab": {},
    "colab_type": "code",
    "id": "qaCyTHW_BZF8",
    "slideshow": {
     "slide_type": "subslide"
    }
   },
   "outputs": [],
   "source": [
    "from functools import reduce\n",
    "\n",
    "\n",
    "class Mapa:\n",
    "    def __init__(self):\n",
    "        self.area_max = 4000\n",
    "        self.edificaciones = list()\n",
    "        self._area_usada = 0\n",
    "\n",
    "    @property  # Ejemplo de property\n",
    "    def area_usada(self):\n",
    "        return sum([e.area for e in self.edificaciones])\n",
    "    \n",
    "    def agregar_edificacion(self, edificacion):\n",
    "        if edificacion.area + self.area_usada <= self.area_max:        \n",
    "            self.edificaciones.append(edificacion)"
   ]
  },
  {
   "cell_type": "markdown",
   "metadata": {
    "colab_type": "text",
    "id": "Gsjo_Ip3BK-6",
    "slideshow": {
     "slide_type": "slide"
    }
   },
   "source": [
    "## Herencia\n",
    "\n",
    "- ¿Qué es?\n",
    "- En que se diferencia con las otras relaciones (agregación, composición)"
   ]
  },
  {
   "cell_type": "code",
   "execution_count": 5,
   "metadata": {
    "slideshow": {
     "slide_type": "subslide"
    }
   },
   "outputs": [],
   "source": [
    "from itertools import count\n",
    "\n",
    "\n",
    "class Edificacion:\n",
    "  \n",
    "    _id = count(start=0)  # esto es un atributo de clase\n",
    "  \n",
    "    def __init__(self, area, material, integridad):\n",
    "        self._id = next(Edificacion._id)\n",
    "        self.area = area\n",
    "        self.material = material\n",
    "        self.integridad_estructural = integridad\n",
    "    \n",
    "    def recibir_daño(self, daño):\n",
    "        if self.integridad_estructural > daño:\n",
    "            self.integridad_estructural -= daño\n",
    "        else:\n",
    "            self.botar_materiales()\n",
    "      \n",
    "    def botar_materiales(self):\n",
    "        print('Se ha botado el material {}'.format(self.material))\n",
    "        return (self.area, self.material)\n",
    "  \n",
    "    def __str__(self):\n",
    "        return '''Area de construcción: {} m2\n",
    "Material: {}\n",
    "Integridad estructural: {}\n",
    "'''.format(self.area, self.material, self.integridad_estructural)\n",
    "\n",
    "    def __repr__(self):\n",
    "        return \"{} id: {}\".format(self.__class__.__name__, self._id)\n",
    "        \n",
    "        \n",
    "class Casa(Edificacion):\n",
    "    def __init__(self, habitaciones, **kwargs):\n",
    "        super().__init__(**kwargs)\n",
    "        self.n_habitaciones = habitaciones\n",
    "        \n",
    "    def __str__(self):\n",
    "        return '''\n",
    "Casa de {} habitaciones\n",
    "{}'''.format(self.n_habitaciones, super().__str__())\n",
    "\n",
    "        \n",
    "class Edificio(Edificacion):\n",
    "    def __init__(self, pisos, **kwargs):\n",
    "        super().__init__(**kwargs)\n",
    "        self.pisos = pisos\n",
    "\n",
    "    def __str__(self):\n",
    "        return '''\n",
    "Edificio de {} pisos\n",
    "{}'''.format(self.pisos, super().__str__())\n",
    "\n",
    "\n",
    "class Castillo(Edificacion):\n",
    "    def __init__(self, area_interna, lista_torres, lista_atalayas, **kwargs):\n",
    "        super().__init__(**kwargs)\n",
    "        self.area_interna = area_interna\n",
    "        self.torres = lista_torres\n",
    "        self.atalayas = lista_atalayas\n",
    "\n",
    "    def __str__(self):\n",
    "        return '''\n",
    "Castillo\n",
    "Torres: {}\n",
    "Atalayas: {}\n",
    "Área interna: {} m2\n",
    "{}'''.format(\n",
    "        len(self.torres), len(self.atalayas), self.area_interna, super().__str__()\n",
    "    )\n",
    "\n",
    "\n",
    "class Atalaya(Edificacion):\n",
    "    def __init__(self, altura, **kwargs):\n",
    "        super().__init__(**kwargs)\n",
    "        self.altura = altura\n",
    "        \n",
    "    def __str__(self):\n",
    "        return '''\n",
    "Atalaya\n",
    "Altura: {} m\n",
    "{}'''.format(self.altura, super().__str__())\n",
    "        \n",
    "\n",
    "class Torre(Atalaya):\n",
    "    def __init__(self, cañones, **kwargs):\n",
    "        super().__init__(**kwargs)\n",
    "        self.cañones = cañones\n",
    "        \n",
    "    def __str__(self):\n",
    "        return '''\n",
    "Torre\n",
    "Cañones: {}{}'''.format(self.cañones, super().__str__().replace('Atalaya\\n', ''))"
   ]
  },
  {
   "cell_type": "code",
   "execution_count": 6,
   "metadata": {},
   "outputs": [
    {
     "name": "stdout",
     "output_type": "stream",
     "text": [
      "\n",
      "Casa de 3 habitaciones\n",
      "Area de construcción: 12 m2\n",
      "Material: Madera\n",
      "Integridad estructural: 10\n",
      "\n",
      "\n",
      "Edificio de 6 pisos\n",
      "Area de construcción: 28 m2\n",
      "Material: Concreto\n",
      "Integridad estructural: 20\n",
      "\n",
      "\n",
      "Torre\n",
      "Cañones: 6\n",
      "Altura: 50 m\n",
      "Area de construcción: 20 m2\n",
      "Material: Piedra\n",
      "Integridad estructural: 40\n",
      "\n",
      "\n",
      "Atalaya\n",
      "Altura: 80 m\n",
      "Area de construcción: 20 m2\n",
      "Material: Piedra\n",
      "Integridad estructural: 20\n",
      "\n",
      "\n",
      "Castillo\n",
      "Torres: 3\n",
      "Atalayas: 1\n",
      "Área interna: 60 m2\n",
      "Area de construcción: 200 m2\n",
      "Material: Piedra\n",
      "Integridad estructural: 200\n",
      "\n"
     ]
    }
   ],
   "source": [
    "casa1 = Casa(3, area = 12, material = \"Madera\", integridad = 10)\n",
    "edificio1 = Edificio(6, area = 28, material = \"Concreto\", integridad = 20)\n",
    "torre1 = Torre(6, altura = 50, area = 20, material = \"Piedra\", integridad = 40)\n",
    "torre2 = Torre(8, altura = 70, area = 30, material = \"Piedra\", integridad = 60)\n",
    "torre3 = Torre(6, altura = 50, area = 20, material = \"Piedra\", integridad = 40)\n",
    "atalaya1 = Atalaya(80, area = 20, material = \"Piedra\", integridad = 20)\n",
    "castillo = Castillo(60, [torre1, torre2, torre3], [atalaya1], area = 200, material = \"Piedra\", integridad = 200)\n",
    "print(casa1)\n",
    "print(edificio1)\n",
    "print(torre1)\n",
    "print(atalaya1)\n",
    "print(castillo)"
   ]
  },
  {
   "cell_type": "code",
   "execution_count": 7,
   "metadata": {
    "slideshow": {
     "slide_type": "subslide"
    }
   },
   "outputs": [
    {
     "name": "stdout",
     "output_type": "stream",
     "text": [
      "[Casa id: 0, Edificio id: 1, Torre id: 2, Torre id: 3, Torre id: 4, Atalaya id: 5, Castillo id: 6]\n"
     ]
    }
   ],
   "source": [
    "mapa = Mapa()\n",
    "mapa.agregar_edificacion(casa1)\n",
    "mapa.agregar_edificacion(edificio1)\n",
    "mapa.agregar_edificacion(torre1)\n",
    "mapa.agregar_edificacion(torre2)\n",
    "mapa.agregar_edificacion(torre3)\n",
    "mapa.agregar_edificacion(atalaya1)\n",
    "mapa.agregar_edificacion(castillo)\n",
    "print(mapa.edificaciones)"
   ]
  },
  {
   "cell_type": "markdown",
   "metadata": {
    "colab_type": "text",
    "id": "_dmwC_KhBZFx",
    "slideshow": {
     "slide_type": "slide"
    }
   },
   "source": [
    "## Properties\n",
    "\n",
    "- ¿Qué son y para qué sirven?"
   ]
  },
  {
   "cell_type": "markdown",
   "metadata": {
    "slideshow": {
     "slide_type": "slide"
    }
   },
   "source": [
    "### El personaje\n",
    "\n",
    "Ahora vamos a modelar el personaje de nuestro juego, que va a tener las siguientes características:\n",
    "\n",
    "- Posee un identificador y un nombre de usuario\n",
    "- Posee una cantidad de vida que no puede ser menor a 0.\n",
    "- Posee un arma que le da la cantidad de daño que puede realizar a las edificaciones o a otros personajes.\n",
    "- Posee una bolsa de materiales que obtiene de destruir edificaciones"
   ]
  },
  {
   "cell_type": "code",
   "execution_count": 8,
   "metadata": {
    "slideshow": {
     "slide_type": "subslide"
    }
   },
   "outputs": [],
   "source": [
    "from collections import namedtuple\n",
    "from itertools import count\n",
    "\n",
    "\n",
    "Arma = namedtuple(\"Arma\", \"nombre daño\")\n",
    "\n",
    "\n",
    "class Jugador:\n",
    "  \n",
    "    _ids = count(start=0)\n",
    "  \n",
    "  \n",
    "    def __init__(self, nombre, vida):\n",
    "        self._id = next(Jugador._ids)\n",
    "        self.nombre = nombre\n",
    "        self._vida = vida\n",
    "        self._arma = None\n",
    "        \n",
    "    @property\n",
    "    def daño(self):\n",
    "        if self._arma:\n",
    "            return self._arma.daño\n",
    "        else:\n",
    "            return 0\n",
    "    \n",
    "    @property\n",
    "    def arma(self):\n",
    "        if self._arma:\n",
    "            return self._arma\n",
    "        else:\n",
    "            return Arma('Puños', 2)\n",
    "    \n",
    "    @arma.setter\n",
    "    def arma(self, value):\n",
    "        self._arma = value\n",
    "        \n",
    "    @arma.deleter\n",
    "    def arma(self):\n",
    "        self._arma = None\n",
    "\n",
    "    @property\n",
    "    def vida(self):\n",
    "        return self._vida\n",
    "  \n",
    "    @vida.setter\n",
    "    def vida(self, value):\n",
    "        if self.value < 0:\n",
    "            self._vida = 0\n",
    "      \n",
    "    def recibir_daño(self, daño): #It's that duck typing D:\n",
    "        self.vida -= daño\n",
    "      \n",
    "    def atacar(self, elemento):\n",
    "        elemento.recibir_daño(self.arma.daño)\n",
    "    \n",
    "    def __str__(self):\n",
    "        return'''\n",
    "    id: {}\n",
    "    Nombre: {}\n",
    "    Vida: {}\n",
    "    Arma: {}, {} daño'''.format(self._id, self.nombre, self.vida, self.arma.nombre, self.arma.daño)"
   ]
  },
  {
   "cell_type": "code",
   "execution_count": 9,
   "metadata": {
    "slideshow": {
     "slide_type": "subslide"
    }
   },
   "outputs": [
    {
     "name": "stdout",
     "output_type": "stream",
     "text": [
      "\n",
      "    id: 0\n",
      "    Nombre: Johnny\n",
      "    Vida: 180\n",
      "    Arma: Puños, 2 daño\n",
      "\n",
      "    id: 0\n",
      "    Nombre: Johnny\n",
      "    Vida: 180\n",
      "    Arma: AK-47, 20 daño\n",
      "\n",
      "    id: 0\n",
      "    Nombre: Johnny\n",
      "    Vida: 180\n",
      "    Arma: Puños, 2 daño\n"
     ]
    }
   ],
   "source": [
    "arma1 = Arma(\"AK-47\", 20)\n",
    "jugador1 = Jugador(\"Johnny\", 180)\n",
    "print(jugador1)\n",
    "jugador1.arma = arma1\n",
    "print(jugador1)\n",
    "del(jugador1.arma)\n",
    "print(jugador1)"
   ]
  },
  {
   "cell_type": "code",
   "execution_count": null,
   "metadata": {
    "colab_type": "text",
    "id": "4hh05AwECXlk",
    "slideshow": {
     "slide_type": "skip"
    }
   },
   "outputs": [],
   "source": []
  }
 ],
 "metadata": {
  "celltoolbar": "Slideshow",
  "colab": {
   "collapsed_sections": [
    "k9c5VORwAlk_"
   ],
   "name": "AY04 - Funcional.ipynb",
   "provenance": [],
   "version": "0.3.2"
  },
  "kernelspec": {
   "display_name": "Python 3",
   "language": "python",
   "name": "python3"
  },
  "language_info": {
   "codemirror_mode": {
    "name": "ipython",
    "version": 3
   },
   "file_extension": ".py",
   "mimetype": "text/x-python",
   "name": "python",
   "nbconvert_exporter": "python",
   "pygments_lexer": "ipython3",
   "version": "3.6.4"
  }
 },
 "nbformat": 4,
 "nbformat_minor": 1
}
