{
 "cells": [
  {
   "cell_type": "markdown",
   "metadata": {
    "colab_type": "text",
    "id": "rbNLGjLkARoK",
    "slideshow": {
     "slide_type": "slide"
    }
   },
   "source": [
    "# Ayudantía 4\n",
    "\n",
    "## Object Oriented Programming 101\n",
    "\n",
    "Formulario de Feedback: https://docs.google.com/forms/d/1rublnCunwYWYe2QxARiND1hS9WJ9jKLE6WJilA7rRvE\n",
    "\n",
    "**Autores:** Vicente Águila y Juan Aguillón."
   ]
  },
  {
   "cell_type": "markdown",
   "metadata": {
    "colab_type": "text",
    "id": "LoHmyrxhxw4G",
    "slideshow": {
     "slide_type": "slide"
    }
   },
   "source": [
    "## Introducción\n",
    "<br>\n",
    "<div style='text-align: justify'>\n",
    "  Luego de una ardua tarde de estudio de Programación Avanzada, decides relajarte y jugar unas partidas de *Fortnite* con los cabros. Lamentablemente *eduroam* vuelve a hacer de las suyas y no logras conectarte, por lo que decides hacer tu propio Battle Royale <strike>con juegos de azar y mujerzuelas</strike> con Castillos, Casas y Edificios. Así es como nació:\n",
    "</div>"
   ]
  },
  {
   "cell_type": "markdown",
   "metadata": {
    "colab_type": "text",
    "id": "mrRgu-ZL_MqH",
    "slideshow": {
     "slide_type": "fragment"
    }
   },
   "source": [
    "  <img src='img/Progranite.png' style='display:block;margin-left:auto;margin-right:auto;width:50%;'>\n",
    "  "
   ]
  },
  {
   "cell_type": "markdown",
   "metadata": {},
   "source": [
    "### El Mapa\n",
    "\n",
    "El mapa contiene las edificaciones del juego, tiene un área máxima de construcción que limita la cantidad de edificaciones que puede recibir."
   ]
  },
  {
   "cell_type": "markdown",
   "metadata": {
    "colab_type": "text",
    "id": "cJQNBJrCVFUW",
    "slideshow": {
     "slide_type": "slide"
    }
   },
   "source": [
    "### Las Edificaciones\n",
    "\n",
    "\n",
    "Las distintas edificaciones que tendrá nuestro juego serán: Casas, Edificios y Castillos con Atalayas y Torres. \n",
    "\n",
    "- Casa: posee un área de construcción y cierta cantidad de habitaciones.\n",
    "- Edificio: posee un área de construcción y una cantidad de pisos\n",
    "- Castillo: posee un área de construcción, está formado por cierta cantidad de torres y atalayas y además tiene un área interna en que pueden haber casas.\n",
    "- Atalaya: posee un área de contrucción y altura\n",
    "- Torre: posee lo mismo que la atalaya y además cierta cantidad de cañones\n",
    "\n",
    "\n",
    "Cada uno debe tener una sobrecarga de string, con los atributos correspondientes."
   ]
  },
  {
   "cell_type": "markdown",
   "metadata": {
    "colab_type": "text",
    "id": "s1aUycwkA_lH",
    "slideshow": {
     "slide_type": "slide"
    }
   },
   "source": [
    "## Diagrama de clases\n",
    "\n",
    "Conteste las siguiente preguntas:\n",
    "\n",
    "- ¿Qué es un diagrama de clases?\n",
    "- ¿De qué nos sirve?\n",
    "\n",
    "Haga el diagrama de clases asociado al enunciado antes visto."
   ]
  },
  {
   "cell_type": "markdown",
   "metadata": {
    "colab_type": "text",
    "id": "ci9dShZnA46o",
    "slideshow": {
     "slide_type": "slide"
    }
   },
   "source": [
    "### Agregación y Composición\n",
    "\n",
    "Conteste las siguientes preguntas: \n",
    "\n",
    "* ¿Cuándo se usa cuál?\n",
    "* ¿Qué diferencias hay en el código?\n"
   ]
  },
  {
   "cell_type": "markdown",
   "metadata": {
    "colab_type": "text",
    "id": "Gsjo_Ip3BK-6",
    "slideshow": {
     "slide_type": "slide"
    }
   },
   "source": [
    "### Herencia\n",
    "\n",
    "Conteste las siguientes preguntas:\n",
    "\n",
    "- ¿Qué es?\n",
    "- En que se diferencia con las otras relaciones (agregación, composición)\n",
    "\n",
    "A continuación, haga el código para representar la modelación antes diagramada."
   ]
  },
  {
   "cell_type": "code",
   "execution_count": 17,
   "metadata": {
    "slideshow": {
     "slide_type": "subslide"
    }
   },
   "outputs": [],
   "source": [
    "# Hagalo aquí :D."
   ]
  },
  {
   "cell_type": "markdown",
   "metadata": {
    "colab_type": "text",
    "id": "_dmwC_KhBZFx",
    "slideshow": {
     "slide_type": "slide"
    }
   },
   "source": [
    "### Properties\n",
    "\n",
    "- ¿Qué son y para qué sirven?"
   ]
  },
  {
   "cell_type": "markdown",
   "metadata": {
    "slideshow": {
     "slide_type": "slide"
    }
   },
   "source": [
    "### El personaje\n",
    "\n",
    "Ahora vamos a agregar una nueva entidad a la modelación: el personaje de nuestro juego. Esta entidad va a tener las siguientes características:\n",
    "\n",
    "- Posee un identificador único y un nombre de usuario\n",
    "- Posee una cantidad de vida que no puede ser menor a 0.\n",
    "- Posee un arma que le da la cantidad de daño que puede realizar a las edificaciones o a otros personajes.\n",
    "- Por defecto, si el personaje no posee arma, utiliza el arma por defecto \"Puños\" con ataque 2\n",
    "- Posee una bolsa de materiales que obtiene de destruir edificaciones\n",
    "- El personaje puede atacar tanto a otro jugador, como a una edificación.\n",
    "- El personaje puede recibir daño de parte de otro jugador\n",
    "\n",
    "Modele la clase con los atributos, métodos y _properties_ antes descritos."
   ]
  },
  {
   "cell_type": "code",
   "execution_count": 1,
   "metadata": {
    "slideshow": {
     "slide_type": "subslide"
    }
   },
   "outputs": [],
   "source": [
    "from collections import namedtuple\n",
    "\n",
    "\n",
    "Arma = namedtuple(\"Arma\", \"nombre daño\")"
   ]
  },
  {
   "cell_type": "code",
   "execution_count": null,
   "metadata": {},
   "outputs": [],
   "source": [
    "# Hágalo aquí :D."
   ]
  }
 ],
 "metadata": {
  "colab": {
   "collapsed_sections": [
    "k9c5VORwAlk_"
   ],
   "name": "AY04 - Funcional.ipynb",
   "provenance": [],
   "version": "0.3.2"
  },
  "kernelspec": {
   "display_name": "Python 3",
   "language": "python",
   "name": "python3"
  },
  "language_info": {
   "codemirror_mode": {
    "name": "ipython",
    "version": 3
   },
   "file_extension": ".py",
   "mimetype": "text/x-python",
   "name": "python",
   "nbconvert_exporter": "python",
   "pygments_lexer": "ipython3",
   "version": "3.6.5"
  }
 },
 "nbformat": 4,
 "nbformat_minor": 1
}
