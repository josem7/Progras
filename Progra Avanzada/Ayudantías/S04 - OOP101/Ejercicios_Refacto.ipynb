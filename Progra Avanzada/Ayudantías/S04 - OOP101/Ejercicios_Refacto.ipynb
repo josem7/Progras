{
 "cells": [
  {
   "cell_type": "markdown",
   "metadata": {},
   "source": [
    "# Ejercicios OOP101"
   ]
  },
  {
   "cell_type": "markdown",
   "metadata": {},
   "source": [
    "## Herencia"
   ]
  },
  {
   "cell_type": "markdown",
   "metadata": {},
   "source": [
    "### Ejercicio 1\n",
    "\n",
    "Haga una clase `Dios` con atributos `nombre` y `poder`. Luego, cree una clase `SemiDios` que tenga `fecha_de_nacimiento` y herede de `Dios`. El `SemiDios` puede `hablar`, imprimiendo `\"Heredé de un Dios!\"`.\n",
    "\n",
    "Haga una _property_ `edad` en donde se calcula la edad en base a la fecha de nacimiento (el formato de la fecha da lo mismo, puede ser incluso el año de nacimiento)."
   ]
  },
  {
   "cell_type": "code",
   "execution_count": 1,
   "metadata": {},
   "outputs": [],
   "source": []
  },
  {
   "cell_type": "markdown",
   "metadata": {},
   "source": [
    "### Ejercicio 2 \n",
    "\n",
    "El sistema `QuePazza` es una aplicación de chat sólo para chilenos.\n",
    "\n",
    "Su misión es crear el sistema `QuePazza`, con un método llamado `agregar_usuario` que agregue un usuario al sistema (guardándolo en una lista) y le pida su número a través de la consola (_input_)\n",
    "\n",
    "Su sistema de chat chileno `QuePazza` sólo acepta números de origen chileno, por lo que cada vez que se cree un usuario, debe revisar que el número que se ingresa sea perteneciente a Chile, por lo que debe iniciar con un \"+56\". Si no cumple con esto, debe imprimir que el número no corresponde a un número de origen chileno\n",
    "\n",
    "Por otra parte, el usuario tiene un nombre de usuario y un número. Al registrarse, se le creará un correo automáticamente con su nombre de usuario, seguido por `\"@quepazza.cl\"`.\n",
    "\n",
    "En caso de que el usuario no cumpla con las condiciones anteriormente nombradas, debe agregarlo con su número vacío.\n",
    "\n",
    "(Recuerde utilizar properties)"
   ]
  },
  {
   "cell_type": "code",
   "execution_count": 1,
   "metadata": {},
   "outputs": [],
   "source": [
    "class QuePazza:\n",
    "    def __init__(self):\n",
    "        pass\n",
    "    \n",
    "    def agregar_usuario(self):\n",
    "        pass\n",
    "\n",
    "class Usuario:\n",
    "    pass"
   ]
  },
  {
   "cell_type": "markdown",
   "metadata": {},
   "source": [
    "### Ejercicio 3\n",
    "\n",
    "Su juego favorito, Pokémon, está teniendo muchos glitches últimamente, por lo que decidió programar su propio Pokémon.\n",
    "\n",
    "Cada Pokémon posee `hp`, `ataque`, `defensa`, `ataque_especial`, `defensa_especial`, `velocidad` y cuatro `movimiento`s.\n",
    "\n",
    "Los Pokémones deben ser capaces de entregar la suma de todos sus stats, el cual representa el `poder`.\n",
    "\n",
    "Su Pokémon puede atacar con uno de sus movimientos, y debe calcular el daño a realizar según el tipo de movimiento:\n",
    "\n",
    "- Si es físico, se utiliza ataque.\n",
    "- Si es especial, se utiliza ataque especial.\n",
    "\n",
    "\n",
    "Dada la siguiente fórmula:\n",
    "\n",
    "`Daño = (ataque x ataque_del_movimiento) / defensa_enemiga`\n",
    "\n",
    "`Daño = (ataque_especial x ataque_del_movimiento) / defensa_especial_enemiga`"
   ]
  },
  {
   "cell_type": "code",
   "execution_count": 2,
   "metadata": {},
   "outputs": [],
   "source": [
    "from collections import namedtuple\n",
    "\n",
    "Movimiento = namedtuple(\"Movimiento\", \"nombre tipo ataque\")\n",
    "\n",
    "class Pokemon:\n",
    "    def __init__(self):\n",
    "        pass"
   ]
  },
  {
   "cell_type": "markdown",
   "metadata": {},
   "source": [
    "### Ejercicio 4\n",
    "\n",
    "\"Fakebook\" te ha contratado para que realices un prototipo para su nueva aplicación.\n",
    "\n",
    "La aplicación es basada en distintos tipos de publicaciones:\n",
    "\n",
    "- Texto\n",
    "- Foto\n",
    "- Video\n",
    "\n",
    "Todas estas publicaciones tienen una fecha de publicación y un usuario.\n",
    "\n",
    "El texto tiene un texto asociado.\n",
    "\n",
    "La foto, su tamaño en pixeles.\n",
    "\n",
    "El video una duración."
   ]
  },
  {
   "cell_type": "code",
   "execution_count": null,
   "metadata": {},
   "outputs": [],
   "source": [
    "from collections import namedtuple\n",
    "\n",
    "Usuario = namedtuple(\"Usuario\", \"nombre correo\")\n",
    "\n",
    "\n",
    "class Publicacion:\n",
    "    pass\n",
    "\n",
    "class Texto:\n",
    "    pass\n",
    "\n",
    "class Foto:\n",
    "    pass\n",
    "\n",
    "class Video:\n",
    "    pass\n",
    "\n",
    "class Ubicacion:\n",
    "    pass"
   ]
  }
 ],
 "metadata": {
  "kernelspec": {
   "display_name": "Python 3",
   "language": "python",
   "name": "python3"
  },
  "language_info": {
   "codemirror_mode": {
    "name": "ipython",
    "version": 3
   },
   "file_extension": ".py",
   "mimetype": "text/x-python",
   "name": "python",
   "nbconvert_exporter": "python",
   "pygments_lexer": "ipython3",
   "version": "3.6.5"
  }
 },
 "nbformat": 4,
 "nbformat_minor": 2
}
