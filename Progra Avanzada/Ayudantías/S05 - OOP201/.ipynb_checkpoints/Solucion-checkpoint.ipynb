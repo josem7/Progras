{
 "cells": [
  {
   "cell_type": "markdown",
   "metadata": {
    "colab_type": "text",
    "id": "oheRwe6hv0hd"
   },
   "source": [
    "# Ayudantía 05: Multiherencia, Polimorfismo y Clases Abstractas\n",
    "#### Autores: drpinto1 y fgbruna"
   ]
  },
  {
   "cell_type": "markdown",
   "metadata": {
    "colab_type": "text",
    "id": "oLhQwbt9rwU5"
   },
   "source": [
    "# Polimorfismo\n",
    "**¿Qué es Polimorfismo?**\n",
    "\"Propiedad por la que es posible enviar mensajes sintácticamente iguales a objetos de tipos distintos.\"\n",
    "\n",
    "*¿En español?*\n",
    "Usando la misma sintaxis, lograr un comportamiento en dos objetos, que pueden o no ser del mismo tipo.\n",
    "\n",
    "Tenemos 3 maneras distintas de hacer polimorfismo."
   ]
  },
  {
   "cell_type": "markdown",
   "metadata": {
    "colab_type": "text",
    "id": "t23fe2V4zE49"
   },
   "source": [
    "### Manera 1, Overloading:\n",
    "Redefinir un método, con distinta cantidad o tipo de parámetros, para tener distintos comportamientos. \n",
    "\n",
    "_¿Funciona en python?_"
   ]
  },
  {
   "cell_type": "code",
   "execution_count": 1,
   "metadata": {
    "colab": {},
    "colab_type": "code",
    "id": "AS35phkczwHU"
   },
   "outputs": [
    {
     "name": "stdout",
     "output_type": "stream",
     "text": [
      "Estoy haciendo esto:Estudiar Progra\n"
     ]
    },
    {
     "ename": "TypeError",
     "evalue": "hacer_algo() missing 1 required positional argument: 'algo'",
     "output_type": "error",
     "traceback": [
      "\u001b[1;31m---------------------------------------------------------------------------\u001b[0m",
      "\u001b[1;31mTypeError\u001b[0m                                 Traceback (most recent call last)",
      "\u001b[1;32m<ipython-input-1-c0ddc76c6229>\u001b[0m in \u001b[0;36m<module>\u001b[1;34m()\u001b[0m\n\u001b[0;32m      8\u001b[0m \u001b[0malguien\u001b[0m \u001b[1;33m=\u001b[0m \u001b[0mAlgunaClase\u001b[0m\u001b[1;33m(\u001b[0m\u001b[1;33m)\u001b[0m\u001b[1;33m\u001b[0m\u001b[0m\n\u001b[0;32m      9\u001b[0m \u001b[0malguien\u001b[0m\u001b[1;33m.\u001b[0m\u001b[0mhacer_algo\u001b[0m\u001b[1;33m(\u001b[0m\u001b[1;34m'Estudiar Progra'\u001b[0m\u001b[1;33m)\u001b[0m\u001b[1;33m\u001b[0m\u001b[0m\n\u001b[1;32m---> 10\u001b[1;33m \u001b[0malguien\u001b[0m\u001b[1;33m.\u001b[0m\u001b[0mhacer_algo\u001b[0m\u001b[1;33m(\u001b[0m\u001b[1;33m)\u001b[0m\u001b[1;33m\u001b[0m\u001b[0m\n\u001b[0m",
      "\u001b[1;31mTypeError\u001b[0m: hacer_algo() missing 1 required positional argument: 'algo'"
     ]
    }
   ],
   "source": [
    "class AlgunaClase:\n",
    "    def hacer_algo(self):\n",
    "        print(\"Estoy haciendo algo :D\")\n",
    "    \n",
    "    def hacer_algo(self, algo):\n",
    "        print(f\"Estoy haciendo esto:{algo}\")\n",
    "          \n",
    "alguien = AlgunaClase()\n",
    "alguien.hacer_algo('Estudiar Progra')\n",
    "alguien.hacer_algo()"
   ]
  },
  {
   "cell_type": "markdown",
   "metadata": {
    "colab_type": "text",
    "id": "bvEvvTAa0wKe"
   },
   "source": [
    "_¿Funciona en python?_ *__NO!__*, python solo toma en cuenta la última definición\n",
    "\n",
    "¿Podemos hacer que funcione? __*Si!*__ (o algo así)\n",
    "\n",
    "Con la magia de _*args_!"
   ]
  },
  {
   "cell_type": "code",
   "execution_count": 2,
   "metadata": {
    "colab": {},
    "colab_type": "code",
    "id": "FCuNlJcBzvVe"
   },
   "outputs": [
    {
     "name": "stdout",
     "output_type": "stream",
     "text": [
      "Estoy haciendo esto: Estudiar Progra\n",
      "Estoy haciendo algo :D\n"
     ]
    }
   ],
   "source": [
    "class AlgunaClase:\n",
    "    def hacer_algo(self, *args):\n",
    "        if len(args) == 0:\n",
    "            print(\"Estoy haciendo algo :D\")\n",
    "        else:\n",
    "            algo = args[0]\n",
    "            print(f\"Estoy haciendo esto: {algo}\")\n",
    "          \n",
    "        \n",
    "alguien = AlgunaClase()\n",
    "alguien.hacer_algo('Estudiar Progra')\n",
    "alguien.hacer_algo()"
   ]
  },
  {
   "cell_type": "markdown",
   "metadata": {
    "colab_type": "text",
    "id": "e5hx5_X_1ut2"
   },
   "source": [
    "### Manera 2, Overriding:\n",
    "Redefinir un método, al momento de heredarlo de la clase padre para cambiar su funcionamiento \n",
    "\n",
    "_¿Funciona en python?_"
   ]
  },
  {
   "cell_type": "code",
   "execution_count": 3,
   "metadata": {
    "colab": {},
    "colab_type": "code",
    "id": "wGbnTziYzSYg"
   },
   "outputs": [
    {
     "name": "stdout",
     "output_type": "stream",
     "text": [
      "Clase Hija:\n",
      "Estoy haciendo algo distinto :o\n",
      "Estoy haciendo algo :D\n",
      "\n",
      "Clase Hija Rebelde:\n",
      "Estoy haciendo algo distinto :o\n",
      "Estoy haciendo algo distinto, aunque no sea lo que me pidieron\n",
      "Funciona!!\n"
     ]
    }
   ],
   "source": [
    "class AlgunaClasePadre:\n",
    "    def hacer_algo(self):\n",
    "        print(\"Estoy haciendo algo :D\")\n",
    "      \n",
    "      \n",
    "class AlgunaClaseHija(AlgunaClasePadre):\n",
    "    def hacer_algo_distinto(self):\n",
    "        print(\"Estoy haciendo algo distinto :o\")\n",
    "    \n",
    "    \n",
    "class AlgunaClaseRebelde(AlgunaClasePadre):\n",
    "    def hacer_algo_distinto(self):\n",
    "        print(\"Estoy haciendo algo distinto :o\")\n",
    "    \n",
    "    def hacer_algo(self):\n",
    "        print(\"Estoy haciendo algo distinto, aunque no sea lo que me pidieron\")\n",
    "    \n",
    "\n",
    "print(\"Clase Hija:\")    \n",
    "alguien = AlgunaClaseHija()\n",
    "alguien.hacer_algo_distinto()\n",
    "alguien.hacer_algo()\n",
    "\n",
    "print(\"\\nClase Hija Rebelde:\")\n",
    "alguien_rebelde = AlgunaClaseRebelde()\n",
    "alguien_rebelde.hacer_algo_distinto()\n",
    "alguien_rebelde.hacer_algo()\n",
    "\n",
    "print(\"Funciona!!\")"
   ]
  },
  {
   "cell_type": "markdown",
   "metadata": {
    "colab_type": "text",
    "id": "mBFIKEps3G7L"
   },
   "source": [
    "### Manera 3, Duck Typing:\n",
    "\"Si camina como pato y hace como pato, entonces es un pato\"\n",
    "\n",
    "_¿Funciona en python?_"
   ]
  },
  {
   "cell_type": "code",
   "execution_count": 4,
   "metadata": {
    "colab": {},
    "colab_type": "code",
    "id": "Nga0UOj4zSCU"
   },
   "outputs": [
    {
     "name": "stdout",
     "output_type": "stream",
     "text": [
      "python: \"Hagan como patos!\"\n",
      "pato: Estoy haciendo como pato\n",
      "persona: Estoy haciendo como pato\n"
     ]
    }
   ],
   "source": [
    "class Pato:\n",
    "    def __init__(self, nombre):\n",
    "        self.nombre = nombre\n",
    "    \n",
    "    def hacer_como_pato(self):\n",
    "        print(f\"{self.nombre}: Estoy haciendo como pato\")\n",
    "    \n",
    "    \n",
    "class Persona:\n",
    "    def __init__(self, nombre):\n",
    "        self.nombre = nombre\n",
    "    \n",
    "    def hacer_como_pato(self):\n",
    "        print(f\"{self.nombre}: Estoy haciendo como pato\")\n",
    "    \n",
    "\n",
    "patos = [Pato(\"pato\"), Persona(\"persona\")]\n",
    "print('python: \"Hagan como patos!\"')\n",
    "for pato in patos:\n",
    "    pato.hacer_como_pato()"
   ]
  },
  {
   "cell_type": "markdown",
   "metadata": {
    "colab_type": "text",
    "id": "aU4PUYfo30mn"
   },
   "source": [
    "__¿Necesitas realmente hacer como pato?__\n",
    "\n",
    "_Spoiler Alert: No!_, necesitas que python _crea_ que haces como pato.\n",
    "\n",
    "__¿Qué significa esto?__"
   ]
  },
  {
   "cell_type": "code",
   "execution_count": null,
   "metadata": {
    "colab": {},
    "colab_type": "code",
    "id": "Be2XKnEe30R9"
   },
   "outputs": [],
   "source": [
    "class Pato:\n",
    "    def __init__(self, nombre):\n",
    "        self.nombre = nombre\n",
    "    \n",
    "    def hacer_como_pato(self):\n",
    "        print(f\"{self.nombre}: Estoy haciendo como pato\")\n",
    "    \n",
    "    \n",
    "class Persona:\n",
    "    def __init__(self, nombre):\n",
    "        self.nombre = nombre\n",
    "    \n",
    "    def hacer_como_pato(self):\n",
    "        print(f\"{self.nombre}: Estoy haciendo como persona, pero no le avisen a python ;)\")\n",
    "    \n",
    "\n",
    "patos = [Pato(\"pato\"), Persona(\"persona\")]\n",
    "print('python: \"Hagan como patos!\"')\n",
    "for pato in patos:\n",
    "    pato.hacer_como_pato()"
   ]
  },
  {
   "cell_type": "markdown",
   "metadata": {
    "colab_type": "text",
    "id": "qM6MbbxG5BTa"
   },
   "source": [
    "__¿Necesitas realmente hacer como pato?__\n",
    "\n",
    "_Spoiler Alert: No!_, necesitas que python _crea_ que haces como pato.\n",
    "\n",
    "__¿Qué significa esto?__\n",
    "\n",
    "Necesitas tener un método, que le indique a python que harás lo que espera, pero no necesariamente es lo que tienes que hacer.\n",
    "\n",
    "Los ejercicios 2 y 3 de esta semana ahondarán en este tema :D"
   ]
  },
  {
   "cell_type": "markdown",
   "metadata": {
    "colab_type": "text",
    "id": "QDDzO9GkwmWV"
   },
   "source": [
    "# Equipo de IIC2233 \n",
    "Objetivo: Modelar el funcionamiento del curso IIC2233, profundizando en la estructura del equipo docente."
   ]
  },
  {
   "cell_type": "markdown",
   "metadata": {
    "colab_type": "text",
    "id": "SP548o4vz6uQ"
   },
   "source": [
    "## Profesores y Alumnos\n",
    "Todos los miembros de IIC2233, y todas las personas de Chile, deben tener un nombre, rut y fecha de nacimiento.\n",
    "\n",
    "Al igual que todos los cursos de la universidad, IIC2233 tendrá entre sus miembros a profesores y alumnos; el objetivo de los alumnos es aprobar el curso, por lo que deberá tener un nivel de conocimiento, que va entre 0 y 100, la capacidad de aprender lo que se le enseña, aumentando su conocimiento si pone atención y disminuyéndolo si no! :o, además deben poder estudiar por si mismos, aumentando siempre su conocimiento.\n",
    "\n",
    "Por otra parte, los profesores deben tener la capacidad de educar a los alumnos, haciendo clases con una calidad variable, generando así que los alumnos puedan aprender más o menos según la calidad de lo que se les enseña."
   ]
  },
  {
   "cell_type": "code",
   "execution_count": null,
   "metadata": {
    "colab": {},
    "colab_type": "code",
    "id": "cAFSEUPCz9Uv"
   },
   "outputs": [],
   "source": [
    "from abc import ABC, abstractmethod\n",
    "from collections import namedtuple\n",
    "import random\n",
    "\n",
    "\n",
    "Actividad = namedtuple(\"Actividad\",[\"nro\", \"tema\"])\n",
    "Tarea = namedtuple(\"Tarea\",[\"nro\", \"tema\"])\n",
    "\n",
    "\n",
    "class Persona(ABC):  # Por que es abstaracta?? :o\n",
    "  \n",
    "    def __init__(self, nombre, rut, nacimiento, *args, **kwargs):\n",
    "        super().__init__(*args, **kwargs)\n",
    "        self.nombre = nombre\n",
    "        self.rut = rut\n",
    "        self.nacimiento = nacimiento\n",
    "\n",
    "        \n",
    "class Profesor(Persona):\n",
    "  \n",
    "    def __init__(self, seccion, *args, **kwargs):\n",
    "        super().__init__(*args, **kwargs)\n",
    "        self.seccion = seccion\n",
    "\n",
    "    def educar(alumnos):\n",
    "        \"\"\"Enseña a un o mas alumnos, segun la calidad\n",
    "        de la clase pueden aprender mas o menos\"\"\"\n",
    "        calidad = random.randint(1, 5)\n",
    "        for alumno in alumnos:\n",
    "            alumno.aprender(calidad)\n",
    "\n",
    "\n",
    "class Alumno(Persona):\n",
    "\n",
    "    def __init__(self, seccion, *args, **kwargs):\n",
    "        super().__init__(*args, **kwargs)\n",
    "        self.seccion = seccion\n",
    "        self._conocimiento = 0\n",
    "\n",
    "    @property\n",
    "    def conocimiento(self):\n",
    "        return self._conocimiento\n",
    "\n",
    "    @conocimiento.setter\n",
    "    def conocimiento(self, valor):\n",
    "        \"\"\"El conocimiento del alumno no puede salirse de los limites\"\"\"\n",
    "        valor = max(min(0, self._conocimiento + valor), 100)\n",
    "        self._conocimiento = valor\n",
    "\n",
    "    def aprender(self, valor):\n",
    "        \"\"\" El estudiante aprende lo que le enseñan, si no pone \n",
    "        atencion, puede malinterpretar lo que escucha y aprender \n",
    "        cosas falsas, reduciendo su nivel de conocimiento\n",
    "        \"\"\"\n",
    "        atencion = random.randint(-1, 3)\n",
    "        self.conocimiento += valor * atencion\n",
    "\n",
    "    def estudiar(self):\n",
    "        \"\"\" El alumno estudia por si mismo, \n",
    "        siempre aprende algo cuando estudia\"\"\"\n",
    "        estudio = random.randint(1, 5)\n",
    "        self.conocimiento += estudio\n",
    "\n",
    "\n",
    "atreus = Alumno(1, \"Boi\", 19696969, 1812)\n",
    "print(a.__dict__)"
   ]
  },
  {
   "cell_type": "markdown",
   "metadata": {
    "colab_type": "text",
    "id": "ih8mEnRnSKV7"
   },
   "source": [
    "## Ayudantes\n",
    "A diferencia de la mayoría de los cursos, el cuerpo de ayudantes de IIC2233 es bastante extenso, somos más de 30 ayudantes este semestre, por lo que es necesario tener una jerarquía interna para poder hacer funcionar las cosas de manera correcta; esta jerarquía es un secreto muy bien guardado (not really) y les será revelado a continuación con el objetivo de que puedan comprender de mejor manera los conceptos de herencia, multiherencia, polimorfismo y clases abstratas."
   ]
  },
  {
   "cell_type": "markdown",
   "metadata": {
    "colab_type": "text",
    "id": "xozJYntI2U61"
   },
   "source": [
    "### Categorías de ayudantes\n",
    "\n",
    "Entre el cuerpo de ayudantes, existen dos divisiones principales, los ayudantes de docencia (aka: Docencios) y los de ayudantes de tareas (aka: Tareos); cada una de estas dos áreas tiene diversos roles dentro de la organización de IIC2233, sin embargo los reduciremos simplemente a corregir, resolver dudas, y enseñar.\n",
    "\n",
    "Además de esta división, existe una jerarquía dentro del equipo, que tiene dos categorías fundamentales, jefes y ayudantes regulares, más conocidos como ayudantes.\n",
    "A diferencia de los ayudantes normales, los jefes tienen la capacidad de corregir y de llamar a una reunción a todo su equipo, es decir, a todos los ayudantes de su área, que esten bajo ellos en la jerarquía.\n"
   ]
  },
  {
   "cell_type": "code",
   "execution_count": null,
   "metadata": {
    "colab": {},
    "colab_type": "code",
    "id": "4KKAeH-92sWS"
   },
   "outputs": [],
   "source": [
    "from abc import ABC\n",
    "\n",
    "class Docencio(ABC):\n",
    "\n",
    "    def __init__(self, *args, **kwargs):\n",
    "        super().__init__(*args, **kwargs)\n",
    "      \n",
    "    @staticmethod\n",
    "    def corregir(actividad):\n",
    "        promedio = random.uniform(1.1, 7)\n",
    "        msg = f\"He corregido la actividad nro: {act.nro}\\n\\\n",
    "        de {act.tema} y el promedio ha sido {promedio}\"\n",
    "        print(msg)\n",
    "    \n",
    "    def educar(alumno):\n",
    "        pass\n",
    "  \n",
    "  \n",
    "class Tareo(ABC):\n",
    "    \n",
    "    def __init__(self, *args, **kwargs):\n",
    "        super().__init__(*args, **kwargs)\n",
    "        \n",
    "    \n",
    "    @staticmethod\n",
    "    def corregir(tarea):\n",
    "        promedio = random.uniform(1.1, 7)\n",
    "        msg = f\"He corregido la tarea nro: {tarea.nro} de {tarea.tema}\\\n",
    "                y el promedio ha sido {promedio}\"\n",
    "        print(msg)\n",
    "    \n",
    "    @staticmethod\n",
    "    def contestar_issue(issue_n):\n",
    "        print(f\"Estoy contestando la issue: {issue_n}\")\n",
    "\n",
    "\n",
    "class Jefe(ABC):\n",
    "    \n",
    "    def __init__(self, equipo, *args, **kwargs):\n",
    "        super().__init__(*args, **kwargs)\n",
    "        self.equipo = equipo\n",
    "\n",
    "    def programar_reunion(self):\n",
    "        for ayudante in equipo:\n",
    "            if ayudante < self:\n",
    "                print(f\"Hey {ayudante.name}! ven a reunión\")\n",
    "              \n",
    "    def __eq__(self, other):\n",
    "        return isinstance(other, type(self))\n",
    "      \n",
    "    def __lt__(self, other):\n",
    "        return isinstance(other, Profesor) or isinstance(other, Coordinador)\n",
    "\n",
    "\n",
    "class TPD(ABC):\n",
    "    \n",
    "    def __init__(self, *args, **kwargs):\n",
    "        super().__init__(*args, **kwargs)        \n",
    "        \n",
    "    def __eq__(self, other):\n",
    "        return isinstance(other, type(self))\n",
    "    \n",
    "    def __lt__(self, other):\n",
    "        return True"
   ]
  },
  {
   "cell_type": "markdown",
   "metadata": {
    "colab_type": "text",
    "id": "YcPutkCL0Q7r"
   },
   "source": [
    "### Los ayudantes\n",
    "Habiendo explicado las categorías, es momento de programar directamente a los ayudantes de IIC2233, combinando las opciones anteriores, podemos encontrar 4 tipos distintos de ayudantes, los cuales representaremos a continuación."
   ]
  },
  {
   "cell_type": "code",
   "execution_count": null,
   "metadata": {
    "colab": {},
    "colab_type": "code",
    "id": "Ovtpg3Q1ZdDo"
   },
   "outputs": [],
   "source": [
    "class AyudanteDocencia(TPD, Docencio):\n",
    "    def __init__(self, *args, **kwargs):\n",
    "        super().__init__(*args, **kwargs)\n",
    "        \n",
    "    def corregir(self, actividad):\n",
    "        Docencio.corregir(actividad)\n",
    "        \n",
    "    \n",
    "class AyudanteTareas(TPD, Tareo):\n",
    "    def __init__(self, *args, **kwargs):\n",
    "        super().__init__(*args, **kwargs)\n",
    "        \n",
    "    def corregir(self, tarea):\n",
    "        Tareo.corregir(tarea)\n",
    "    \n",
    "    \n",
    "class JefeDocencia(Jefe, Docencio):\n",
    "    def __init__(self, *args, **kwargs):\n",
    "        super().__init__(*args, **kwargs)\n",
    "    \n",
    "    \n",
    "class JefeTareas(Jefe, Tareo):\n",
    "    def __init__(self, *args, **kwargs):\n",
    "        super().__init__(*args, **kwargs)"
   ]
  },
  {
   "cell_type": "markdown",
   "metadata": {
    "colab_type": "text",
    "id": "gloSVQbm0J_y"
   },
   "source": [
    "### Overlord\n",
    "El ser supremo, con la capacidad de eliminar todo el syllabus y sus repositorios con un simple click o comando en la terminal; la capacidad de entrar a tu repositorio y cambiar el nombre a todas tus carpetas por \"Hernan was here\", alterar tus notas y hacerte reprobar el curso porque lo miraste feo (por favor no tomar en serio lo anterior, acciones como esas serían inmorales e irían contra el [código de honor](http://www.uc.cl/codigodehonor) de la UC); este ser que parece ser de ficción es real y es ~~temido~~ conocido como _Ayudante Coordinador_ del curso. Pertenece a todas lás áreas, corresponde a un jefe y además es mayor a cualquier otro ayudante en la jerarquía."
   ]
  },
  {
   "cell_type": "code",
   "execution_count": null,
   "metadata": {
    "colab": {},
    "colab_type": "code",
    "id": "25IGaIcx0I1t"
   },
   "outputs": [],
   "source": [
    "class Coordinador(Persona, Jefe, Tareo, Docencio):\n",
    "    def __init__(self, *args, **kwargs):\n",
    "        super().__init__(*args, **kwargs)\n",
    "        \n",
    "    def corregir(self):\n",
    "        print(f'{self.nombre}: Todos tienen un {random.randint(1, 7)}')\n",
    "        \n",
    "\n",
    "# (nombre, rut, nacimiento, equipo) esto esta determinado por el \"mro\"\n",
    "overlord = Coordinador('Dr. Herny', \"Herny's rut\", 'un overlord nunca revela su edad', [1, 2, 3])\n",
    "overlord.corregir()"
   ]
  },
  {
   "cell_type": "code",
   "execution_count": null,
   "metadata": {
    "colab": {},
    "colab_type": "code",
    "id": "1ZZuH216I3QV"
   },
   "outputs": [],
   "source": [
    "help(Coordinador)"
   ]
  },
  {
   "cell_type": "markdown",
   "metadata": {
    "colab_type": "text",
    "id": "s1cKNIeA1yMl"
   },
   "source": [
    "## Main\n",
    "Habiendo definido todo lo anterior es hora de poblar el sistema con algunos ayudantes, jefes y coordinador!"
   ]
  },
  {
   "cell_type": "code",
   "execution_count": null,
   "metadata": {
    "colab": {},
    "colab_type": "code",
    "id": "y33Xrik9yNcH"
   },
   "outputs": [],
   "source": [
    "from collections import namedtuple\n",
    "\n",
    "Actividad = namedtuple(\"Actividad\",[\"nro\", \"tema\"])\n",
    "Tarea = namedtuple(\"Tarea\",[\"nro\", \"tema\"])\n",
    "\n",
    "temas = [\"OOP101\", \"OOP201\", \"EDD101\", \"EDD201\", \"Metaprogramación\"]\n",
    "actividades = (Actividad(*x) for x in enumerate(temas))\n",
    "tareas = (Tarea(*y) for y in enumerate(temas))\n",
    "\n",
    "docencio1 = AyudanteDocencia()\n",
    "\n",
    "tareo1 = AyudanteTareas()\n",
    "\n",
    "for act in actividades:\n",
    "    docencio1.corregir(act)\n",
    "for t in tareas:\n",
    "    tareo1.corregir(t)\n"
   ]
  },
  {
   "cell_type": "markdown",
   "metadata": {},
   "source": [
    "## Bonus\n",
    "[Un post del mismisimo Guido Van Rossum acerca del MRO 💚🐍](http://python-history.blogspot.com/2010/06/method-resolution-order.html)\n",
    "## Que sucederá en la siguiente celda ?\n"
   ]
  },
  {
   "cell_type": "code",
   "execution_count": null,
   "metadata": {},
   "outputs": [],
   "source": [
    "class A:\n",
    "    pass\n",
    "\n",
    "class B(A):\n",
    "    pass\n",
    "\n",
    "class C(A):\n",
    "    pass\n",
    "\n",
    "class D(B, A, C):\n",
    "    pass"
   ]
  },
  {
   "cell_type": "code",
   "execution_count": null,
   "metadata": {},
   "outputs": [],
   "source": []
  }
 ],
 "metadata": {
  "accelerator": "GPU",
  "colab": {
   "collapsed_sections": [
    "s1cKNIeA1yMl",
    "dX0-osOywk-t",
    "Z-UCDRZ7xMC7",
    "TnVtns2Kk5tZ",
    "cLSLCeHM3lPM",
    "qXBlc1Gb8nEA",
    "J2BS-61__jjo"
   ],
   "name": "AY05_draft.ipynb",
   "private_outputs": true,
   "provenance": [],
   "version": "0.3.2"
  },
  "kernelspec": {
   "display_name": "Python 3",
   "language": "python",
   "name": "python3"
  },
  "language_info": {
   "codemirror_mode": {
    "name": "ipython",
    "version": 3
   },
   "file_extension": ".py",
   "mimetype": "text/x-python",
   "name": "python",
   "nbconvert_exporter": "python",
   "pygments_lexer": "ipython3",
   "version": "3.6.4"
  }
 },
 "nbformat": 4,
 "nbformat_minor": 1
}
