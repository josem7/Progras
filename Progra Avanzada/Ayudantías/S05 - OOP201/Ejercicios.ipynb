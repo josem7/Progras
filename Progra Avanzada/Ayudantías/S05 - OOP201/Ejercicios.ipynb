{
 "cells": [
  {
   "cell_type": "markdown",
   "metadata": {
    "colab_type": "text",
    "id": "Joz_z7fuwg8N"
   },
   "source": [
    "# Ejercicios\n"
   ]
  },
  {
   "cell_type": "markdown",
   "metadata": {
    "colab_type": "text",
    "id": "dX0-osOywk-t"
   },
   "source": [
    "### Ejercicio 1\n",
    "Escrib el output del siguiente código:"
   ]
  },
  {
   "cell_type": "code",
   "execution_count": 0,
   "metadata": {
    "colab": {},
    "colab_type": "code",
    "id": "7pDO6ASVwgtP"
   },
   "outputs": [],
   "source": [
    "class A:\n",
    "    def __init__(self):\n",
    "        print('Llamando al super desde A!')\n",
    "        super().__init__()\n",
    "        print('Creando instancia de A!')\n",
    "    \n",
    "class B:\n",
    "    def __init__(self):\n",
    "        print('Llamando al super desde B!')\n",
    "        super().__init__()\n",
    "        print('Creando instancia de B!')\n",
    "    \n",
    "class C(A, B):\n",
    "    def __init__(self):\n",
    "        print('Llamando al super desde C!')\n",
    "        super().__init__()\n",
    "        print('Creando instancia de C!')\n",
    "    \n",
    "class D(B, A):\n",
    "    def __init__(self):\n",
    "        print('Llamando al super desde D!')\n",
    "        super().__init__()\n",
    "        print('Creando instancia de D!')\n",
    "    \n",
    "\n",
    "inst_c = C()\n",
    "print(C.__mro__)\n",
    "print(D.__mro__)\n",
    "inst_d = D()"
   ]
  },
  {
   "cell_type": "markdown",
   "metadata": {
    "colab_type": "text",
    "id": "Z-UCDRZ7xMC7"
   },
   "source": [
    "### Ejercicio 2\n",
    "\n",
    "Modifica la suma de LocoLista para que funcione de la siguiente manera, puedes asumir que las listas tendrán siempre el mismo largo:\n",
    "\n",
    "[3, 2] + [5, 7] = [8, 9] \n",
    "\n",
    "Cabe señalar que el funcionamiento normal de suma de listas sería:\n",
    "\n",
    "[3, 2] + [5, 7] = [3, 2, 5, 7]"
   ]
  },
  {
   "cell_type": "code",
   "execution_count": 0,
   "metadata": {
    "colab": {},
    "colab_type": "code",
    "id": "1I4T5cZlxLfm"
   },
   "outputs": [],
   "source": [
    "class LocoLista(list):  # podemos heredar de objetos que ya existen en python  \n",
    "    # reescribiendo este método, podemos controlar el comportamiento de la suma\n",
    "    def __add__(self, other):\n",
    "        if isinstance(other, type(self)):  # Si estoy sumando con otra LocoLista\n",
    "          return \"Escribe aqui tu solucion para la suma de locolistas\"\n",
    "        return \"Error, no se sumar esto :(\" # spoiler alert: esto se debe manejar de otra forma\n",
    "      \n",
    "# instanciamos de la misma manera que lo hariamos para una lista de python\n",
    "loco1 = LocoLista(int(i) for i in range(5))\n",
    "loco2 = LocoLista(int(i + 5) for i in range(5))\n",
    "\n",
    "print(loco1 + loco2)  # output esperado: [5, 7, 9, 11, 13]"
   ]
  },
  {
   "cell_type": "markdown",
   "metadata": {
    "colab_type": "text",
    "id": "TnVtns2Kk5tZ"
   },
   "source": [
    "### Ejercicio 3:\n",
    "Vuelve a modificar nuestra LocoLista, para que ahora si se suma a una lista normal, tenga el comportamiento de una lista normal y si se suma con una LocoLista, mantenga lo definido en el ejercicio 2"
   ]
  },
  {
   "cell_type": "code",
   "execution_count": 0,
   "metadata": {
    "colab": {},
    "colab_type": "code",
    "id": "i0MyZa_0k5k2"
   },
   "outputs": [],
   "source": [
    "class LocoLista(list):\n",
    "    def __add__(self, other):\n",
    "        if isinstance(other, type(self)):  # Si estoy sumando con otra LocoLista\n",
    "          return \"Escribe aqui lo que hiciste en el ejercicio 2\"\n",
    "\n",
    "        if isinstance(other, list):  # Si estoy sumando con una lista de python\n",
    "            return \"Escribe aqui la nueva suma para lista + locolista\"\n",
    "\n",
    "        return \"Error, no se sumar esto :(\"  # Si sumo con cualquier otra cosa\n",
    "\n",
    "\n",
    "# Creamos las mismas LocoListas que antes\n",
    "loco1 = LocoLista(int(i) for i in range(5))\n",
    "loco2 = LocoLista(int(i + 5) for i in range(5))\n",
    "\n",
    "noloco2 = list(int(i + 5) for i in range(5))  # Creamos una lista no tan loca, pero igual a loco2\n",
    "\n",
    "print(loco1 + loco2)  # output esperado: [5, 7, 9, 11, 13]\n",
    "print(loco1 + noloco2)  # output esperado: [0, 1, 2, 3, 4, 5, 6, 7, 8, 9]"
   ]
  },
  {
   "cell_type": "markdown",
   "metadata": {
    "colab_type": "text",
    "id": "cLSLCeHM3lPM"
   },
   "source": [
    "### Ejercicio 4:\n",
    "Escribe el output del siguiente código:"
   ]
  },
  {
   "cell_type": "code",
   "execution_count": 0,
   "metadata": {
    "colab": {},
    "colab_type": "code",
    "id": "w8ReoVldzr51"
   },
   "outputs": [],
   "source": [
    "class MiEstructura:\n",
    "    \"\"\"Estructura de datos no muy util, pues no difiere mucho de una lista\"\"\"\n",
    "    def __init__(self, iterable):\n",
    "        self.datos = [i for i in iterable]\n",
    "    \n",
    "    def __len__(self):\n",
    "        largo = len(self.datos)  # calculamos un largo para nuestra estructura\n",
    "        print('Estructura de largo {}'.format(largo))  # agregamos un comportamiento\n",
    "        return largo  # retornamos el largo calculado\n",
    "\n",
    "\n",
    "e1 = [str(i) for i in range(15)]\n",
    "e2 = MiEstructura([i for i in range(10)])  # creamos una estructura personalizada\n",
    "e3 = [bool(i) for i in range(12)]  # ¿Que pasa si hacemos bool(int)? :o\n",
    "e4 = MiEstructura((i for i in range(16)))  # otra estructura\n",
    "e5 = [i ** 2 for i in range(27)]  # recuerden que podemos elevar al cuadrado en una comprension ;D\n",
    "\n",
    "lista_est = [e1, e2, e3, e4, e5]  # agrupamos las estructuras para iterar\n",
    "\n",
    "for estructura in lista_est:\n",
    "    print(len(estructura))  # llamamos a los len de las estructuras creadas\n",
    "# comentario extra por si no habian suficientes en esta celda"
   ]
  },
  {
   "cell_type": "markdown",
   "metadata": {
    "colab_type": "text",
    "id": "qXBlc1Gb8nEA"
   },
   "source": [
    "### Ejercicio 5\n",
    "Corrige el siguiente código para evitar que arroje un error"
   ]
  },
  {
   "cell_type": "code",
   "execution_count": 8,
   "metadata": {
    "colab": {},
    "colab_type": "code",
    "id": "RvE5_vvW8mvM"
   },
   "outputs": [],
   "source": [
    "from abc import ABC  # En caso de no haberlo hecho antes\n",
    "\n",
    "class Consola(ABC):\n",
    "    \"\"\"Consola de videojuegos regular\"\"\"\n",
    "    def __init__(self, cable):\n",
    "        self.cables = cable\n",
    "    \n",
    "class Portatil(ABC):\n",
    "    \"\"\"Consola de videojuegos portatil\"\"\"\n",
    "    def __init__(self, bateria, pantalla):\n",
    "        self.bateria = bateria\n",
    "        self.pantalla = pantalla\n",
    "    \n",
    "    \n",
    "class NintendoSwitch(Consola, Portatil):\n",
    "    \"\"\"Consola hibrida! :o\"\"\"\n",
    "    def __init__(self, *args, **kwargs):\n",
    "        super().__init__(*args, **kwargs)\n",
    "    \n",
    "best_consola = NintendoSwitch(cable='HDMI', bateria='4310mAh', pantalla='6.3in')\n",
    "# ¿Que pasa si hacemos print de los args y kwargs de esta llamada?\n",
    "    "
   ]
  },
  {
   "cell_type": "markdown",
   "metadata": {
    "colab_type": "text",
    "id": "J2BS-61__jjo"
   },
   "source": [
    "### Ejercicio 6\n",
    "Escribe el output del siguiente codigo:"
   ]
  },
  {
   "cell_type": "code",
   "execution_count": 9,
   "metadata": {
    "colab": {},
    "colab_type": "code",
    "id": "CI68_N7E4vtt"
   },
   "outputs": [],
   "source": [
    "class NintendoSwitch: \n",
    "    def __init__(self, propietario, n_serie, bateria, memoria):\n",
    "        self.propietario = propietario\n",
    "        self.n_serie = n_serie\n",
    "        self.bateria = bateria\n",
    "        self.memoria = memoria\n",
    "        \n",
    "    def __repr__(self):\n",
    "        return \"Consola numero:{}, memoria:{}GB, bateria:{}, propietario:{}\".format(\n",
    "            self.n_serie, self.memoria, self.bateria, self.propietario)\n",
    "    \n",
    "    def __str__(self):\n",
    "        return \"Nintendo Switch de {}\".format(self.propietario)\n",
    "    \n",
    "best_console = NintendoSwitch('Masjuan', 'NS16523', 4310, 32)\n",
    "print(best_console)\n",
    "print([best_console])"
   ]
  },
  {
   "cell_type": "code",
   "execution_count": null,
   "metadata": {
    "colab": {},
    "colab_type": "code",
    "id": "3ut2juTABNDW"
   },
   "outputs": [],
   "source": []
  }
 ],
 "metadata": {
  "accelerator": "GPU",
  "colab": {
   "collapsed_sections": [
    "QDDzO9GkwmWV",
    "SP548o4vz6uQ",
    "ih8mEnRnSKV7",
    "xozJYntI2U61",
    "YcPutkCL0Q7r",
    "gloSVQbm0J_y",
    "s1cKNIeA1yMl",
    "Joz_z7fuwg8N",
    "dX0-osOywk-t",
    "Z-UCDRZ7xMC7",
    "TnVtns2Kk5tZ",
    "cLSLCeHM3lPM",
    "qXBlc1Gb8nEA",
    "J2BS-61__jjo"
   ],
   "name": "AY05_draft.ipynb",
   "private_outputs": true,
   "provenance": [],
   "version": "0.3.2"
  },
  "kernelspec": {
   "display_name": "Python 3",
   "language": "python",
   "name": "python3"
  },
  "language_info": {
   "codemirror_mode": {
    "name": "ipython",
    "version": 3
   },
   "file_extension": ".py",
   "mimetype": "text/x-python",
   "name": "python",
   "nbconvert_exporter": "python",
   "pygments_lexer": "ipython3",
   "version": "3.6.5"
  }
 },
 "nbformat": 4,
 "nbformat_minor": 1
}
