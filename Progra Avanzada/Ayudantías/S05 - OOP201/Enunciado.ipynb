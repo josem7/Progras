{
 "cells": [
  {
   "cell_type": "markdown",
   "metadata": {
    "colab_type": "text",
    "id": "oheRwe6hv0hd"
   },
   "source": [
    "# Ayudantía 05: Multiherencia, Polimorfismo y Clases Abstractas\n",
    "#### Autores: drpinto1 y fgbruna"
   ]
  },
  {
   "cell_type": "markdown",
   "metadata": {
    "colab_type": "text",
    "id": "oLhQwbt9rwU5"
   },
   "source": [
    "# Introducción sobre polimorfismo:\n",
    "**¿Qué es Polimorfismo?**\n",
    "\n",
    "_¿Qué maneras tenemos de hacer polimorfismo?_\n",
    "* Overloading\n",
    "* Overriding\n",
    "* DuckTyping"
   ]
  },
  {
   "cell_type": "markdown",
   "metadata": {
    "colab_type": "text",
    "id": "QDDzO9GkwmWV"
   },
   "source": [
    "# Equipo de IIC2233 \n",
    "Objetivo: Modelar el funcionamiento del curso IIC2233, profundizando en la estructura del equipo docente."
   ]
  },
  {
   "cell_type": "markdown",
   "metadata": {
    "colab_type": "text",
    "id": "SP548o4vz6uQ"
   },
   "source": [
    "## Profesores y Alumnos\n",
    "Todos los miembros de IIC2233, y todas las personas de Chile, deben tener un nombre, rut y fecha de nacimiento.\n",
    "\n",
    "Al igual que todos los cursos de la universidad, IIC2233 tendrá entre sus miembros a profesores y alumnos; el objetivo de los alumnos es aprobar el curso, por lo que deberán tener un nivel de conocimiento, que va entre 0 y 100, la capacidad de aprender lo que se le enseña, aumentando su conocimiento si pone atención y disminuyéndolo si no! :o. Además deben poder estudiar por sí mismos, aumentando siempre su conocimiento.\n",
    "\n",
    "Por otra parte, los profesores deben tener la capacidad de educar a los alumnos, haciendo clases con una calidad variable, generando así que los alumnos puedan aprender más o menos según la calidad de lo que se les enseña."
   ]
  },
  {
   "cell_type": "code",
   "execution_count": 0,
   "metadata": {
    "colab": {},
    "colab_type": "code",
    "id": "cAFSEUPCz9Uv"
   },
   "outputs": [],
   "source": [
    "from abc import ABC, abstractmethod\n",
    "import random\n",
    "\n",
    "class Persona(ABC):  # Por que es abstracta?? :o\n",
    "    pass\n",
    "\n",
    "        \n",
    "class Profesor(Persona):\n",
    "    pass\n",
    "\n",
    "\n",
    "class Alumno(Persona):\n",
    "    pass\n"
   ]
  },
  {
   "cell_type": "markdown",
   "metadata": {
    "colab_type": "text",
    "id": "ih8mEnRnSKV7"
   },
   "source": [
    "## Ayudantes\n",
    "A diferencia de la mayoría de los cursos, el cuerpo de ayudantes de IIC2233 es bastante extenso, somos más de 30 ayudantes este semestre, por lo que es necesario tener una jerarquía interna para poder hacer funcionar las cosas de manera correcta; esta jerarquía es un secreto muy bien guardado (not really) y les será revelado a continuación con el objetivo de que puedan comprender de mejor manera los conceptos de herencia, multiherencia, polimorfismo y clases abstratas."
   ]
  },
  {
   "cell_type": "markdown",
   "metadata": {
    "colab_type": "text",
    "id": "xozJYntI2U61"
   },
   "source": [
    "### Categorías de ayudantes\n",
    "\n",
    "Entre el cuerpo de ayudantes, existen dos divisiones principales, los ayudantes de docencia (aka: Docencios) y los de ayudantes de tareas (aka: Tareos); cada una de estas dos áreas tiene diversos roles dentro de la organización de IIC2233, sin embargo los reduciremos simplemente a corregir, resolver dudas, y enseñar.\n",
    "\n",
    "Además de esta división, existe una jerarquía dentro del equipo, que tiene dos categorías fundamentales, jefes y ayudantes regulares, más conocidos como ayudantes.\n",
    "A diferencia de los ayudantes normales, los jefes tienen la capacidad de corregir y de llamar a una reunión a todo su equipo, es decir, a todos los ayudantes de su área, que estén bajo ellos en la jerarquía.\n"
   ]
  },
  {
   "cell_type": "code",
   "execution_count": 0,
   "metadata": {
    "colab": {},
    "colab_type": "code",
    "id": "4KKAeH-92sWS"
   },
   "outputs": [],
   "source": [
    "from abc import ABC\n",
    "\n",
    "class Docencio(ABC):\n",
    "    pass\n",
    "\n",
    "\n",
    "class Tareo(ABC):\n",
    "    pass\n",
    "\n",
    "\n",
    "class Jefe(ABC):\n",
    "    pass\n",
    "\n",
    "\n",
    "class Ayudante(ABC):\n",
    "    pass"
   ]
  },
  {
   "cell_type": "markdown",
   "metadata": {
    "colab_type": "text",
    "id": "YcPutkCL0Q7r"
   },
   "source": [
    "### Los ayudantes\n",
    "Habiendo explicado las categorías, es momento de programar directamente a los ayudantes de IIC2233, combinando las opciones anteriores, podemos encontrar 4 tipos distintos de ayudantes, los cuales representaremos a continuación."
   ]
  },
  {
   "cell_type": "code",
   "execution_count": 0,
   "metadata": {
    "colab": {},
    "colab_type": "code",
    "id": "Ovtpg3Q1ZdDo"
   },
   "outputs": [],
   "source": [
    "class AyudanteDocencia():\n",
    "    '''Ayudante y Docencio'''\n",
    "    pass\n",
    "    \n",
    "    \n",
    "class AyudanteTareas():\n",
    "    '''Ayudante y Tareo'''\n",
    "    pass\n",
    "    \n",
    "    \n",
    "class JefeDocencia():\n",
    "    '''Jefe y Docencio'''\n",
    "    pass\n",
    "    \n",
    "\n",
    "class JefeTareas():\n",
    "    '''Jefe y Tareo'''\n",
    "    pass"
   ]
  },
  {
   "cell_type": "markdown",
   "metadata": {
    "colab_type": "text",
    "id": "gloSVQbm0J_y"
   },
   "source": [
    "### Overlord\n",
    "El ser supremo, con la capacidad de eliminar todo el syllabus y sus repositorios con un simple click o comando en la terminal; la capacidad de entrar a tu repositorio y cambiar el nombre a todas tus carpetas por \"Hernán was here\", alterar tus notas y hacerte reprobar el curso porque lo miraste feo (por favor no tomar en serio lo anterior, acciones como esas serían inmorales e irían contra el [código de honor](http://www.uc.cl/codigodehonor) de la UC); este ser que parece ser de ficción es real y es ~~temido~~ conocido como _Ayudante Coordinador_ del curso. Pertenece a todas lás áreas, corresponde a un jefe y además es mayor a cualquier otro ayudante en la jerarquía."
   ]
  },
  {
   "cell_type": "code",
   "execution_count": 0,
   "metadata": {
    "colab": {},
    "colab_type": "code",
    "id": "25IGaIcx0I1t"
   },
   "outputs": [],
   "source": [
    "class Coordinador(Persona, Jefe, Tareo, Docencio):\n",
    "    pass"
   ]
  },
  {
   "cell_type": "markdown",
   "metadata": {
    "colab_type": "text",
    "id": "s1cKNIeA1yMl"
   },
   "source": [
    "## Main\n",
    "Habiendo definido todo lo anterior es hora de poblar el sistema con algunos ayudantes, jefes y coordinador!"
   ]
  },
  {
   "cell_type": "code",
   "execution_count": 0,
   "metadata": {
    "colab": {},
    "colab_type": "code",
    "id": "y33Xrik9yNcH"
   },
   "outputs": [],
   "source": [
    "from collections import namedtuple\n",
    "\n",
    "Actividad = namedtuple(\"Actividad\",[\"nro\", \"tema\"])\n",
    "Tarea = namedtuple(\"Tarea\",[\"nro\", \"tema\"])"
   ]
  }
 ],
 "metadata": {
  "accelerator": "GPU",
  "colab": {
   "collapsed_sections": [
    "s1cKNIeA1yMl",
    "dX0-osOywk-t",
    "Z-UCDRZ7xMC7",
    "TnVtns2Kk5tZ",
    "cLSLCeHM3lPM",
    "qXBlc1Gb8nEA",
    "J2BS-61__jjo"
   ],
   "name": "AY05_draft.ipynb",
   "private_outputs": true,
   "provenance": [],
   "version": "0.3.2"
  },
  "kernelspec": {
   "display_name": "Python 3",
   "language": "python",
   "name": "python3"
  },
  "language_info": {
   "codemirror_mode": {
    "name": "ipython",
    "version": 3
   },
   "file_extension": ".py",
   "mimetype": "text/x-python",
   "name": "python",
   "nbconvert_exporter": "python",
   "pygments_lexer": "ipython3",
   "version": "3.6.5"
  }
 },
 "nbformat": 4,
 "nbformat_minor": 1
}
