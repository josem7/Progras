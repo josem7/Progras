{
 "cells": [
  {
   "cell_type": "markdown",
   "metadata": {},
   "source": [
    "# Ayudantía 06 - EDD201\n",
    "\n",
    "**autores:** Santiago y Paula\n",
    "\n",
    "\n",
    "Esperando que estén disfrutado un feliz 18 les damos la bienvenida a la ayudantía EDD201 de IIC2233. Se recomienda revisar antes el enunciado y plantearse el ejercicio, para que puedan usar esta solución para resolver sus dudas.\n",
    "\n",
    "---"
   ]
  },
  {
   "cell_type": "markdown",
   "metadata": {},
   "source": [
    "## Solución Propuesta\n",
    "\n",
    "La solución que se propone en esta ayudantía, es la creación de dos clases que permitirán implementar el contactTrie y sus respectivos métodos. La primera corresponde a la clase `Node`, cuyo objetivo es modelar cada nodo del árbol y sus principales funciones, para poder dar así la estructura al árbol. Y la segunda ya es la clase `ContactTrie` que representa al árbol de contactos que comienza desde la raíz principal. La idea es que la primera clase ayude a construir al árbol, y permita su funcionamiento \"por detrás\" mientras que la clase `ContactTrie` sea la interfaz de la implementación."
   ]
  },
  {
   "cell_type": "markdown",
   "metadata": {},
   "source": [
    "## ContactTrie"
   ]
  },
  {
   "cell_type": "markdown",
   "metadata": {},
   "source": [
    "Para comenzar el árbol, como todo grafo debemos partir con su unidad básica, un nodo."
   ]
  },
  {
   "cell_type": "code",
   "execution_count": null,
   "metadata": {},
   "outputs": [],
   "source": [
    "class Node:\n",
    "    \n",
    "    def __init__(self):\n",
    "        self.number = None"
   ]
  },
  {
   "cell_type": "markdown",
   "metadata": {},
   "source": [
    "Este nodo por ahora sólo contiene el valor del número telefónico que éste podría almacenar. Sin embargo, como lo que queremos es construir un árbol, la idea es que los nodos mantengan una relación entre ellos. Es por esto que, cada nodo va a guardar en un segundo atributo llamado `children` a todos sus nodos hijos. Por otro lado, sabemos que cada nodo va a estar relacionado con una letra, y que la idea es que cada nodo padre no tenga letras repetidas entre sus hijos. Es por esto, que la estructura más adecuada para almacenar a los hijos es un `defaultdict`, cuyas claves sean las letras y para cada una de estas el valor sea un nodo. De esta forma, nos aseguramos que las letras no se podrán repetir, y que cada letra estará asociada a un nodo en particular.\n",
    "\n",
    "El nodo iría quedando como continúa:"
   ]
  },
  {
   "cell_type": "code",
   "execution_count": null,
   "metadata": {},
   "outputs": [],
   "source": [
    "# Debemos importar el defaultdict (y aprovechamos de importar namedtuple, ya que la \n",
    "# necesitaremos más adelante)\n",
    "\n",
    "from collections import defaultdict, namedtuple\n",
    "\n",
    "\n",
    "class Node:\n",
    "    \n",
    "    def __init__(self):\n",
    "        self.number = None\n",
    "        self.children = defaultdict(Node)"
   ]
  },
  {
   "cell_type": "markdown",
   "metadata": {},
   "source": [
    "Ahora, crearemos la clase `ContactTrie`, la cual será nuestra interfaz. Esta clase actuará como el nodo raíz, y tendrá como hijos a elementos de la clase `Node` (que a la vez tendrán a sus propios hijos), por lo que al igual que en la clase anterior, deberá guardar una relación con ellos. Para esto, contará con el atributo `children` que al igual que en el caso de `Node` será un `defaultdict` para asegurar que no haya repetición de letras y que cada letra esté asociada a un nodo.\n"
   ]
  },
  {
   "cell_type": "code",
   "execution_count": null,
   "metadata": {},
   "outputs": [],
   "source": [
    "class ContacTrie:\n",
    "\n",
    "    def __init__(self):\n",
    "        self.children = defaultdict(Node)"
   ]
  },
  {
   "cell_type": "markdown",
   "metadata": {},
   "source": [
    "Ahora, comenzaremos a añadir los métodos pedidos a nuestro `ContactTrie`:\n",
    "\n",
    "En primer lugar, comenzaremos con la funcionalidad de añadir contactos, `add_contact(name, number)`:\n",
    "\n",
    "> Este método permite agregar contactos entregándole un string con el nombre y un entero con el número del contacto que se desea añadir. Si el string es válido, debe ser transformado a mayúsculas. Además, se debe verificar que el número telefónico ingresado, sea un entero mayor a 0. Si el número entregado no es entero, o es menor o igual a 0, se debe imprimir un mensaje señalando este error. Si ambos argumentos (nombre y número) son válidos, se puede proceder a agregarlos. Si el nombre del contacto ya existe en el ContacTrie, éste se debe sobreescribir, y por ende se modifica el número que ya existía por el nuevo número; de lo contrario, solo de debe añadir el nuevo número.\n",
    "\n",
    "En primer lugar nos encargaremos de resolver cómo implementar esta funcionalidad, y hacia el final de la ayudantía nos preocuparemos de la validación de los inputs.\n",
    "\n",
    "Para esto, lo primero que haremos será implementar esta función de agregar hijos para cada nodo, y luego la implementaremos al `ContactTrie`. \n"
   ]
  },
  {
   "cell_type": "code",
   "execution_count": null,
   "metadata": {},
   "outputs": [],
   "source": [
    "class Node:\n",
    "    \n",
    "    def __init__(self):\n",
    "        self.number = None\n",
    "        self.children = defaultdict(Node)\n",
    "\n",
    "    def _add_contact(self, name, number):\n",
    "    \n",
    "            if len(name) > 0:\n",
    "                # Gracias al defaultdict, podemos obviar el hecho de si existe o no el nodo.\n",
    "                self.children[name[0]]._add_contact(name[1:], number)\n",
    "            else:\n",
    "                if self.number: # Si tiene un número\n",
    "                    print(\"Número de contacto actualizado\")  \n",
    "                else:\n",
    "                    print(\"Contacto agregado con éxito\")\n",
    "                self.number = number\n"
   ]
  },
  {
   "cell_type": "markdown",
   "metadata": {},
   "source": [
    "Al agregar un nuevo contacto a un nodo, se analiza la primera letra del nombre que se entrega como argumento. Si el nodo no tiene esa letra como _key_ de uno de sus nodos hijos, ésta se crea junto a su nuevo nodo hijo correspondiente. Luego esta función toma al nodo hijo cuya _key_ es la primera letra del nombre entregado, y le aplica esta misma función (recursivamente), añadiéndole el nombre **desde la siguiente letra en adelante**. Esto ocurre sucesivamente hasta que se llega a la última letra de la palabra. Cuando ya no hay más letras que agregar, el nodo chequea si tiene un número almacenado en su atributo `number`. Si no tiene, agrega el número e imprime un mensaje que el contacto fue añadido exitosamente, de lo contrario, cambia el número que había previamente guardado por el nuevo número agregado."
   ]
  },
  {
   "cell_type": "markdown",
   "metadata": {},
   "source": [
    "Ahora que ya tenemos esta funcionalidad implementada para los nodos, debemos agregarla a `ContactTrie`:"
   ]
  },
  {
   "cell_type": "code",
   "execution_count": null,
   "metadata": {},
   "outputs": [],
   "source": [
    "class ContacTrie:\n",
    "\n",
    "    def __init__(self):\n",
    "        self.children = defaultdict(Node)\n",
    "\n",
    "    def add_contact(self, name, number):\n",
    "        name = name.upper()\n",
    "        # Gracias al defaultdict, podemos obviar el hecho de si existe o no el nodo.\n",
    "        self.children[name[0]]._add_contact(name[1:], number)"
   ]
  },
  {
   "cell_type": "markdown",
   "metadata": {},
   "source": [
    "Este método en primer lugar toma el nombre a ser añadido y lo convierte a mayúsculas, para luego, haciendo uso de la misma lógica explicada anteriormente, agregar el resto del contacto a aquel nodo hijo que esté asociado a la primera letra del contacto, y así sucesivamente."
   ]
  },
  {
   "cell_type": "code",
   "execution_count": null,
   "metadata": {},
   "outputs": [],
   "source": [
    "# A continuación se muestra un ejemplo de uso de esta funcionalidad\n",
    "\n",
    "nuevo_contacttrie=ContacTrie()\n",
    "nuevo_contacttrie.add_contact(\"Joaquín\", 12345678)\n",
    "nuevo_contacttrie.add_contact(\"Tamara\", 87654321)\n",
    "nuevo_contacttrie.add_contact(\"Joaquín\", 12341234)\n",
    "nuevo_contacttrie.add_contact(\"Miguel\", 45454545)"
   ]
  },
  {
   "cell_type": "markdown",
   "metadata": {},
   "source": [
    "El siguiente método a implementar, es `get_all_contacts`:\n",
    "\n",
    "> Este método no recibe argumentos y debe retornar una lista con todos los contactos del ContactTrie. Cada contacto en la lista debe estar contenido en una namedtuple `Contact` con los argumentos `name` y `number`. El orden en que se muestran los contactos es irrelevante.\n",
    "\n",
    " Para este método, al igual que el método anterior, crearemos una función en la clase `Node` que nos permita recorrer las ramas de los distintos nodos, y posteriormente haremos uso de esta función para implementar el método en nuestro `ContactTrie`."
   ]
  },
  {
   "cell_type": "code",
   "execution_count": null,
   "metadata": {},
   "outputs": [],
   "source": [
    "Contact = namedtuple(\"Contact\", [\"name\",\"number\"])"
   ]
  },
  {
   "cell_type": "markdown",
   "metadata": {},
   "source": [
    "En primer lugar definimos (fuera de la clase nodo) la namedtuple `Contact`, que nos permitirá almacenar tanto el nombre como el número de cada contacto, para después poder retornarlos en una lista."
   ]
  },
  {
   "cell_type": "code",
   "execution_count": null,
   "metadata": {},
   "outputs": [],
   "source": [
    "class Node:\n",
    "    \n",
    "    def __init__(self):\n",
    "        self.number = None\n",
    "        self.children = defaultdict(Node)\n",
    "\n",
    "    def _add_contact(self, name, number):\n",
    "    \n",
    "            if len(name) > 0:\n",
    "                self.children[name[0]]._add_contact(name[1:], number)\n",
    "            else:\n",
    "                if self.number is None:\n",
    "                    self.number = number\n",
    "                    print(\"Contacto agregado con éxito\")\n",
    "                else:\n",
    "                    self.number = number\n",
    "                    print(\"Número de contacto actualizado\")  \n",
    "    \n",
    "    def _get_all_contacts(self, actual_name, lista):\n",
    "    \n",
    "            if self.number:\n",
    "                lista.append(Contact(actual_name, self.number))\n",
    "                \n",
    "            for child in self.children:\n",
    "                aux = actual_name + child\n",
    "                new_node = self.children[child]\n",
    "                new_node._get_all_contacts(aux, lista)\n"
   ]
  },
  {
   "cell_type": "markdown",
   "metadata": {},
   "source": [
    "Luego, creamos el método `_get_all_contacts` para la clase `Node`. Este método recibe una palabra (o una letra) y una lista como argumentos. Lo que hace el nodo, es recorrer cada uno de sus hijos, y agregar la letra asociada a cada hijo a la palabra entregada como argumento, así, va avanzando por cada rama, de cada hijo hasta el final. Cuando llega a un nodo con número válido, crea una `Contact` con el nombre del contacto (que se fue construyendo al concatenar todas las letras de la rama desde el nodo inicial) y su número y la añade a la lista.\n",
    "\n",
    "Posteriormente implementamos este método para la clase `ContactTrie`, como se muestra a continuación:"
   ]
  },
  {
   "cell_type": "code",
   "execution_count": null,
   "metadata": {},
   "outputs": [],
   "source": [
    "class ContacTrie:\n",
    "\n",
    "    def __init__(self):\n",
    "        self.children = defaultdict(Node)\n",
    "\n",
    "    def add_contact(self, name, number):\n",
    "        name = name.upper()\n",
    "        self.children[name[0]]._add_contact(name[1:], number)\n",
    "    \n",
    "    def get_all_contacts(self):\n",
    "            contacts = list()\n",
    "            for child in self.children:\n",
    "                self.children[child]._get_all_contacts(child, contacts)\n",
    "            return contacts"
   ]
  },
  {
   "cell_type": "code",
   "execution_count": null,
   "metadata": {},
   "outputs": [],
   "source": [
    "# Para agregar contactos\n",
    "\n",
    "nuevo_contacttrie = ContacTrie()\n",
    "nuevo_contacttrie.add_contact(\"Joaquín\", 12345678)\n",
    "nuevo_contacttrie.add_contact(\"Tamara\", 87654321)\n",
    "nuevo_contacttrie.add_contact(\"Gonzalo\", 12341234)\n",
    "nuevo_contacttrie.add_contact(\"Miguel\", 45454545)\n",
    "\n",
    "# Para visualizar los contactos agregados anteriormente:\n",
    "\n",
    "lista_contactos = nuevo_contacttrie.get_all_contacts()\n",
    "print(lista_contactos)\n",
    "for contacto in lista_contactos:\n",
    "    print(str(contacto.name)+\" \"+str(contacto.number))\n"
   ]
  },
  {
   "cell_type": "markdown",
   "metadata": {},
   "source": [
    "Este método lo que hace es iterar sobre cada uno de sus hijos, es decir, sobre cada letra que tiene la raíz principal del árbol como hija, y entrega esta letra como argumento, a su nodo hijo correspondiente, para que éste, haciendo uso de la función definida para los nodos, pueda recorrer todas sus ramas hacia abajo e ir agregando los contactos a la lista `contacts`."
   ]
  },
  {
   "cell_type": "markdown",
   "metadata": {},
   "source": [
    "Finalmente, implementamos el método `ask_for_contact(name)`:\n",
    "\n",
    "> Este método debe consultar por un número de un contacto. Para esto se le debe entregar un string con el nombre del contacto pedido. Si el contacto es válido, debe ser transformado a mayúsculas para poder iniciar la búsqueda. Si el contacto no existe se debe imprimir \"Contacto Inexistente\". Si el contacto existe se debe imprimir el nombre y el número de la siguiente forma: {({nombre\\}, \\{número\\})}''.\n",
    "\n",
    "A continuación se muestra la función que lo implementa. La idea es utilizar la estructura del árbol para buscar y no abusar del método `get_all_contacts`, ya que el tamaño del árbol puede ser enorme."
   ]
  },
  {
   "cell_type": "code",
   "execution_count": null,
   "metadata": {},
   "outputs": [],
   "source": [
    "class ContacTrie:\n",
    "\n",
    "    def __init__(self):\n",
    "        self.children = defaultdict(Node)\n",
    "\n",
    "    def add_contact(self, name, number):\n",
    "        name = name.upper()\n",
    "        self.children[name[0]]._add_contact(name[1:], number)\n",
    "\n",
    "    def get_all_contacts(self):\n",
    "            contacts = list()\n",
    "            for child in self.children:\n",
    "                self.children[child]._get_all_contacts(child, contacts)\n",
    "            return contacts\n",
    "\n",
    "    def ask_for_contact(self, name):\n",
    "        \n",
    "            name = name.upper()\n",
    "            node = self\n",
    "    \n",
    "            initial_name = name\n",
    "            while name:\n",
    "    \n",
    "                if name[0] in node.children:\n",
    "                    node = node.children[name[0]]\n",
    "                    name = name[1:]\n",
    "                else:\n",
    "                    print(\"Contacto Inexistente\")\n",
    "                    return\n",
    "            if node.number:\n",
    "                print(\"({}, {})\".format(initial_name, node.number))\n",
    "            else:\n",
    "                print(\"Contacto Inexistente\")\n"
   ]
  },
  {
   "cell_type": "code",
   "execution_count": null,
   "metadata": {},
   "outputs": [],
   "source": [
    "# Para agregar contactos\n",
    "\n",
    "\n",
    "nuevo_contacttrie=ContacTrie()\n",
    "nuevo_contacttrie.add_contact(\"Joaquín\", 12345678)\n",
    "nuevo_contacttrie.add_contact(\"Tamara\", 87654321)\n",
    "nuevo_contacttrie.add_contact(\"Gonzalo\", 12341234)\n",
    "nuevo_contacttrie.add_contact(\"Miguel\", 45454545)\n",
    "\n",
    "#Para obtener todos los contactos\n",
    "\n",
    "lista_contactos=nuevo_contacttrie.get_all_contacts()\n",
    "for contacto in lista_contactos:\n",
    "    print(str(contacto.name)+\" \"+str(contacto.number))\n",
    "\n",
    "# Para preguntar por el número de Joaquín:\n",
    "\n",
    "nuevo_contacttrie.ask_for_contact(\"Joaquín\")\n",
    "nuevo_contacttrie.ask_for_contact(\"hola\")"
   ]
  },
  {
   "cell_type": "markdown",
   "metadata": {},
   "source": [
    "Este método se utiliza para buscar un contacto. En primer lugar, se recorren los hijos del nodo raíz, verificando que alguno de ellos tenga la primera letra del contacto que se desea buscar. En caso que no se encuentre, la función no retorna nada, pues el contacto era inexistente. Por otro lado, si la letra existía, entonces la función busca la segunda letra del contacto en los nodos _nietos_ del nodo raíz, es decir, en los nodos hijos de aquel nodo hijo que estaba asociado a la primera letra del contacto. De esta forma, va recorriendo el árbol hasta llegar al final del contacto. Si al estar al final de éste, existe un número asociado, entonces retorna el nombre del contacto y su número; de lo contario, no retorna nada.\n",
    "\n",
    "Como se pueden dar cuenta, en ambas funcionalidades del ContactTrie, cumplimos con la creación de los método, sin embargo, no realizamos la validación de inputs para ninguno de ellos. Sin embargo, esto no es un problema porque podemos crear un decorador que se encargue de esa validación y con ello queda solucionado el problema de los inputs !!!!\n",
    "\n",
    "A continuación creamos un decorador que podermos utilizar para la validación de inputs tanto de \"add_contact\" como de \"ask_for_contact\":"
   ]
  },
  {
   "cell_type": "code",
   "execution_count": null,
   "metadata": {},
   "outputs": [],
   "source": [
    "def check_types(*types):\n",
    "    def decorator(original_function):\n",
    "        def new_function(self, *args):\n",
    "            # Recordar que se decora un método de clase (viene con self)\n",
    "            if len(types) != len(args):\n",
    "                print(\"Error de tipos: Número incorrecto de argumentos entregados\")\n",
    "                return None\n",
    "            pairs = zip(args, types)\n",
    "            for argument, _type in pairs:\n",
    "                if not isinstance(argument, _type):\n",
    "                    print(\"Error de tipos: Los tipos de los argumentos son incorrectos\")\n",
    "                    return None\n",
    "            return original_function(self, *args)  \n",
    "        return new_function\n",
    "    return decorator\n",
    "\n",
    "def not_empty(original_function):\n",
    "    def new_function(self, name, *args):\n",
    "        if len(name):\n",
    "            return original_function(self, name, *args)\n",
    "        print(\"Error de valor: Nombre no puede ser vacío\")\n",
    "        return None\n",
    "    return new_function"
   ]
  },
  {
   "cell_type": "markdown",
   "metadata": {},
   "source": [
    "Finalmente lo único que debemos hacer es decorar los métodos `add_contact` y `ask_for_contact` de la clase `ContactTrie`, y nuestro programa está listo :) "
   ]
  },
  {
   "cell_type": "code",
   "execution_count": null,
   "metadata": {},
   "outputs": [],
   "source": [
    "class ContacTrie:\n",
    "\n",
    "    def __init__(self):\n",
    "        self.children = defaultdict(Node)\n",
    "    \n",
    "    @check_types(str, int)\n",
    "    @not_empty\n",
    "    def add_contact(self, name, number):\n",
    "        name = name.upper()\n",
    "        self.children[name[0]]._add_contact(name[1:], number)\n",
    "\n",
    "    def get_all_contacts(self):\n",
    "            contacts = list()\n",
    "            for child in self.children:\n",
    "                self.children[child]._get_all_contacts(child, contacts)        \n",
    "            return contacts\n",
    "        \n",
    "    @check_types(str)\n",
    "    @not_empty\n",
    "    def ask_for_contact(self, name):\n",
    "        \n",
    "            name = name.upper()\n",
    "            node = self\n",
    "    \n",
    "            initial_name = name\n",
    "            while len(name) > 0:\n",
    "    \n",
    "                if name[0] in node.children:\n",
    "                    node = node.children[name[0]]\n",
    "                    name = name[1:]\n",
    "                else:\n",
    "                    print(\"Contacto Inexistente\")\n",
    "                    return\n",
    "            if node.number is not None:\n",
    "                print(\"({}, {})\".format(initial_name, node.number))\n",
    "            else:\n",
    "                print(\"Contacto Inexistente\")\n",
    "            "
   ]
  },
  {
   "cell_type": "code",
   "execution_count": null,
   "metadata": {},
   "outputs": [],
   "source": [
    "# Ahora al intentar ingresar un nombre inválido, el ContactTrie no lo permitirá:\n",
    "\n",
    "nuevo_contacttrie2=ContacTrie()\n",
    "\n",
    "nuevo_contacttrie2.add_contact(\"Miguel\", 45454545)\n",
    "\n",
    "nuevo_contacttrie2.add_contact(\"Joaqu33n\", 12345678)\n",
    "\n",
    "nuevo_contacttrie2.add_contact(\"\" , 9090909)\n",
    "\n",
    "nuevo_contacttrie2.add_contact(123,123)\n",
    "\n",
    "\n",
    "# Aquí se podrá ver sólo el primer contacto pudo ser ingresado, y como ninguno de los siguientes\n",
    "# tres contactos era válido, entonces el el contacttrie solo registró el primero:\n",
    "\n",
    "print(\"\")\n",
    "lista_contactos_2=nuevo_contacttrie2.get_all_contacts()\n",
    "print(\"la nueva lista de contactos es: \"+str(lista_contactos_2))\n",
    "\n",
    "#Finalmente, si deseamos buscar un contacto y no ingresamos los parámetros en forma correcta, la búsqueda\n",
    "#no se realizará:\n",
    "\n",
    "print(\"\")\n",
    "nuevo_contacttrie2.ask_for_contact(\"123\")\n"
   ]
  },
  {
   "cell_type": "code",
   "execution_count": null,
   "metadata": {},
   "outputs": [],
   "source": []
  },
  {
   "cell_type": "code",
   "execution_count": null,
   "metadata": {},
   "outputs": [],
   "source": []
  }
 ],
 "metadata": {
  "kernelspec": {
   "display_name": "Python 3",
   "language": "python",
   "name": "python3"
  },
  "language_info": {
   "codemirror_mode": {
    "name": "ipython",
    "version": 3
   },
   "file_extension": ".py",
   "mimetype": "text/x-python",
   "name": "python",
   "nbconvert_exporter": "python",
   "pygments_lexer": "ipython3",
   "version": "3.6.4"
  }
 },
 "nbformat": 4,
 "nbformat_minor": 2
}
