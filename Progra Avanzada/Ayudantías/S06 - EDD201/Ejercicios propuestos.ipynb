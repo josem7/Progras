{
 "cells": [
  {
   "cell_type": "markdown",
   "metadata": {},
   "source": [
    "# Sección preguntas y ejercicios propuestos\n"
   ]
  },
  {
   "cell_type": "markdown",
   "metadata": {},
   "source": [
    "A continuación se muestran preguntas y ejercicios que les servirán para practicar lo referente a listas ligadas, les recomendamos hacer estos ejercicios a conciencia, pues les podrá ser de gran utilidad más adelante."
   ]
  },
  {
   "cell_type": "markdown",
   "metadata": {},
   "source": [
    "### Ejercicio #1\n",
    "\n",
    "¿Cuál es la diferencia entre un iterable y un iterador? ¿una lista ligada es un iterador o un iterable?"
   ]
  },
  {
   "cell_type": "markdown",
   "metadata": {},
   "source": [
    "### Ejercicio #2\n",
    "¿Cuál es el beneficio de implementar el método `__next__` aún cuando ya esta implementado el `__getitem__`?"
   ]
  },
  {
   "cell_type": "markdown",
   "metadata": {},
   "source": [
    " ### Ejercicio #3\n",
    " Implemente la función `factorial` la cual reciba un número entero positivo y, de manera **recursiva**, calcule el factorial de ese número."
   ]
  },
  {
   "cell_type": "code",
   "execution_count": null,
   "metadata": {},
   "outputs": [],
   "source": [
    "def factorial(n):\n",
    "    pass"
   ]
  },
  {
   "cell_type": "code",
   "execution_count": null,
   "metadata": {},
   "outputs": [],
   "source": [
    "print(factorial(3))  # Imprime 6\n",
    "print(factorial(2))  # Imprime 2 "
   ]
  },
  {
   "cell_type": "markdown",
   "metadata": {},
   "source": [
    "### Lista Ligada\n",
    "\n",
    "Para los siguientes ejercicios usaremos como base la lista ligada que se detalla en los contenidos, por lo que se recomienda fuertemente leer el material (si es que todavía no lo han hecho).\n"
   ]
  },
  {
   "cell_type": "code",
   "execution_count": null,
   "metadata": {},
   "outputs": [],
   "source": [
    "class Nodo:\n",
    "    def __init__(self, valor=None):\n",
    "        self.valor = valor\n",
    "        self.siguiente = None\n",
    "        \n",
    "        \n",
    "class ListaLigada:\n",
    "\n",
    "    def __init__(self):\n",
    "        self.cabeza = None\n",
    "        self.cola = None\n",
    "        \n",
    "    def append(self, valor):\n",
    "        nuevo = Nodo(valor)\n",
    "        if not self.cabeza:\n",
    "            self.cabeza = nuevo\n",
    "            self.cola = self.cabeza\n",
    "        else:\n",
    "            self.cola.siguiente = nuevo\n",
    "            self.cola = self.cola.siguiente\n",
    "  \n",
    "    def obtener_elemento(self, posicion):\n",
    "        nodo_actual = self.cabeza\n",
    "        for i in range(posicion):\n",
    "            if nodo_actual:\n",
    "                nodo_actual = nodo_actual.siguiente\n",
    "        if not nodo_actual:\n",
    "            return \"Posición no encontrada\"\n",
    "        return nodo_actual.valor\n",
    "             \n",
    "    def __repr__(self):\n",
    "        string = \"\"\n",
    "        nodo_actual = self.cabeza\n",
    "        while nodo_actual:\n",
    "            string = f\"{string}{nodo_actual.valor} → \"\n",
    "            nodo_actual = nodo_actual.siguiente\n",
    "        return string"
   ]
  },
  {
   "cell_type": "markdown",
   "metadata": {},
   "source": [
    "Un ejemplo de uso:"
   ]
  },
  {
   "cell_type": "code",
   "execution_count": null,
   "metadata": {},
   "outputs": [],
   "source": [
    "# Prueba\n",
    "\n",
    "mi_lista = ListaLigada()\n",
    "mi_lista.append(5)\n",
    "\n",
    "print(mi_lista) # 5 ->\n",
    "\n",
    "primer_elemento = mi_lista.obtener_elemento(0)\n",
    "\n",
    "print(primer_elemento) # 5"
   ]
  },
  {
   "cell_type": "markdown",
   "metadata": {},
   "source": [
    "### Ejercicio 4\n",
    "Implemente el _dunder method_ `__len__` en la clase `ListaLigada`."
   ]
  },
  {
   "cell_type": "code",
   "execution_count": null,
   "metadata": {},
   "outputs": [],
   "source": [
    "class ListaLigada:\n",
    "\n",
    "    def __init__(self):\n",
    "        self.cabeza = None\n",
    "        self.cola = None\n",
    "        \n",
    "    def append(self, valor):\n",
    "        nuevo = Nodo(valor)\n",
    "        if not self.cabeza:\n",
    "            self.cabeza = nuevo\n",
    "            self.cola = self.cabeza\n",
    "        else:\n",
    "            self.cola.siguiente = nuevo\n",
    "            self.cola = self.cola.siguiente\n",
    "  \n",
    "    def obtener_elemento(self, posicion):\n",
    "        nodo_actual = self.cabeza\n",
    "        for i in range(posicion):\n",
    "            if nodo_actual:\n",
    "                nodo_actual = nodo_actual.siguiente\n",
    "        if not nodo_actual:\n",
    "            return \"Posición no encontrada\"\n",
    "        return nodo_actual.valor\n",
    "    \n",
    "    \n",
    "    ##################################################################\n",
    "    \n",
    "        \n",
    "    def __len__(self):\n",
    "        # Haga su solución aquí\n",
    "        pass\n",
    "    \n",
    "    \n",
    "    ##################################################################\n",
    "    \n",
    "    \n",
    "    def __repr__(self):\n",
    "        string = \"\"\n",
    "        nodo_actual = self.cabeza\n",
    "        while nodo_actual:\n",
    "            string = f\"{string}{nodo_actual.valor} → \"\n",
    "            nodo_actual = nodo_actual.siguiente\n",
    "        return string"
   ]
  },
  {
   "cell_type": "code",
   "execution_count": null,
   "metadata": {},
   "outputs": [],
   "source": [
    "# Prueba\n",
    "\n",
    "mi_lista = ListaLigada()\n",
    "mi_lista.append(5)\n",
    "mi_lista.append(9)\n",
    "\n",
    "print(mi_lista) # 5 -> 9 ->\n",
    "print(len(mi_lista)) # 2"
   ]
  },
  {
   "cell_type": "markdown",
   "metadata": {},
   "source": [
    "### Ejercicio 5\n",
    "Implementa el _dunder method_ `__getitem__` en la clase `ListaLigada`."
   ]
  },
  {
   "cell_type": "code",
   "execution_count": null,
   "metadata": {},
   "outputs": [],
   "source": [
    "class ListaLigada:\n",
    "\n",
    "    def __init__(self):\n",
    "        self.cabeza = None\n",
    "        self.cola = None\n",
    "        \n",
    "    def append(self, valor):\n",
    "        nuevo = Nodo(valor)\n",
    "        if not self.cabeza:\n",
    "            self.cabeza = nuevo\n",
    "            self.cola = self.cabeza\n",
    "        else:\n",
    "            self.cola.siguiente = nuevo\n",
    "            self.cola = self.cola.siguiente\n",
    "    \n",
    "    \n",
    "    ##################################################################\n",
    "    \n",
    "    def __getitem__(self, item):\n",
    "        # Haga su solución aquí\n",
    "        pass\n",
    "\n",
    "    ##################################################################\n",
    "    \n",
    "    \n",
    "    def __repr__(self):\n",
    "        string = \"\"\n",
    "        nodo_actual = self.cabeza\n",
    "        while nodo_actual:\n",
    "            string = f\"{string}{nodo_actual.valor} → \"\n",
    "            nodo_actual = nodo_actual.siguiente\n",
    "        return string"
   ]
  },
  {
   "cell_type": "code",
   "execution_count": null,
   "metadata": {},
   "outputs": [],
   "source": [
    "# Prueba\n",
    "\n",
    "mi_lista = ListaLigada()\n",
    "mi_lista.append(5)\n",
    "mi_lista.append(9)\n",
    "\n",
    "print(mi_lista) # 5 -> 9 ->\n",
    "print(mi_lista[1]) # 9"
   ]
  },
  {
   "cell_type": "code",
   "execution_count": null,
   "metadata": {},
   "outputs": [],
   "source": []
  }
 ],
 "metadata": {
  "kernelspec": {
   "display_name": "Python 3",
   "language": "python",
   "name": "python3"
  },
  "language_info": {
   "codemirror_mode": {
    "name": "ipython",
    "version": 3
   },
   "file_extension": ".py",
   "mimetype": "text/x-python",
   "name": "python",
   "nbconvert_exporter": "python",
   "pygments_lexer": "ipython3",
   "version": "3.6.5"
  }
 },
 "nbformat": 4,
 "nbformat_minor": 2
}
