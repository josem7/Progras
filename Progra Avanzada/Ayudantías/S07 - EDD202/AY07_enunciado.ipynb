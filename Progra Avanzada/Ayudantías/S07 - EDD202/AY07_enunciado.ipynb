{
 "cells": [
  {
   "cell_type": "markdown",
   "metadata": {},
   "source": [
    "# Ayudantía 07 - EDD202\n",
    "\n",
    "**autores:** Pablo y Paula\n",
    "\n",
    "\n",
    "Se recomienda revisar el enunciado antes de la ayudantía y plantearse el ejercicio, para que luego puedan usar la solución para resolver sus dudas.\n",
    "\n",
    "---"
   ]
  },
  {
   "cell_type": "markdown",
   "metadata": {},
   "source": [
    "## Enunciado:\n",
    "\n",
    "Estás en problemas. Luego de una discusión con un familiar, tomas tu pistola interdimensional y huyes lo más lejos que puedes. Lamentablemente, caíste en el peor lugar posible y no puedes ir directo a casa porque tiraste la pistola, haciendo que trace una serie de rutas interconectadas que pueden llevarte a casa o a la muerte. \n",
    "Por suerte, tienes acceso a un computador con Python que puedes utilizar para encontrar el camino a casa.\n",
    "\n",
    "Se les entregará un archivo, donde cada línea tendrá el formato origen,destino. Este contiene todas las relaciones que deben presentarse en el grafo dirigido. A continuación, se presenta un ejemplo de la relación que se crea a partir de un archivo `test.txt`."
   ]
  },
  {
   "cell_type": "markdown",
   "metadata": {},
   "source": [
    "<img src='img/imagen_ejemplo.png' style='display:block;margin-left:auto;margin-right:auto;width:50%;'>"
   ]
  },
  {
   "cell_type": "markdown",
   "metadata": {},
   "source": [
    "Se espera que tu programa sea capaz de leer cualquier archivo CSV con el formato mencionado y crear un grafo dirigido.\n",
    "\n",
    "Para poder hacer esto, es necesario que tu clase grafo tenga los métodos que se muestran a continuación: \n",
    "\n",
    "- `agregar_conexion`: Recibe como parámetro el nombre del nodo de origen y el nombre del nodo de destino entre los que se debe crear una conexión. En caso de que uno de los nodos no se encuentre en el grafo, este debe ser creado y luego se debe establecer la conexión entre ambos.\n",
    "\n",
    "- `quitar_conexion`: Recibe el nombre del nodo de origen y del nodo de destino al cual se eliminará la conexión entre ambos sin borrar las relaciones que pueda tener el nodo de destino.\n",
    "\n",
    "- `cargar_archivo`: Recibe el nombre del archivo csv y agrega las conexiones de cada línea al grafo."
   ]
  },
  {
   "cell_type": "code",
   "execution_count": 18,
   "metadata": {},
   "outputs": [],
   "source": [
    "from collections import deque\n",
    "class GraphNode:\n",
    "    def __init__(self, nombre):\n",
    "        self.nombre = nombre\n",
    "        self.adyacente = set()\n",
    "\n",
    "    def conectar(self, nodo):\n",
    "        self.adyacente.add(nodo.nombre)\n",
    "\n",
    "    def desconectar(self, nodo):\n",
    "        self.adyacente.remove(nodo.nombre)\n",
    "    \n",
    "    def __repr__(self):\n",
    "        return f\"Nodo: {self.nombre} CONEXIONES:\" + repr(self.adyacente)\n",
    "        \n",
    "        \n",
    "class Graph:\n",
    "    def __init__(self):\n",
    "        self.nodos = dict()\n",
    "\n",
    "    def _crear_nodo(self, nombre):\n",
    "        nodo = self.nodos.get(nombre)\n",
    "        if nodo is None:\n",
    "            nodo = GraphNode(nombre)\n",
    "            self.nodos[nombre] = nodo\n",
    "        return nodo\n",
    "        \n",
    "        \n",
    "    def agregar_conexion(self, origen, destino):\n",
    "        nodo_origen = self._crear_nodo(origen)\n",
    "        nodo_destino = self._crear_nodo(destino)\n",
    "        nodo_origen.conectar(nodo_destino)\n",
    "        \n",
    "\n",
    "    def quitar_conexion(self, origen, destino):\n",
    "        nodo_origen = self._crear_nodo(origen)\n",
    "        nodo_destino = self._crear_nodo(destino)\n",
    "        nodo_origen.desconectar(nodo_destino)\n",
    "    \n",
    "    def cargar_archivo(self, path_archivo):\n",
    "        with open (path_archivo, \"r\") as archivo:\n",
    "            for linea in archivo:\n",
    "                self.agregar_conexion(*linea.strip().split(\",\"))\n",
    "                \n",
    "    def __str__(self):\n",
    "        msg = \"\"\n",
    "        for k, v in self.nodos.items():\n",
    "             msg += f\"{v} \\n\"\n",
    "        return msg\n",
    "                \n",
    "    def encontrar_camino(self, origen, destino, nodos_visitados = None):\n",
    "        nodo_actual = self.nodos[origen]\n",
    "        if nodos_visitados is None:\n",
    "            nodos_visitados = []\n",
    "        if origen == destino:\n",
    "            return True   \n",
    "        nodos_visitados.append(origen)\n",
    "        for i in nodo_actual.adyacente:\n",
    "            if i not in nodos_visitados:\n",
    "                nodos_visitados.append(i)\n",
    "                if self.encontrar_camino(i, destino, nodos_visitados):\n",
    "                    return True\n",
    "        return False\n",
    "    \n",
    "    \n",
    "    def get_node(self, name):\n",
    "        if name in self.nodos.keys():\n",
    "            return self.nodos[name]\n",
    "        return None\n",
    "                \n",
    "    def encontrar_camino_corto(self, origen, destino):\n",
    "        if origen == destino:\n",
    "            return True\n",
    "        origen = self.nodos.get(origen)\n",
    "        destino = self.nodos.get(destino)\n",
    "        if origen is None or destino is None:\n",
    "            return None\n",
    "        cola = [[origen]]\n",
    "        visited = list()\n",
    "        while len(cola):\n",
    "            current_path = cola.pop(0)\n",
    "            current = current_path[-1]\n",
    "            if current not in visited:\n",
    "                lista_vecinos=[self.get_node(x) for x in current.adyacente]\n",
    "                for vecino in lista_vecinos:\n",
    "                    cola.append(list(current_path) + [vecino])\n",
    "                    if vecino == destino:\n",
    "                        return cola[-1]\n",
    "                visited.append(current)\n",
    "        return None\n",
    "    "
   ]
  },
  {
   "cell_type": "markdown",
   "metadata": {},
   "source": [
    "Además, se requiere que tu grafo pueda encontrar si existe un camino desde un nodo en particular a otro. Utilizando como ejemplo la imagen anterior, si se busca llegar a C desde A el output debiese ser True, pues sabemos que existen tres caminos entre ellos [A,B,D,E,C], [A,C], [A,B,E,C].\n",
    "\n",
    "Para lo anterior, se requiere que tu clase grafo implemente la función:\n",
    "\n",
    "- `encontrar_camino`: Recibe el origen y destino como inputs, y retorna `True` si existe un camino entre ambos nodos, o si ambos nodos son iguales, y en caso contrario retorna `False`.\n",
    "\n"
   ]
  },
  {
   "cell_type": "code",
   "execution_count": 19,
   "metadata": {},
   "outputs": [
    {
     "name": "stdout",
     "output_type": "stream",
     "text": [
      "True\n"
     ]
    },
    {
     "data": {
      "text/plain": [
       "[Nodo: 0 CONEXIONES:{'4'},\n",
       " Nodo: 4 CONEXIONES:{'T', 'O', 'W'},\n",
       " Nodo: O CONEXIONES:{'D', 'V', '0', '5', 'Y', 'X', 'M', 'S', '8', 'I', 'A', '9'},\n",
       " Nodo: M CONEXIONES:{'0', '5', '2', 'X', 'J', 'K', 'S', '8', 'G', 'F', 'I', 'A', '7'}]"
      ]
     },
     "execution_count": 19,
     "metadata": {},
     "output_type": "execute_result"
    }
   ],
   "source": [
    "gr = Graph()\n",
    "gr.cargar_archivo(\"hard2.txt\")\n",
    "print(gr.encontrar_camino(\"0\",\"Y\"))\n",
    "gr.encontrar_camino_corto(\"0\", \"M\")"
   ]
  },
  {
   "cell_type": "markdown",
   "metadata": {},
   "source": [
    "from collections import deque\n",
    "\n",
    "class Graph:\n",
    "    def __init__(self):\n",
    "        pass\n",
    "\n",
    "    def _crear_nodo(self, nombre):\n",
    "        pass\n",
    "    \n",
    "    def agregar_conexion(self, origen, destino):\n",
    "        pass\n",
    "\n",
    "    def quitar_conexion(self, origen, destino):\n",
    "        pass\n",
    "        \n",
    "    def cargar_archivo(self, path_archivo):\n",
    "        pass\n",
    "    \n",
    "    def encontrar_camino(self, origen, destino):\n",
    "        pass\n"
   ]
  },
  {
   "cell_type": "markdown",
   "metadata": {},
   "source": [
    "Saber que puedes llegar a casa no es lo mismo que saber cómo llegar. Por eso se pide también agregar a tu clase Grafo una función para retornar el camino más corto entre dos nodos. Así, tomando la imagen anterior como ejemplo, si quisiéramos buscar el camino más corto para ir de A hasta C, el output entregado debería ser [A,C].\n",
    "\n",
    "\n",
    "Para lo anterior, se requiere que tu clase grafo implemente la función:\n",
    "\n",
    "- `encontrar_camino_corto`: Recibe el origen y destino como inputs, y retornar el camino más corto (si es que existe) entre ese par. En caso contrario, retornar `None`. En el caso de pedir un camino desde un nodo hacia sí mismo se debe retornar una lista vacía."
   ]
  },
  {
   "cell_type": "code",
   "execution_count": null,
   "metadata": {},
   "outputs": [],
   "source": [
    "from collections import deque\n",
    "\n",
    "class Graph:\n",
    "    def __init__(self):\n",
    "        pass\n",
    "\n",
    "    def _crear_nodo(self, nombre):\n",
    "        pass\n",
    "\n",
    "    def agregar_conexion(self, origen, destino):\n",
    "        pass\n",
    "\n",
    "    def quitar_conexion(self, origen, destino):\n",
    "        pass\n",
    "        \n",
    "    def cargar_archivo(self, path_archivo):\n",
    "        pass\n",
    "\n",
    "    def encontrar_camino(self, origen, destino):\n",
    "        pass\n",
    "    \n",
    "    def encontrar_camino_corto(self, origen, destino):\n",
    "        pass\n"
   ]
  }
 ],
 "metadata": {
  "kernelspec": {
   "display_name": "Python 3",
   "language": "python",
   "name": "python3"
  },
  "language_info": {
   "codemirror_mode": {
    "name": "ipython",
    "version": 3
   },
   "file_extension": ".py",
   "mimetype": "text/x-python",
   "name": "python",
   "nbconvert_exporter": "python",
   "pygments_lexer": "ipython3",
   "version": "3.6.4"
  }
 },
 "nbformat": 4,
 "nbformat_minor": 2
}
