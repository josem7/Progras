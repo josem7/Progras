{
 "cells": [
  {
   "cell_type": "markdown",
   "metadata": {},
   "source": [
    "# Ayudantía 07 - EDD202\n",
    "\n",
    "**autores:** Pablo y Paula\n",
    "\n",
    "\n",
    "Se recomienda revisar el enunciado antes de la ayudantía y plantearse el ejercicio, para que puedan usar la solución para resolver sus dudas.\n",
    "\n",
    "Link feedback ayudantía: https://goo.gl/forms/oDK8OxRdOUlhIA4C3.\n",
    "\n",
    "---"
   ]
  },
  {
   "cell_type": "markdown",
   "metadata": {},
   "source": [
    "## Enunciado:\n",
    "\n",
    "Se les entregará un archivo, donde cada línea tendrá el formato origen,destino. Este contiene todas las relaciones que deben presentarse en el grafo dirigido. A continuación, se presenta un ejemplo de la relación que se crea a partir de un archivo test.txt."
   ]
  },
  {
   "cell_type": "markdown",
   "metadata": {},
   "source": [
    "<img src='img/imagen_ejemplo.png' style='display:block;margin-left:auto;margin-right:auto;width:50%;'>"
   ]
  },
  {
   "cell_type": "markdown",
   "metadata": {},
   "source": [
    "Se espera que tu programa sea capaz de leer cualquier archivo CSV con el formato mencionado y crear un grafo dirigido.\n",
    "\n",
    "Para poder hacer esto, es necesario que tu clase grafo tenga los métodos que se muestran a continuación: \n",
    "\n",
    "- `agregar_conexion`: Recibe como parámetro el nombre del nodo de origen y el nombre del nodo de destino entre los que se debe crear una conexión. En caso de que uno de los nodos no se encuentre en el grafo, este debe ser creado y luego se debe establecer la conexión entre ambos.\n",
    "\n",
    "- `quitar_conexion`: Recibe el nombre del nodo de origen y del nodo de destino al cual se eliminará la conexión entre ambos sin borrar las relaciones que pueda tener el nodo de destino.\n",
    "\n",
    "- `cargar_archivo`: Recibe el nombre del archivo csv y agrega las conexiones de cada línea al grafo"
   ]
  },
  {
   "cell_type": "code",
   "execution_count": 2,
   "metadata": {},
   "outputs": [],
   "source": [
    "class GraphNode:\n",
    "    def __init__(self, nombre):\n",
    "        self.nombre = nombre\n",
    "        self.conexiones = set()\n",
    "\n",
    "    def conectar(self, nodo):\n",
    "        self.conexiones.add(nodo.nombre)\n",
    "\n",
    "    def desconectar(self, nodo):\n",
    "        self.conexiones.remove(nodo.nombre)\n",
    "        \n",
    "        \n",
    "class Graph:\n",
    "    def __init__(self):\n",
    "        self.nodos = dict()\n",
    "\n",
    "    def _crear_nodo(self, nombre):\n",
    "        nodo = self.nodos.get(nombre)\n",
    "        if nodo is None:\n",
    "            nodo = GraphNode(nombre)\n",
    "            self.nodos[nombre] = nodo\n",
    "        return nodo\n",
    "\n",
    "\n",
    "    def agregar_conexion(self, origen, destino):\n",
    "        nodo_origen = self._crear_nodo(origen)\n",
    "        nodo_destino = self._crear_nodo(destino)\n",
    "        nodo_origen.conectar(nodo_destino)\n",
    "\n",
    "    def quitar_conexion(self, origen, destino):\n",
    "        nodo_origen = self.nodos.get(origen)\n",
    "        nodo_destino = self.nodos.get(destino)\n",
    "        nodo_origen.desconectar(nodo_destino)\n",
    "        \n",
    "    def cargar_archivo(self, path_archivo):\n",
    "        with open(path_archivo, 'r') as file:\n",
    "            for line in file:\n",
    "                u, v = line.strip().split(',')\n",
    "                self.agregar_conexion(u, v)"
   ]
  },
  {
   "cell_type": "code",
   "execution_count": 3,
   "metadata": {},
   "outputs": [
    {
     "name": "stdout",
     "output_type": "stream",
     "text": [
      "{'0': <__main__.GraphNode object at 0x05FC1F10>, '4': <__main__.GraphNode object at 0x00E353B0>, '1': <__main__.GraphNode object at 0x05FC1DF0>, '2': <__main__.GraphNode object at 0x00E353D0>, '6': <__main__.GraphNode object at 0x00E35450>, '8': <__main__.GraphNode object at 0x00E353F0>, 'B': <__main__.GraphNode object at 0x00E35590>, 'D': <__main__.GraphNode object at 0x00E355B0>, 'N': <__main__.GraphNode object at 0x00E35630>, 'X': <__main__.GraphNode object at 0x00E35650>, '3': <__main__.GraphNode object at 0x00E355D0>, '7': <__main__.GraphNode object at 0x00E35610>, 'H': <__main__.GraphNode object at 0x00E35530>, 'M': <__main__.GraphNode object at 0x00E355F0>, 'Q': <__main__.GraphNode object at 0x00E35550>, '9': <__main__.GraphNode object at 0x00E35570>, 'A': <__main__.GraphNode object at 0x00E35670>, 'F': <__main__.GraphNode object at 0x00E356F0>, 'J': <__main__.GraphNode object at 0x00E35750>, 'K': <__main__.GraphNode object at 0x00E35690>, 'O': <__main__.GraphNode object at 0x00E35770>, 'W': <__main__.GraphNode object at 0x00E35710>, 'T': <__main__.GraphNode object at 0x00E35730>, '5': <__main__.GraphNode object at 0x00E356D0>, 'C': <__main__.GraphNode object at 0x00E356B0>, 'I': <__main__.GraphNode object at 0x00E35810>, 'L': <__main__.GraphNode object at 0x00E35790>, 'P': <__main__.GraphNode object at 0x00E358D0>, 'R': <__main__.GraphNode object at 0x00E35850>, 'U': <__main__.GraphNode object at 0x00E35890>, 'Y': <__main__.GraphNode object at 0x00E35870>, 'G': <__main__.GraphNode object at 0x00E35830>, 'V': <__main__.GraphNode object at 0x00E358B0>, 'S': <__main__.GraphNode object at 0x00E35990>, 'E': <__main__.GraphNode object at 0x00E359D0>, 'Z': <__main__.GraphNode object at 0x00E35A10>}\n"
     ]
    }
   ],
   "source": [
    "gr = Graph()\n",
    "gr.cargar_archivo(\"hard2.txt\")\n",
    "print(gr.nodos)"
   ]
  },
  {
   "cell_type": "markdown",
   "metadata": {},
   "source": [
    "Además, se requiere que tu grafo pueda encontrar si existe un camino desde un nodo en particular a otro. Utilizando como ejemplo la imagen anterior, si se busca llegar a C desde A el output debiese ser True, pues sabemos que existen tres caminos entre ellos [A,B,D,E,C], [A,C], [A,B,E,C]. Si quisiéramos buscar el camino más corto entre ese par de nodos, deberíamos retornar [A,C].\n",
    "\n",
    "Para lo anterior, se requiere que tu clase grafo implemente la función:\n",
    "\n",
    "- `existe_camino(origen, destino)`: Recibe el origen y destino como inputs, y retorna True si existe un camino entre ambos nodos, o si ambos nodos son iguales, y en caso contrario retorna False\n",
    "\n",
    "\n"
   ]
  },
  {
   "cell_type": "code",
   "execution_count": 19,
   "metadata": {},
   "outputs": [],
   "source": [
    "from collections import deque\n",
    "\n",
    "class Graph:\n",
    "    def __init__(self):\n",
    "        self.nodos = dict()\n",
    "\n",
    "    def _crear_nodo(self, nombre):\n",
    "        nodo = self.nodos.get(nombre)\n",
    "        if nodo is None:\n",
    "            nodo = GraphNode(nombre)\n",
    "            self.nodos[nombre] = nodo\n",
    "        return nodo\n",
    "\n",
    "    def agregar_conexion(self, origen, destino):\n",
    "        nodo_origen = self._crear_nodo(origen)\n",
    "        nodo_destino = self._crear_nodo(destino)\n",
    "        nodo_origen.conectar(nodo_destino)\n",
    "\n",
    "    def quitar_conexion(self, origen, destino):\n",
    "        nodo_origen = self.nodos.get(origen)\n",
    "        nodo_destino = self.nodos.get(destino)\n",
    "        nodo_origen.desconectar(nodo_destino)\n",
    "        \n",
    "    def cargar_archivo(self, path_archivo):\n",
    "        with open(path_archivo, 'r') as file:\n",
    "            for line in file:\n",
    "                u, v = line.strip().split(',')\n",
    "                self.agregar_conexion(u, v)\n",
    "\n",
    "    def existe_camino(self, origen, destino, visited=None):\n",
    "        nodo_origen = self.nodos.get(origen)\n",
    "        if origen == destino:\n",
    "            return True\n",
    "        if visited is None:\n",
    "            visited = []\n",
    "        for nodo in nodo_origen.conexiones:\n",
    "            if not nodo in visited:\n",
    "                visited.append(nodo)\n",
    "                if self.existe_camino(nodo, destino, visited):\n",
    "                    return True\n",
    "        return False\n"
   ]
  },
  {
   "cell_type": "markdown",
   "metadata": {},
   "source": [
    "Saber que puedes llegar a casa no es lo mismo que saber cómo llegar. Por eso se pide también agregar a tu clase Grafo una función para retornar el camino más corto entre dos nodos. Así, tomando la imagen anterior como ejemplo, si quisiéramos buscar el camino más corto para ir de A hasta C, el output entregado debería ser [A,C].\n",
    "\n",
    "\n",
    "Para lo anterior, se requiere que tu clase grafo implemente la función:\n",
    "\n",
    "- `encontrar_camino(origen, destino)`: Recibe el origen y destino como inputs, y retornar el camino más corto (si es que existe) entre ese par. En caso contrario, retornar None. En el caso de pedir un camino desde un nodo hacia sí mismo se debe retornar una lista vacía."
   ]
  },
  {
   "cell_type": "code",
   "execution_count": 21,
   "metadata": {},
   "outputs": [],
   "source": [
    "from collections import deque\n",
    "\n",
    "class Graph:\n",
    "    def __init__(self):\n",
    "        self.nodos = dict()\n",
    "\n",
    "    def _crear_nodo(self, nombre):\n",
    "        nodo = self.nodos.get(nombre)\n",
    "        if nodo is None:\n",
    "            nodo = GraphNode(nombre)\n",
    "            self.nodos[nombre] = nodo\n",
    "        return nodo\n",
    "\n",
    "    def agregar_conexion(self, origen, destino):\n",
    "        nodo_origen = self._crear_nodo(origen)\n",
    "        nodo_destino = self._crear_nodo(destino)\n",
    "        nodo_origen.conectar(nodo_destino)\n",
    "\n",
    "    def quitar_conexion(self, origen, destino):\n",
    "        nodo_origen = self.nodos.get(origen)\n",
    "        nodo_destino = self.nodos.get(destino)\n",
    "        nodo_origen.desconectar(nodo_destino)\n",
    "        \n",
    "    def cargar_archivo(self, path_archivo):\n",
    "        with open(path_archivo, 'r') as file:\n",
    "            for line in file:\n",
    "                u, v = line.strip().split(',')\n",
    "                self.agregar_conexion(u, v)\n",
    "\n",
    "    def existe_camino(self, origen, destino, visited=None):\n",
    "        nodo_origen = self.nodos.get(origen)\n",
    "        if origen == destino:\n",
    "            return True\n",
    "        if visited is None:\n",
    "            visited = []\n",
    "        for nodo in nodo_origen.conexiones:\n",
    "            if not nodo in visited:\n",
    "                visited.append(nodo)\n",
    "                if self.existe_camino(nodo, destino, visited):\n",
    "                    return True\n",
    "        return False\n",
    "    \n",
    "    def get_node(self, name):\n",
    "        if name in self.nodos.keys():\n",
    "            return self.nodos[name]\n",
    "        return None\n",
    "    \n",
    "    def encontrar_camino(self, origen, destino):\n",
    "        if origen == destino:\n",
    "            return True\n",
    "        origen = self.get_node(origen)\n",
    "        destino = self.get_node(destino)\n",
    "        if origen is None or destino is None:\n",
    "            return None\n",
    "        cola = [[origen]]\n",
    "        visited = list()\n",
    "        while len(cola):\n",
    "            current_path = cola.pop(0)\n",
    "            current = current_path[-1]\n",
    "            if current not in visited:\n",
    "                lista_vecinos=[self.get_node(x) for x in current.conexiones]\n",
    "                for vecino in lista_vecinos:\n",
    "                    cola.append(list(current_path) + [vecino])\n",
    "                    if vecino == destino:\n",
    "                        return cola[-1]\n",
    "                visited.append(current)\n",
    "        \n",
    "        return None\n",
    "\n"
   ]
  }
 ],
 "metadata": {
  "kernelspec": {
   "display_name": "Python 3",
   "language": "python",
   "name": "python3"
  },
  "language_info": {
   "codemirror_mode": {
    "name": "ipython",
    "version": 3
   },
   "file_extension": ".py",
   "mimetype": "text/x-python",
   "name": "python",
   "nbconvert_exporter": "python",
   "pygments_lexer": "ipython3",
   "version": "3.6.4"
  }
 },
 "nbformat": 4,
 "nbformat_minor": 2
}
