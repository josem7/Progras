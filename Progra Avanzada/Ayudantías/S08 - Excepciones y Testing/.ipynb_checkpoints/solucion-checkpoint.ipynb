{
 "cells": [
  {
   "cell_type": "markdown",
   "metadata": {
    "colab_type": "text",
    "id": "cllfeOezVyAY"
   },
   "source": [
    "# Ayudantía 8\n",
    "## Excepciones y Testing\n",
    "\n",
    "Nicolás Quiroz y Gabriel Lyon\n",
    "\n",
    "\n",
    "## Solución AC05 2017-2 "
   ]
  },
  {
   "cell_type": "markdown",
   "metadata": {
    "colab_type": "text",
    "id": "TfRX6oT4VyAb"
   },
   "source": [
    "## Introducción\n",
    "El Departamento de Ciencia de la Computación (DCC) se ha percatado que muchos de sus cursos se quedan\n",
    "sin cupos y, por lo tanto, __ha creado un formulario__ para que sus alumnos puedan indicar qué cursos necesitan\n",
    "tomar. En __este formulario los alumnos deben completar los siguientes datos__:\n",
    "    - Nombre\n",
    "    - Sexualidad\n",
    "    - RUT \n",
    "    - Sigla de curso\n",
    "    - Sección\n",
    "    - Comentario\n",
    "\n",
    "Además, el DCC ha __creado una librería para analizar las respuestas del formulario__ (la cual encontramos en `form.py`). \n",
    "\n",
    "Sin embargo, esta librería no considera varias situaciones que se detallan a continuación:\n",
    "\n",
    "## Levantamiento de Excepciones\n",
    "\n",
    "El archivo `form.py` contiene a la clase `FormRegister` con varios métodos que no logran procesar algunas respuestas de los alumnos, de tal forma que nosotros debemos levantar excepciones cuando ocurra algo que **no** queremos."
   ]
  },
  {
   "cell_type": "markdown",
   "metadata": {
    "colab_type": "text",
    "id": "Ho2ZYFs3XXVP"
   },
   "source": [
    "El `__init__` de la clase `FormRegister` es el siguiente:"
   ]
  },
  {
   "cell_type": "code",
   "execution_count": 29,
   "metadata": {
    "colab": {},
    "colab_type": "code",
    "id": "_z7apUjbVyAe"
   },
   "outputs": [],
   "source": [
    "from collections import defaultdict\n",
    "\n",
    "class RegisterForm:\n",
    "    def __init__(self):\n",
    "        \"\"\"\n",
    "        NO TOCAR el init\n",
    "        \"\"\"\n",
    "        self.courses = {\n",
    "            \"IIC1103\": [0, 0, 0],  # IIC1103 tiene 2 secciones\n",
    "            \"IIC2233\": [0, 0, 0, 0],  # IIC2233 tiene 3 secciones\n",
    "            \"IIC2115\": [0, 0],  # IIC2115 tiene 1 seccion\n",
    "            \"IIE3115\": [0, 0],  # IIC2115 tiene 1 seccion\n",
    "            \"IIC2332\": [0, 0],  # IIC2115 tiene 1 seccion\n",
    "            \"IIC2515\": [0, 0]  # IIC2115 tiene 1 seccion\n",
    "        }\n",
    "\n",
    "        self.register_list = []  # Almacena los alumnos que se inscribieron con exito"
   ]
  },
  {
   "cell_type": "markdown",
   "metadata": {
    "colab_type": "text",
    "id": "f9B_wnsaVyAq"
   },
   "source": [
    "Además, la librería tiene los métodos:\n",
    "\n",
    "**`check_rut(rut)`:** Este método verifica que el rut sea válido, es decir, el dígito verificador corresponde al rut. Este debe venir en el siguiente formato:\n",
    "    - Sin puntos\n",
    "    - Con guíon y dígito verificador. Ej: 19829694-5. \n",
    "    \n",
    "Si el RUT resulta ser válido retorna `True`, si no, `False`. Lo que se pide para este método es levantar una excepción cuando el RUT venga con puntos, o en vez de guión hay un espacio."
   ]
  },
  {
   "cell_type": "code",
   "execution_count": 30,
   "metadata": {
    "colab": {},
    "colab_type": "code",
    "id": "NqpTRL4EX8_5"
   },
   "outputs": [],
   "source": [
    "@staticmethod\n",
    "def check_rut(rut):\n",
    "    '''\n",
    "    Esta función se ejecutará solo en caso de que NO \n",
    "    se haya levantado ninguna excepción. La función verifica el rut.\n",
    "    '''\n",
    "    if '.' in rut:\n",
    "        raise ValueError('El rut debe ir sin puntos.')\n",
    "  \n",
    "\n",
    "    if '-' != rut[-2]:\n",
    "        raise ValueError('El rut debe tener guion.')\n",
    "    \n",
    "    digits, checker = rut.split(\"-\")\n",
    "\n",
    "    digits = list(map(lambda d: int(d), digits))\n",
    "  \n",
    "    list_number = [2, 3, 4, 5, 6, 7, 2, 3, 4, 5]\n",
    "  \n",
    "    digits.reverse()\n",
    "  \n",
    "    total = sum(digit * number for digit, number in zip(digits, list_number))\n",
    "\n",
    "    rest = 11 - total % 11\n",
    "  \n",
    "    rest = defaultdict(lambda: str(rest), {11: '0', 10: 'k'})[rest]\n",
    "  \n",
    "    return rest == checker\n",
    "  \n",
    "  \n",
    "  "
   ]
  },
  {
   "cell_type": "markdown",
   "metadata": {
    "colab_type": "text",
    "id": "i-7L1EbNVyA3"
   },
   "source": [
    "- **`add_course(course, section)`:**  Este método añade al diccionario `self.courses` la demanda del curso indicado. El curso debe venir con la sigla del departamento y la sigla numérica sin espacios. Ej: IIC2233.\n",
    "\n",
    "Se pide levantar una excepción cuando **exista** un espacio en la sigla. Además, otra excepción si **no** existe el número de sección en la clase `FormRegister`. Concretamente, puede venir con 4 tipos de eventualidades: \n",
    "\n",
    " > - Hay un espacio en la sigla\n",
    " > - La sección vino escrita como \"todas\" en vez del número\n",
    " > - La sección fue ingresada con texto en el formato \"section N\"\n",
    " > - La sección no existe."
   ]
  },
  {
   "cell_type": "markdown",
   "metadata": {
    "colab_type": "text",
    "id": "-U16-vD8dHmY"
   },
   "source": [
    "El archivo contiene lo siguiente:\n",
    "\n",
    "```text \n",
    "Hugo Navarrete;Masculino;11961062-1;IIC2233;0;Necesito ese curso\n",
    "Bastian Mavrakis;Reptiliano;18918973-7;IIC 2515;1;Necesito ese curso\n",
    "Stephanie Chau;Femenino;19.657.850-1;IIE 3115;1;Es un curso muy dificil, casi para koreanos por lo que quiero tomarlo para demostrar que es trivial\n",
    "Marcelo Lagos;Masculino;19.644.9116;IIC2233;9;Me canse de hablar de terremotos, ahora quiero simularlos\n",
    "Fernando Pieressa;Sin definir;19244725-9;IIC2233;section 1;Quiero volver a tomarlo\n",
    "Hugo Navarrete;Error 404-Not found;11961062-1;IIC2115;todas;Dicen que es mejor que avanzada o.o\n",
    "```\n",
    "\n"
   ]
  },
  {
   "cell_type": "code",
   "execution_count": 31,
   "metadata": {
    "colab": {},
    "colab_type": "code",
    "id": "2TxzHumCVyA5"
   },
   "outputs": [],
   "source": [
    "\n",
    "def add_course(self, course, section):\n",
    "    \n",
    "    # Hay un espacio en la sigla\n",
    "    if ' ' in course:\n",
    "        raise ValueError('La sigla del curso debe ir sin espacio (XXXX123).')    \n",
    "    \n",
    "    # La seccion vino escrita como todas en vez del numero\n",
    "    if section == 'todas':\n",
    "        raise ValueError('La seccion debe ser un numero.')\n",
    "    \n",
    "    #La seccion fue ingresada con texto en el formato \"section N\"\n",
    "    if isinstance(section, str) and section[:-2].isalpha():\n",
    "        raise ValueError('La seccion debe ser un numero.')\n",
    "    \n",
    "    # La seccion no existe.\n",
    "    if int(section) > len(self.courses[course]) - 1 or int(section) < 0:\n",
    "        raise IndexError('No existe la seccion {}.'.format(section))\n",
    "    \n",
    "    self.courses[course][int(section)] += 1"
   ]
  },
  {
   "cell_type": "markdown",
   "metadata": {
    "colab_type": "text",
    "id": "BjXbYfooVyBF"
   },
   "source": [
    "Además, la librería tiene 2 métodos que no debían ser modificados:\n",
    "\n",
    "- **`register_people_info(student_name, gender, comment)`:** Este método se llama después de verificar el RUT, en caso de que sea correcto se guarda la informacion del estudiante en una base de datos temporal.\n",
    "- **`save_data(path)`:** Dado un _path_, genera un archivo con todos los usuarios registrados en la base de datos temporal y deja vacía esa base de datos."
   ]
  },
  {
   "cell_type": "code",
   "execution_count": 32,
   "metadata": {
    "colab": {},
    "colab_type": "code",
    "id": "UVzeCj61VyBI"
   },
   "outputs": [],
   "source": [
    "def register_people_info(self, student_name, gender, comment):\n",
    "    self.register_list.append([student_name, gender, comment])\n",
    "\n",
    "def save_data(self, path):\n",
    "    with open(path, \"w\") as file:\n",
    "        for register in self.register_list:\n",
    "            text = \"Student: {}\\nGender: {}\\nComment: {}\\n\".format(*register)\n",
    "            file.write(text + \"#\"*40 + \"\\n\")\n",
    "\n",
    "        print(\"Informacion guardada con exito\")"
   ]
  },
  {
   "cell_type": "markdown",
   "metadata": {
    "colab_type": "text",
    "id": "MU_TRoJZVyBO"
   },
   "source": [
    "Por lo tanto la clase `FormRegister` queda finalmente como:"
   ]
  },
  {
   "cell_type": "code",
   "execution_count": 33,
   "metadata": {
    "colab": {},
    "colab_type": "code",
    "id": "aFl_xy12VyBT"
   },
   "outputs": [],
   "source": [
    "class RegisterForm:\n",
    "    def __init__(self):\n",
    "        \"\"\"\n",
    "        NO TOCAR el init\n",
    "        \"\"\"\n",
    "        self.courses = {\n",
    "            \"IIC1103\": [0, 0, 0],  # IIC1103 tiene 2 secciones\n",
    "            \"IIC2233\": [0, 0, 0, 0],  # IIC2233 tiene 3 secciones\n",
    "            \"IIC2115\": [0, 0],  # IIC2115 tiene 1 seccion\n",
    "            \"IIE3115\": [0, 0],  # IIC2115 tiene 1 seccion\n",
    "            \"IIC2332\": [0, 0],  # IIC2115 tiene 1 seccion\n",
    "            \"IIC2515\": [0, 0]  # IIC2115 tiene 1 seccion\n",
    "        }\n",
    "\n",
    "        self.register_list = []  # Almacena los alumnos que se inscribieron con exito\n",
    "    \n",
    "    def check_rut(self, rut):\n",
    "  \n",
    "        '''Retorna rue si el rut es valido False si no lo es.\n",
    "  \n",
    "        Se encarga de levantar excepciones en el caso que el rut no sea válido.\n",
    "        '''\n",
    "        if '.' in rut:\n",
    "            raise ValueError('El rut debe ir sin puntos.')\n",
    "  \n",
    "\n",
    "        if '-' != rut[-2]:\n",
    "            raise ValueError('El rut debe tener guion.')\n",
    "      \n",
    "        # Si no se levanta alguna excepción llamamos a la función verificadora\n",
    "  \n",
    "        return self._check_rut(rut)\n",
    "    \n",
    "    @staticmethod\n",
    "    def _check_rut(rut):\n",
    "        '''\n",
    "        Esta función se ejecutará solo en caso de que NO \n",
    "        se haya levantado ninguna excepción. La función verifica el rut.\n",
    "        '''\n",
    "        digits, checker = rut.split(\"-\")\n",
    "\n",
    "        digits = list(map(lambda d: int(d), digits))\n",
    "  \n",
    "        list_number = [2, 3, 4, 5, 6, 7, 2, 3, 4, 5]\n",
    "  \n",
    "        digits.reverse()\n",
    "  \n",
    "        total = sum(digit * number for digit, number in zip(digits, list_number))\n",
    "\n",
    "        rest = 11 - total % 11\n",
    "  \n",
    "        rest = defaultdict(lambda: str(rest), {11: '0', 10: 'k'})[rest]\n",
    "  \n",
    "        return rest == checker\n",
    "    \n",
    "    \n",
    "    def add_course(self, course, section):\n",
    "        \n",
    "        # Hay un espacio en la sigla\n",
    "        if ' ' in course:\n",
    "            raise ValueError('La sigla del curso debe ir sin espacio (XXXX123).')    \n",
    "\n",
    "        # La seccion vino escrita como todas en vez del numero\n",
    "        if section == 'todas':\n",
    "            raise ValueError('La seccion debe ser un numero.')\n",
    "\n",
    "        #La seccion fue ingresada con texto en el formato \"section N\"\n",
    "        if isinstance(section, str) and section[:-2].isalpha():\n",
    "            raise ValueError('La seccion debe ser un numero.')\n",
    "  \n",
    "        # La seccion no existe.\n",
    "        if int(section) > len(self.courses[course]) - 1 or int(section) < 0:\n",
    "            raise IndexError('No existe la seccion {}.'.format(section))\n",
    "  \n",
    "        self.courses[course][int(section)] += 1\n",
    "    \n",
    "    \n",
    "    def register_people_info(self, student_name, gender, comment):\n",
    "        self.register_list.append([student_name, gender, comment])\n",
    "\n",
    "    def save_data(self, path):\n",
    "        with open(path, \"w\") as file:\n",
    "            for register in self.register_list:\n",
    "                text = \"Student: {}\\nGender: {}\\nComment: {}\\n\".format(*register)\n",
    "                file.write(text + \"#\"*40 + \"\\n\")\n",
    "\n",
    "            print(\"Informacion guardada con exito\")"
   ]
  },
  {
   "cell_type": "markdown",
   "metadata": {
    "colab_type": "text",
    "id": "vOhn3bmjVyBd"
   },
   "source": [
    "Con esto concluye la primera parte de la actividad (levantamiento de excepciones).\n",
    "\n",
    "## Manejo de Excepciones\n",
    "\n",
    "Para esta parte se debe manejar las excepciones desde el el código escrito anteriormente, el cual inicialmente se ve de la siguiente forma:"
   ]
  },
  {
   "cell_type": "code",
   "execution_count": 34,
   "metadata": {
    "colab": {},
    "colab_type": "code",
    "id": "EeqWtci2VyBf",
    "outputId": "68b78daf-6aa6-4a6e-ab42-4b75e84d2748"
   },
   "outputs": [
    {
     "ename": "ValueError",
     "evalue": "La sigla del curso debe ir sin espacio (XXXX123).",
     "output_type": "error",
     "traceback": [
      "\u001b[0;31m---------------------------------------------------------------------------\u001b[0m",
      "\u001b[0;31mValueError\u001b[0m                                Traceback (most recent call last)",
      "\u001b[0;32m<ipython-input-34-287eae1e7f06>\u001b[0m in \u001b[0;36m<module>\u001b[0;34m()\u001b[0m\n\u001b[1;32m     10\u001b[0m \u001b[0;34m\u001b[0m\u001b[0m\n\u001b[1;32m     11\u001b[0m         \u001b[0;32mif\u001b[0m \u001b[0mrut_verified\u001b[0m\u001b[0;34m:\u001b[0m\u001b[0;34m\u001b[0m\u001b[0m\n\u001b[0;32m---> 12\u001b[0;31m             \u001b[0mform\u001b[0m\u001b[0;34m.\u001b[0m\u001b[0madd_course\u001b[0m\u001b[0;34m(\u001b[0m\u001b[0mcourse\u001b[0m\u001b[0;34m,\u001b[0m \u001b[0msection\u001b[0m\u001b[0;34m)\u001b[0m\u001b[0;34m\u001b[0m\u001b[0m\n\u001b[0m\u001b[1;32m     13\u001b[0m \u001b[0;34m\u001b[0m\u001b[0m\n\u001b[1;32m     14\u001b[0m             \u001b[0mform\u001b[0m\u001b[0;34m.\u001b[0m\u001b[0mregister_people_info\u001b[0m\u001b[0;34m(\u001b[0m\u001b[0mname\u001b[0m\u001b[0;34m,\u001b[0m \u001b[0mgender\u001b[0m\u001b[0;34m,\u001b[0m \u001b[0mcomment\u001b[0m\u001b[0;34m)\u001b[0m\u001b[0;34m\u001b[0m\u001b[0m\n",
      "\u001b[0;32m<ipython-input-33-0ce536237a3a>\u001b[0m in \u001b[0;36madd_course\u001b[0;34m(self, course, section)\u001b[0m\n\u001b[1;32m     59\u001b[0m         \u001b[0;31m# Hay un espacio en la sigla\u001b[0m\u001b[0;34m\u001b[0m\u001b[0;34m\u001b[0m\u001b[0m\n\u001b[1;32m     60\u001b[0m         \u001b[0;32mif\u001b[0m \u001b[0;34m' '\u001b[0m \u001b[0;32min\u001b[0m \u001b[0mcourse\u001b[0m\u001b[0;34m:\u001b[0m\u001b[0;34m\u001b[0m\u001b[0m\n\u001b[0;32m---> 61\u001b[0;31m             \u001b[0;32mraise\u001b[0m \u001b[0mValueError\u001b[0m\u001b[0;34m(\u001b[0m\u001b[0;34m'La sigla del curso debe ir sin espacio (XXXX123).'\u001b[0m\u001b[0;34m)\u001b[0m\u001b[0;34m\u001b[0m\u001b[0m\n\u001b[0m\u001b[1;32m     62\u001b[0m \u001b[0;34m\u001b[0m\u001b[0m\n\u001b[1;32m     63\u001b[0m         \u001b[0;31m# La seccion vino escrita como todas en vez del numero\u001b[0m\u001b[0;34m\u001b[0m\u001b[0;34m\u001b[0m\u001b[0m\n",
      "\u001b[0;31mValueError\u001b[0m: La sigla del curso debe ir sin espacio (XXXX123)."
     ]
    }
   ],
   "source": [
    "form = RegisterForm()\n",
    "\n",
    "with open(\"test.txt\") as test_file:\n",
    "\n",
    "    for line in test_file:\n",
    "        name, gender, rut, course, section, comment = line.split(\";\")\n",
    "        comment = comment.strip(\"\\n\")\n",
    "\n",
    "        rut_verified = form.check_rut(rut)\n",
    "\n",
    "        if rut_verified:\n",
    "            form.add_course(course, section)\n",
    "\n",
    "            form.register_people_info(name, gender, comment)\n",
    "\n",
    "    form.save_data(\"result.txt\")"
   ]
  },
  {
   "cell_type": "markdown",
   "metadata": {
    "colab_type": "text",
    "id": "eJP7DXYgVyBr"
   },
   "source": [
    "Lo que se debe hacer es un buen uso de `Try`/`Except` para manejar las excepciones según lo pedido.\n",
    "\n",
    "> - Si un RUT tienen punto/s, o bien, no está con guión, arreglarlos. Ej: 19.829.694 5 -> 19829694-5\n",
    "> - Si los cursos tienen un espacio, se elimina el espacio. Ej: IIC 2233 -> IIC2233\n",
    "> - Si el número de sección no existe, se deja como 0. Ej: 888 -> 0\n",
    "> - Si la sección es \"todas\", se cambia por 0. Ej: \"todas\" -> 0\n",
    "> - Si la sección es de tipo \"section N\", se cambia por N. Ej: \"section 5\" -> 5"
   ]
  },
  {
   "cell_type": "code",
   "execution_count": 35,
   "metadata": {
    "colab": {},
    "colab_type": "code",
    "id": "7E-_soyRVyBt"
   },
   "outputs": [
    {
     "ename": "ValueError",
     "evalue": "La seccion debe ser un numero.",
     "output_type": "error",
     "traceback": [
      "\u001b[0;31m---------------------------------------------------------------------------\u001b[0m",
      "\u001b[0;31mValueError\u001b[0m                                Traceback (most recent call last)",
      "\u001b[0;32m<ipython-input-35-8c4770d31de3>\u001b[0m in \u001b[0;36m<module>\u001b[0;34m()\u001b[0m\n\u001b[1;32m     21\u001b[0m             \u001b[0;32mtry\u001b[0m\u001b[0;34m:\u001b[0m\u001b[0;34m\u001b[0m\u001b[0m\n\u001b[0;32m---> 22\u001b[0;31m                 \u001b[0mform\u001b[0m\u001b[0;34m.\u001b[0m\u001b[0madd_course\u001b[0m\u001b[0;34m(\u001b[0m\u001b[0mcourse\u001b[0m\u001b[0;34m,\u001b[0m \u001b[0msection\u001b[0m\u001b[0;34m)\u001b[0m\u001b[0;34m\u001b[0m\u001b[0m\n\u001b[0m\u001b[1;32m     23\u001b[0m \u001b[0;34m\u001b[0m\u001b[0m\n",
      "\u001b[0;32m<ipython-input-33-0ce536237a3a>\u001b[0m in \u001b[0;36madd_course\u001b[0;34m(self, course, section)\u001b[0m\n\u001b[1;32m     68\u001b[0m         \u001b[0;32mif\u001b[0m \u001b[0misinstance\u001b[0m\u001b[0;34m(\u001b[0m\u001b[0msection\u001b[0m\u001b[0;34m,\u001b[0m \u001b[0mstr\u001b[0m\u001b[0;34m)\u001b[0m \u001b[0;32mand\u001b[0m \u001b[0msection\u001b[0m\u001b[0;34m[\u001b[0m\u001b[0;34m:\u001b[0m\u001b[0;34m-\u001b[0m\u001b[0;36m2\u001b[0m\u001b[0;34m]\u001b[0m\u001b[0;34m.\u001b[0m\u001b[0misalpha\u001b[0m\u001b[0;34m(\u001b[0m\u001b[0;34m)\u001b[0m\u001b[0;34m:\u001b[0m\u001b[0;34m\u001b[0m\u001b[0m\n\u001b[0;32m---> 69\u001b[0;31m             \u001b[0;32mraise\u001b[0m \u001b[0mValueError\u001b[0m\u001b[0;34m(\u001b[0m\u001b[0;34m'La seccion debe ser un numero.'\u001b[0m\u001b[0;34m)\u001b[0m\u001b[0;34m\u001b[0m\u001b[0m\n\u001b[0m\u001b[1;32m     70\u001b[0m \u001b[0;34m\u001b[0m\u001b[0m\n",
      "\u001b[0;31mValueError\u001b[0m: La seccion debe ser un numero.",
      "\nDuring handling of the above exception, another exception occurred:\n",
      "\u001b[0;31mValueError\u001b[0m                                Traceback (most recent call last)",
      "\u001b[0;32m<ipython-input-35-8c4770d31de3>\u001b[0m in \u001b[0;36m<module>\u001b[0;34m()\u001b[0m\n\u001b[1;32m     25\u001b[0m                 \u001b[0;31m# Si es que hay espacio, lo eliminamos y volvemos a intentar\u001b[0m\u001b[0;34m\u001b[0m\u001b[0;34m\u001b[0m\u001b[0m\n\u001b[1;32m     26\u001b[0m                 \u001b[0mcourse\u001b[0m \u001b[0;34m=\u001b[0m \u001b[0mcourse\u001b[0m\u001b[0;34m.\u001b[0m\u001b[0mreplace\u001b[0m\u001b[0;34m(\u001b[0m\u001b[0;34m\" \"\u001b[0m\u001b[0;34m,\u001b[0m \u001b[0;34m\"\"\u001b[0m\u001b[0;34m)\u001b[0m\u001b[0;34m\u001b[0m\u001b[0m\n\u001b[0;32m---> 27\u001b[0;31m                 \u001b[0mform\u001b[0m\u001b[0;34m.\u001b[0m\u001b[0madd_course\u001b[0m\u001b[0;34m(\u001b[0m\u001b[0mcourse\u001b[0m\u001b[0;34m,\u001b[0m \u001b[0msection\u001b[0m\u001b[0;34m)\u001b[0m\u001b[0;34m\u001b[0m\u001b[0m\n\u001b[0m\u001b[1;32m     28\u001b[0m             \u001b[0;32mexcept\u001b[0m \u001b[0mIndexError\u001b[0m\u001b[0;34m:\u001b[0m\u001b[0;34m\u001b[0m\u001b[0m\n\u001b[1;32m     29\u001b[0m                 \u001b[0;31m# Si el número de la sección no existe, se deja como 0\u001b[0m\u001b[0;34m\u001b[0m\u001b[0;34m\u001b[0m\u001b[0m\n",
      "\u001b[0;32m<ipython-input-33-0ce536237a3a>\u001b[0m in \u001b[0;36madd_course\u001b[0;34m(self, course, section)\u001b[0m\n\u001b[1;32m     67\u001b[0m         \u001b[0;31m#La seccion fue ingresada con texto en el formato \"section N\"\u001b[0m\u001b[0;34m\u001b[0m\u001b[0;34m\u001b[0m\u001b[0m\n\u001b[1;32m     68\u001b[0m         \u001b[0;32mif\u001b[0m \u001b[0misinstance\u001b[0m\u001b[0;34m(\u001b[0m\u001b[0msection\u001b[0m\u001b[0;34m,\u001b[0m \u001b[0mstr\u001b[0m\u001b[0;34m)\u001b[0m \u001b[0;32mand\u001b[0m \u001b[0msection\u001b[0m\u001b[0;34m[\u001b[0m\u001b[0;34m:\u001b[0m\u001b[0;34m-\u001b[0m\u001b[0;36m2\u001b[0m\u001b[0;34m]\u001b[0m\u001b[0;34m.\u001b[0m\u001b[0misalpha\u001b[0m\u001b[0;34m(\u001b[0m\u001b[0;34m)\u001b[0m\u001b[0;34m:\u001b[0m\u001b[0;34m\u001b[0m\u001b[0m\n\u001b[0;32m---> 69\u001b[0;31m             \u001b[0;32mraise\u001b[0m \u001b[0mValueError\u001b[0m\u001b[0;34m(\u001b[0m\u001b[0;34m'La seccion debe ser un numero.'\u001b[0m\u001b[0;34m)\u001b[0m\u001b[0;34m\u001b[0m\u001b[0m\n\u001b[0m\u001b[1;32m     70\u001b[0m \u001b[0;34m\u001b[0m\u001b[0m\n\u001b[1;32m     71\u001b[0m         \u001b[0;31m# La seccion no existe.\u001b[0m\u001b[0;34m\u001b[0m\u001b[0;34m\u001b[0m\u001b[0m\n",
      "\u001b[0;31mValueError\u001b[0m: La seccion debe ser un numero."
     ]
    }
   ],
   "source": [
    "form = RegisterForm()\n",
    "\n",
    "with open(\"test.txt\") as test_file:\n",
    "\n",
    "    for line in test_file:\n",
    "        name, gender, rut, course, section, comment = line.split(\";\")\n",
    "        comment = comment.strip(\"\\n\")\n",
    "\n",
    "        try:\n",
    "            rut_verified = form.check_rut(rut)\n",
    "            \n",
    "        except ValueError:\n",
    "                # Intentamos sacar el punto o agregar el guion para que el rut quede en el formato correcto\n",
    "            if \".\" in rut:\n",
    "                rut = rut.replace(\".\", \"\")\n",
    "\n",
    "            if \"-\" not in rut:\n",
    "                rut = \"{}-{}\".format(rut[:-1], rut[-1])\n",
    "            rut_verified = form.check_rut(rut)\n",
    "        if rut_verified:\n",
    "            try:\n",
    "                form.add_course(course, section)\n",
    "\n",
    "            except ValueError:  \n",
    "                # Si es que hay espacio, lo eliminamos y volvemos a intentar\n",
    "                course = course.replace(\" \", \"\")\n",
    "                form.add_course(course, section)\n",
    "            except IndexError:  \n",
    "                # Si el número de la sección no existe, se deja como 0\n",
    "                section = 0\n",
    "                form.add_course(course, section)\n",
    "\n",
    "            except ValueError:\n",
    "                # Si ingresan \"section N\" se deja solo el número, \n",
    "                # Si se ingresa \"todas\" en vez de sección, se deja como 0\n",
    "                if \"section\" in section:\n",
    "                    print('[WARNING] Hemos encontrado una seccion con \"section\" en su número de sección.'\n",
    "                          ' Reparando...')\n",
    "                    section = int(section.replace(\"section \", \"\"))\n",
    "                elif \"todas\" in section:\n",
    "                    print('[WARNING] Hemos encontrado una sección con el término \"todas.'\n",
    "                          'Asignando alumno a la sección 0...')\n",
    "                    section = 0\n",
    "                else:\n",
    "                    section = int(section)\n",
    "                form.add_course(course, section)\n",
    "\n",
    "            form.register_people_info(name, gender, comment)\n",
    "\n"
   ]
  },
  {
   "cell_type": "markdown",
   "metadata": {
    "colab_type": "text",
    "id": "MWjYip5wVyB5"
   },
   "source": [
    "Con esto termina la parte de manejo de excepciones y falta solo la parte final.\n",
    "\n",
    "## Testing\n",
    "\n",
    "Para demostrar que la librería funciona se debía escribir un código de *testing* que probara las siguientes funcionalidades:\n",
    "\n",
    "- Al vericar un RUT con un dígito verificador erróneo y formato correcto, el metodo `check_rut` retorna `False`\n",
    "\n",
    "Para esto, primero se debe escribir la clase de para ejecutar el *testing* y definir los métodos `setUp` y `tearDown`."
   ]
  },
  {
   "cell_type": "code",
   "execution_count": 36,
   "metadata": {
    "colab": {},
    "colab_type": "code",
    "id": "eRU7X7G4jx4b"
   },
   "outputs": [],
   "source": [
    "import unittest\n",
    "import os.path\n",
    "\n",
    "\n",
    "class Test(unittest.TestCase):\n",
    "    \n",
    "    def setUp(self):\n",
    "        pass\n",
    "\n",
    "    def tearDown(self):\n",
    "        pass\n",
    "            \n",
    "    def test_rut(self):  \n",
    "        # Testea la función check_rut (que retorne False ante ruts inexistentes).\n",
    "        pass"
   ]
  },
  {
   "cell_type": "code",
   "execution_count": 37,
   "metadata": {
    "colab": {},
    "colab_type": "code",
    "id": "wN8vQ7sZVyB8"
   },
   "outputs": [],
   "source": [
    "import unittest\n",
    "import os.path\n",
    "\n",
    "\n",
    "class Test(unittest.TestCase):\n",
    "    \n",
    "    def setUp(self):\n",
    "        self.form = RegisterForm()\n",
    "\n",
    "    def tearDown(self):\n",
    "        pass\n",
    "            \n",
    "    def test_rut_false(self):  \n",
    "        # Testea la función check_rut (que retorne False ante ruts inexistentes).\n",
    "        self.assertFalse(self.form.check_rut('19523019-5'))"
   ]
  },
  {
   "cell_type": "markdown",
   "metadata": {
    "colab_type": "text",
    "id": "R4LByKbwVyCD"
   },
   "source": [
    "- Al ingresar un RUT con formato incorrecto, se quiere verificar que se levante una excepción.\n",
    "- Al ingresar un RUT con formato correcto, se debe retornar `True`."
   ]
  },
  {
   "cell_type": "code",
   "execution_count": 38,
   "metadata": {
    "colab": {},
    "colab_type": "code",
    "id": "2YzM9CbyVyCG"
   },
   "outputs": [],
   "source": [
    "    # Testea que check_rut levante una excepción al ingresar un existentte con buen formato, retorne True\n",
    "    def test_rut(self):\n",
    "        # Cuando el formato está bien, y el rut existe, debería retornar True\n",
    "        self.assertTrue(self.form.check_rut('19523019-6'))\n",
    "\n",
    "    # Testea que check_rut levante una excepción al ingresar un rut en mal formato.\n",
    "    def test_rut_exception(self):  \n",
    "        # Cuando el formato está mal, levanta una excepción.\n",
    "        self.assertRaises(ValueError, self.form.check_rut, '19.523.0196')   \n",
    "    "
   ]
  },
  {
   "cell_type": "markdown",
   "metadata": {
    "colab_type": "text",
    "id": "vgdYrv2qVyCP"
   },
   "source": [
    "- Se debe verificar que si se registra de manera correcta una persona y se guardan los cambios realizados en un archivo, los datos estan bien ingresados en el archivo creado. Es decir, vericar que las primeras 4 lineas del archivo sean:\n",
    "> - Student: \"nombre_alumno\"\n",
    "  - Gender: \"genero\"\n",
    "  - Comment: \"comentario\"\n",
    "  - ########################################"
   ]
  },
  {
   "cell_type": "code",
   "execution_count": 39,
   "metadata": {
    "colab": {},
    "colab_type": "code",
    "id": "Ek3EoAOrVyCS"
   },
   "outputs": [],
   "source": [
    "    # Testea que los datos de usuarios registrados estén bien guardados al ejecutar save_data.\n",
    "    \n",
    "    def test_file(self):  \n",
    "    \n",
    "        # Primero guardamos la información en la base de datos local (lista):\n",
    "        self.form.register_people_info('Felipe', 'Helicóptero Apache', 'Spanish Inquisition')\n",
    "        \n",
    "        # Luego guardamos la información en un archivo:\n",
    "        self.form.save_data('archivo.txt')\n",
    "        \n",
    "        # la variable info contiene el string que debió haberse escrito en archivo.txt.\n",
    "        info = 'Student: Felipe\\nGender: Helicóptero Apache\\nComment: Spanish Inquisition\\n'\n",
    "        info += 40*'#' + '\\n'\n",
    "        \n",
    "        with open('archivo.txt') as file:\n",
    "            check = ''\n",
    "            for line in file.readlines():\n",
    "                check += line\n",
    "        \n",
    "        self.assertIn(info, check)"
   ]
  },
  {
   "cell_type": "code",
   "execution_count": 40,
   "metadata": {
    "colab": {},
    "colab_type": "code",
    "id": "6wf-MbC-ksV8"
   },
   "outputs": [],
   "source": [
    "import unittest\n",
    "import os.path\n",
    "\n",
    "\n",
    "class Test(unittest.TestCase):\n",
    "    \n",
    "    def setUp(self):\n",
    "        self.form = RegisterForm()\n",
    "\n",
    "    def tearDown(self):\n",
    "        # Agregamos la eliminación del archivo\n",
    "        if os.path.isfile('archivo.txt'):\n",
    "            os.remove('archivo.txt')\n",
    "        \n",
    "    def test_rut_false(self):  \n",
    "        # Testea la función check_rut (que retorne False ante ruts inexistentes).\n",
    "        self.assertFalse(self.form.check_rut('19523019-5'))"
   ]
  },
  {
   "cell_type": "markdown",
   "metadata": {
    "colab_type": "text",
    "id": "-jk7O0teVyCg"
   },
   "source": [
    "- Se debe verificar que el método `register_people_info` guarde dentro de la base temporal la información de la persona. Para esto el método a crear deberá verificar que cada dato ingresado se encuentra en el último elemento de la base de datos temporal."
   ]
  },
  {
   "cell_type": "code",
   "execution_count": 41,
   "metadata": {
    "colab": {},
    "colab_type": "code",
    "id": "ZFoHFcb9VyCi"
   },
   "outputs": [],
   "source": [
    "# Testea que los datos ingresados en la base de datos local sean correctos.\n",
    "def test_register(self):  \n",
    "        self.form.register_people_info('Hernan', 'Otaku', 'Fernando-Sempaaaai, yamete!!')\n",
    "        check = ['Hernan', 'Otaku', 'Fernando-Sempaaaai, yamete!!']\n",
    "        self.assertEqual(check, self.form.register_list[-1])"
   ]
  },
  {
   "cell_type": "markdown",
   "metadata": {
    "colab_type": "text",
    "id": "Ue5PIHuwVyCv"
   },
   "source": [
    "Finalmente la clase `Test` quedará de la siguiente manera:"
   ]
  },
  {
   "cell_type": "code",
   "execution_count": 44,
   "metadata": {
    "colab": {},
    "colab_type": "code",
    "id": "wVUNkXCFVyCx"
   },
   "outputs": [],
   "source": [
    "import unittest\n",
    "import os.path\n",
    "\n",
    "\n",
    "class Test(unittest.TestCase):\n",
    "    \n",
    "    def setUp(self):\n",
    "        self.form = RegisterForm()\n",
    "\n",
    "    def tearDown(self):\n",
    "        if os.path.isfile('archivo.txt'):\n",
    "            os.remove('archivo.txt')\n",
    "            \n",
    "    def test_rut(self):  # Testea la función check_rut (que retorne False ante ruts inexistentes).\n",
    "        self.assertFalse(self.form.check_rut('19523019-5'))\n",
    "    \n",
    "    def test_rut_exception(self):  # Testea que check_rut levante una excepción al ingresar un rut en mal formato.\n",
    "        self.assertTrue(self.form.check_rut('19523019-6'))  # Cuando el formato está bien, retorna True.\n",
    "        self.assertRaises(ValueError, self.form.check_rut, '19.523.0196')\n",
    "    \n",
    "    def test_file(self):  # Testea que los datos de usuarios registrados estén bien guardados al ejecutar save_data.\n",
    "        # Primero guardamos la información en la base de datos local (lista):\n",
    "        self.form.register_people_info('Felipe', 'Helicóptero Apache', 'Spanish Inquisition')\n",
    "        # Luego guardamos la información en un archivo:\n",
    "        self.form.save_data('archivo.txt')\n",
    "        # la variable info contiene el string que debió haberse escrito en archivo.txt.\n",
    "        info = 'Student: Felipe\\nGender: Helicóptero Apache\\nComment: Spanish Inquisition\\n'\n",
    "        info += 40*'#' + '\\n'\n",
    "        with open('archivo.txt') as file:\n",
    "            check = ''\n",
    "            for line in file.readlines():\n",
    "                check += line\n",
    "        self.assertIn(info, check)\n",
    "    def test_register(self):  # Testea que los datos ingresados en la base de datos local sean correctos.\n",
    "        self.form.register_people_info('Hernan', 'Otaku', 'Fernando-Sempaaaai, yamete!!')\n",
    "        check = ['Hernan', 'Otaku', 'Fernando-Sempaaaai, yamete!!']\n",
    "\n"
   ]
  },
  {
   "cell_type": "markdown",
   "metadata": {
    "colab_type": "text",
    "id": "sTcymQzbVyC4"
   },
   "source": [
    "Ahora ejecutamos el *test*"
   ]
  },
  {
   "cell_type": "code",
   "execution_count": 45,
   "metadata": {
    "colab": {},
    "colab_type": "code",
    "id": "BDilMAI4VyC7",
    "outputId": "bb5fb86f-4a53-41d5-c6f3-fead8048e08b"
   },
   "outputs": [
    {
     "name": "stderr",
     "output_type": "stream",
     "text": [
      "...."
     ]
    },
    {
     "name": "stdout",
     "output_type": "stream",
     "text": [
      "Informacion guardada con exito\n"
     ]
    },
    {
     "name": "stderr",
     "output_type": "stream",
     "text": [
      "\n",
      "----------------------------------------------------------------------\n",
      "Ran 4 tests in 0.008s\n",
      "\n",
      "OK\n"
     ]
    },
    {
     "data": {
      "text/plain": [
       "<unittest.runner.TextTestResult run=4 errors=0 failures=0>"
      ]
     },
     "execution_count": 45,
     "metadata": {},
     "output_type": "execute_result"
    }
   ],
   "source": [
    "# test.main() en cualquier editor que no sea jupyter\n",
    "\n",
    "suite = unittest.TestLoader().loadTestsFromTestCase(Test)\n",
    "unittest.TextTestRunner().run(suite)"
   ]
  },
  {
   "cell_type": "markdown",
   "metadata": {
    "colab_type": "text",
    "id": "WUwe8U3UVyDO"
   },
   "source": [
    "## Ejemplo Excepción personalizada"
   ]
  },
  {
   "cell_type": "code",
   "execution_count": 46,
   "metadata": {
    "colab": {},
    "colab_type": "code",
    "id": "pcP3JGWsVyDQ"
   },
   "outputs": [],
   "source": [
    "class RutConPuntos(Exception):\n",
    "    \n",
    "    def __init__(self, *args, **kwargs):\n",
    "        super().__init__(*args, **kwargs)\n",
    "        self.rut = args[0]\n",
    "        \n",
    "    def corregir_rut(self):\n",
    "        return self.rut.replace(\".\", \"\")\n",
    "    \n",
    "    def __str__(self):\n",
    "        return 'El RUT contiene puntos ({})'.format(self.rut)\n",
    "    \n",
    "class RutSinGuion(Exception):\n",
    "    \n",
    "    def __init__(self, *args, **kwargs):\n",
    "        super().__init__(*args, **kwargs)\n",
    "        self.rut = args[0]\n",
    "        \n",
    "    def corregir_rut(self):\n",
    "        return self.rut[:-1] + '-' + self.rut[-1]\n",
    "    \n",
    "    def __str__(self):\n",
    "        return 'El RUT no contiene guion ({})'.format(self.rut)\n",
    "    \n"
   ]
  },
  {
   "cell_type": "markdown",
   "metadata": {
    "colab_type": "text",
    "id": "HqVtAcE9VyDc"
   },
   "source": [
    "Ahora si modificamos el método `check_rut` de la clase `FormRegister`"
   ]
  },
  {
   "cell_type": "code",
   "execution_count": 47,
   "metadata": {
    "colab": {},
    "colab_type": "code",
    "id": "li55l85sVyDj",
    "outputId": "6333c48d-155b-4e51-a9e5-63c4b4a9c237"
   },
   "outputs": [],
   "source": [
    "class RegisterForm:\n",
    "    def __init__(self):\n",
    "        \"\"\"\n",
    "        NO TOCAR el init\n",
    "        \"\"\"\n",
    "        self.courses = {\n",
    "            \"IIC1103\": [0, 0, 0],  # IIC1103 tiene 2 secciones\n",
    "            \"IIC2233\": [0, 0, 0, 0],  # IIC2233 tiene 3 secciones\n",
    "            \"IIC2115\": [0, 0],  # IIC2115 tiene 1 seccion\n",
    "            \"IIE3115\": [0, 0],  # IIC2115 tiene 1 seccion\n",
    "            \"IIC2332\": [0, 0],  # IIC2115 tiene 1 seccion\n",
    "            \"IIC2515\": [0, 0]  # IIC2115 tiene 1 seccion\n",
    "        }\n",
    "\n",
    "        self.register_list = []  # Almacena los alumnos que se inscribieron con exito\n",
    "           \n",
    "    def check_rut(self, rut):\n",
    "  \n",
    "        '''Retorna rue si el rut es valido False si no lo es.\n",
    "  \n",
    "        Se encarga de levantar excepciones en el caso que el rut no sea válido.\n",
    "        '''\n",
    "        if '.' in rut:\n",
    "            raise RutConPuntos(rut)\n",
    "  \n",
    "\n",
    "        if '-' != rut[-2]:\n",
    "            raise RutSinGuion(rut)\n",
    "      \n",
    "        # Si no se levanta alguna excepción llamamos a la función verificadora\n",
    "        return self._check_rut(rut)\n",
    "    \n",
    "    \n",
    "    @staticmethod\n",
    "    def _check_rut(rut):\n",
    "        '''\n",
    "        Esta función se ejecutará solo en caso de que NO \n",
    "        se haya levantado ninguna excepción. La función verifica el rut.\n",
    "        '''\n",
    "        digits, checker = rut.split(\"-\")\n",
    "\n",
    "        digits = list(map(lambda d: int(d), digits))\n",
    "  \n",
    "        list_number = [2, 3, 4, 5, 6, 7, 2, 3, 4, 5]\n",
    "  \n",
    "        digits.reverse()\n",
    "  \n",
    "        total = sum(digit * number for digit, number in zip(digits, list_number))\n",
    "\n",
    "        rest = 11 - total % 11\n",
    "  \n",
    "        rest = defaultdict(lambda: str(rest), {11: '0', 10: 'k'})[rest]\n",
    "  \n",
    "        return rest == checker\n",
    "    \n",
    "    \n",
    "    def add_course(self, course, section):\n",
    "        \n",
    "        # Hay un espacio en la sigla\n",
    "        if ' ' in course:\n",
    "            raise ValueError('La sigla del curso debe ir sin espacio (XXXX123).')    \n",
    "\n",
    "        # La seccion vino escrita como todas en vez del numero\n",
    "        if section == 'todas':\n",
    "            raise ValueError('La seccion debe ser un numero.')\n",
    "\n",
    "        #La seccion fue ingresada con texto en el formato \"section N\"\n",
    "        if isinstance(section, str) and section[:-2].isalpha():\n",
    "            raise ValueError('La seccion debe ser un numero.')\n",
    "  \n",
    "        # La seccion no existe.\n",
    "        if int(section) > len(self.courses[course]) - 1 or int(section) < 0:\n",
    "            raise IndexError('No existe la seccion {}.'.format(section))\n",
    "  \n",
    "        self.courses[course][int(section)] += 1\n",
    "    \n",
    "    \n",
    "    def register_people_info(self, student_name, gender, comment):\n",
    "        self.register_list.append([student_name, gender, comment])\n",
    "\n",
    "    def save_data(self, path):\n",
    "        with open(path, \"w\") as file:\n",
    "            for register in self.register_list:\n",
    "                text = \"Student: {}\\nGender: {}\\nComment: {}\\n\".format(*register)\n",
    "                file.write(text + \"#\"*40 + \"\\n\")\n",
    "\n",
    "            print(\"Informacion guardada con exito\")\n",
    "\n"
   ]
  },
  {
   "cell_type": "markdown",
   "metadata": {
    "colab_type": "text",
    "id": "5v43SnhsVyD1"
   },
   "source": [
    "Sin embargo, esto no hace correctamente el trabajo, ya que cuando el rut no tiene guíon y sí puntos solamente ingresa al primer `Except`. Por lo que podríamos hacerlo de la siguiente manera:"
   ]
  },
  {
   "cell_type": "code",
   "execution_count": 50,
   "metadata": {
    "colab": {},
    "colab_type": "code",
    "id": "g4VZjuRSmyfZ"
   },
   "outputs": [
    {
     "name": "stdout",
     "output_type": "stream",
     "text": [
      "El RUT contiene puntos (19.657.850-1)\n",
      "Desea que corriga el rut? [y/n]:y\n",
      "19657850-1\n",
      "El RUT contiene puntos (19.644.9116)\n",
      "Desea que corriga el rut? [y/n]:y\n",
      "196449116\n",
      "El RUT no contiene guion (196449116)\n",
      "Desea que corriga el rut? [y/n]:y\n",
      "19644911-6\n"
     ]
    }
   ],
   "source": [
    " \n",
    "def verificador(rut):\n",
    "    try:\n",
    "        rut_verified = form.check_rut(rut)\n",
    "\n",
    "    except RutConPuntos as err:\n",
    "        # Esto imprime el __str__ del método RutConPuntos\n",
    "        print(err)\n",
    "        # Se corrigue el rut\n",
    "        output = input(\"Desea que corriga el rut? [y/n]:\")\n",
    "        if output == 'y':\n",
    "            nuevo_rut = err.corregir_rut()\n",
    "            # Imprimimos el rut modificado\n",
    "            print(nuevo_rut)\n",
    "            return verificador(nuevo_rut)\n",
    "\n",
    "    except RutSinGuion as err2:\n",
    "        # Esto imprime el __str__ del método RutSinGuion\n",
    "        \n",
    "        print(err2)\n",
    "        output = input(\"Desea que corriga el rut? [y/n]:\")\n",
    "        if output == 'y':\n",
    "            nuevo_rut = err2.corregir_rut()\n",
    "            # Imprimimos el rut modificado\n",
    "            print(nuevo_rut)\n",
    "            return verificador(nuevo_rut)\n",
    "\n",
    "\n",
    "form = RegisterForm()\n",
    "with open(\"test.txt\") as test_file:\n",
    "\n",
    "    for line in test_file:\n",
    "        name, gender, rut, course, section, comment = line.split(\";\")\n",
    "        comment = comment.strip(\"\\n\")\n",
    "        verificador(rut)\n",
    "    "
   ]
  },
  {
   "cell_type": "code",
   "execution_count": null,
   "metadata": {},
   "outputs": [],
   "source": []
  },
  {
   "cell_type": "code",
   "execution_count": null,
   "metadata": {},
   "outputs": [],
   "source": []
  },
  {
   "cell_type": "code",
   "execution_count": null,
   "metadata": {},
   "outputs": [],
   "source": []
  },
  {
   "cell_type": "code",
   "execution_count": null,
   "metadata": {},
   "outputs": [],
   "source": []
  }
 ],
 "metadata": {
  "colab": {
   "collapsed_sections": [],
   "name": "solucion.ipynb",
   "provenance": [],
   "version": "0.3.2"
  },
  "kernelspec": {
   "display_name": "Python 3",
   "language": "python",
   "name": "python3"
  },
  "language_info": {
   "codemirror_mode": {
    "name": "ipython",
    "version": 3
   },
   "file_extension": ".py",
   "mimetype": "text/x-python",
   "name": "python",
   "nbconvert_exporter": "python",
   "pygments_lexer": "ipython3",
   "version": "3.6.4"
  }
 },
 "nbformat": 4,
 "nbformat_minor": 1
}
