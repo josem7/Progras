{
 "cells": [
  {
   "cell_type": "markdown",
   "metadata": {
    "colab_type": "text",
    "id": "yq_FGLQyAwLz"
   },
   "source": [
    "# Ejercicios\n",
    "\n"
   ]
  },
  {
   "cell_type": "markdown",
   "metadata": {},
   "source": [
    "## Generales\n",
    "\n",
    "### Ejercicio simple\n",
    "\n",
    "Se tiene la siguiente función ~~pésimamente~~ implementada:\n",
    "\n",
    "```python\n",
    "def codigo_no_pythonico(numero1, numero2):\n",
    "    try:\n",
    "        resultado = numero1 / numero2   \n",
    "        print(f'El resultado es {resultado}')\n",
    "    except ValueError as err:\n",
    "        print(\"ValueError!\")\n",
    "    except TypeError as err:\n",
    "        print(\"TypeError!\")\n",
    "    except Exception as err:\n",
    "        print(\"Exception!\")\n",
    "    except ZeroDivisionError as err:\n",
    "        print(\"ZeroDivisionError!\")\n",
    "    else:\n",
    "        print(\"else!\")\n",
    "    finally:\n",
    "        print(\"finally!\")\n",
    "```\n",
    "\n",
    "Indique el _output_ de los siguientes 3 llamados:\n",
    "\n",
    "Primero:\n",
    "\n",
    "```python\n",
    "codigo_no_pythonico(15, \"5\")\n",
    "```\n",
    "\n",
    "Luego:\n",
    "\n",
    "```python\n",
    "codigo_no_pythonico(1, -1)\n",
    "```\n",
    "\n",
    "Por último:\n",
    "\n",
    "```python\n",
    "codigo_no_pythonico(15, 0)\n",
    "```\n",
    "\n",
    "**hint:** Prueba el código abajo para ver si estabas en lo correcto!"
   ]
  },
  {
   "cell_type": "code",
   "execution_count": 11,
   "metadata": {},
   "outputs": [],
   "source": [
    "# Pruebe aquí"
   ]
  },
  {
   "cell_type": "markdown",
   "metadata": {
    "colab_type": "text",
    "id": "er7SBr0Io-w2"
   },
   "source": [
    "# Actividad chica\n",
    "\n",
    "## Excepciones\n",
    "\n",
    "A continuación se entrega la clase de una _Super Calculadora_. Esta es capaz de realizar operaciones algebráicas básicas, y posee un historial que almacena hasta 10 operaciones.\n",
    "\n",
    "Tu objetivo es controlar comportamientos incorrectos de la calculadora. Debes levantar las siguientes excepciones.\n",
    "\n",
    "- `TypeError`: Se levanta este error cuando no se entregan números a la multiplicación, i.e se entregan strings por ejemplo.\n",
    "- `TypeError`: Se levanta este error cuando el producto recibe como parámetro 0 cosas para multiplicar.\n",
    "\n",
    "Además debes levantar un error _built in_:\n",
    "- `ZeroDivisionError` Cuando alguno de los números del divisor  es 0.\n"
   ]
  },
  {
   "cell_type": "code",
   "execution_count": null,
   "metadata": {
    "colab": {},
    "colab_type": "code",
    "id": "iCfouKjrn2jE"
   },
   "outputs": [],
   "source": [
    "from functools import reduce\n",
    "\n",
    "\n",
    "class SuperCalculadora:\n",
    "\n",
    "    def __init__(self):\n",
    "        self.historial = []\n",
    "\n",
    "    def borrar_memoria(self):\n",
    "        self.historial.clear()\n",
    "\n",
    "    def suma(self, *args):\n",
    "\n",
    "        # Debes levantar una excepción personalizada acá\n",
    "        \n",
    "        # Debes evitar que el resultado se guarde si la memoria está llena\n",
    "        self.historial.append(sum(args))\n",
    "\n",
    "        return sum(args)\n",
    "    \n",
    "    def producto(self, *args):\n",
    "\n",
    "        # Debes levantar una excepción personalizada acá\n",
    "        resultado = reduce(lambda x, y: x * y, args)\n",
    "        \n",
    "        # Debes evitar que el resultado se guarde si la memoria está llena\n",
    "        self.historial.append(resultado)\n",
    "\n",
    "        return resultado\n",
    "\n",
    "    def division(self, dividendo, divisor):\n",
    "        \"\"\"Divide el producto de todos los dividendos dividido por el producto\n",
    "        de todos los divisores\"\"\"\n",
    "\n",
    "        # Debes levantar un error de division por cero aca, ANTES de hacer al división\n",
    "        resultado = dividento/divisor\n",
    "        \n",
    "        # Debes evitar que el resultado se guarde si la memoria está llena\n",
    "        self.historial.append(resultado)\n",
    "\n",
    "        return resultado"
   ]
  },
  {
   "cell_type": "markdown",
   "metadata": {
    "colab_type": "text",
    "id": "Gerg-8zMAqOl"
   },
   "source": [
    "# Testing\n",
    "\n",
    "A continuación deberás completar el siguiente set de pruebas"
   ]
  },
  {
   "cell_type": "code",
   "execution_count": 0,
   "metadata": {
    "colab": {},
    "colab_type": "code",
    "id": "lZ6DPxTDJf8h"
   },
   "outputs": [],
   "source": [
    "from unittest import TestCase\n",
    "\n",
    "\n",
    "class SuperCalculadoraTest(TestCase):\n",
    "    def setUp(self):\n",
    "        self.calc = SuperCalculadora()\n",
    "\n",
    "    def tearDown(self):\n",
    "        self.calc.borrar_memoria()\n",
    "    \n",
    "    def test_suma(self):\n",
    "        '''\n",
    "        Deberas probar que la suma funciona bien.\n",
    "\n",
    "        Ejemplo, que 1 + 1 sea igual a 2\n",
    "        '''\n",
    "        pass\n",
    "\n",
    "    def test_division(self):\n",
    "        '''\n",
    "        Deberas probar que la division funciona bien\n",
    "        '''\n",
    "        pass"
   ]
  },
  {
   "cell_type": "markdown",
   "metadata": {
    "colab_type": "text",
    "id": "uElJBnSHPf8i"
   },
   "source": [
    "Basando en tu respuesta los ejercicios anteriores, indique cual es el output del siguiente código"
   ]
  },
  {
   "cell_type": "code",
   "execution_count": 0,
   "metadata": {
    "colab": {},
    "colab_type": "code",
    "id": "QwWwS_R_PjUG"
   },
   "outputs": [],
   "source": [
    " # Asumiendo que se tiene todo lo de arriba.\n",
    "  \n",
    "    def test_error_memoria(self):\n",
    "        for _ in range(100):\n",
    "            self.calc.suma(1, 1)\n",
    "        self.assertLessEqual(len(self.calc.suma(1.1), 10)\n",
    "\n",
    "    def test_division_zero(self):\n",
    "        self.assertRaises(ZeroDivisionError, self.calc.division(1,0)\n",
    "\n",
    "if __name__ == '__main__':\n",
    "    supertest = SuperCalculadoraTest()\n",
    "    supertest.run()"
   ]
  },
  {
   "cell_type": "markdown",
   "metadata": {
    "colab_type": "text",
    "id": "A8QYdqRgAroK"
   },
   "source": [
    "## Manejo de Excepciones "
   ]
  },
  {
   "cell_type": "markdown",
   "metadata": {
    "colab_type": "text",
    "id": "7Tr9RUlK5krP"
   },
   "source": [
    "Se te entrega la clase `SuperComputador`, que es un computador muy avanzado, con una única super aplicación, la `SuperCalculadora`, con el computador, tu eres capáz de realizar operaciones matemáticas _on the fly_. Utiliza esta calculador para realizar algunas operaciones, pero antes debes manejar los posibles errores que esta `SuperCalculadora` puede levantar.\n",
    "\n",
    "A continuación deberás manejar las siguientes excepciones:\n",
    "- `TypeError`: `En self.suma`, si el elemento entregado no es un número pero es un string de numeros, deberás convertirlos  a números y luego ejecutar la operación nuevamente, en caso contrario, saltas la operación e imprimes operación invalida.\n",
    "- `TypeError`: Si no se entregan args en `self.producto`, deberás omitir la operación."
   ]
  },
  {
   "cell_type": "code",
   "execution_count": 0,
   "metadata": {
    "colab": {},
    "colab_type": "code",
    "id": "r3JOfovW6-nK"
   },
   "outputs": [],
   "source": [
    "class SuperComputador:\n",
    "    def __init__(self):\n",
    "        self.calculator = SuperCalculadora()\n",
    "\n",
    "    def ejecutar(self, comando, *args):\n",
    "        \"NO PUEDES BORRAR EL CODIGO QUE YA ESTÁ, SOLO AGREGAR\"\n",
    "        if comando == 'sumar':\n",
    "            print(f'sumando {args}. Resultado:', self.calculator.suma(*args))\n",
    "        elif comando == 'restar':\n",
    "\n",
    "            # Le resta al primero todos los otros argumentos\n",
    "            primero = [args[0]]\n",
    "            if len(args) > 1:\n",
    "                otros = args[1:]\n",
    "            else:\n",
    "                otros = []\n",
    "            params = primero + list(map(lambda x: -1 * x, otros))\n",
    "            resultado = self.calculator.suma(*params)\n",
    "            print(f'restando {args}. Resultado: {resultado}')\n",
    "\n",
    "        elif comando == 'producto':\n",
    "\n",
    "            resultado = self.calculator.producto(*args)\n",
    "\n",
    "            print(f'multiplicando {args}. Resultado: {resultado}')\n",
    "\n",
    "        elif comando == 'division':\n",
    "            dividendo, divisor = args\n",
    "\n",
    "            result = self.calculator.division(dividendo, divisor)\n",
    "            print(f'dividiendo {dividendo}/{divisor}. Resultado: {result}')\n"
   ]
  }
 ],
 "metadata": {
  "colab": {
   "collapsed_sections": [],
   "name": "Ejercicios.ipynb",
   "provenance": [
    {
     "file_id": "1fpMmYEyOBAM8xdfBFCJoWR2DCcuDTDN1",
     "timestamp": 1537743031421
    }
   ],
   "toc_visible": true,
   "version": "0.3.2"
  },
  "kernelspec": {
   "display_name": "Python 3",
   "language": "python",
   "name": "python3"
  },
  "language_info": {
   "codemirror_mode": {
    "name": "ipython",
    "version": 3
   },
   "file_extension": ".py",
   "mimetype": "text/x-python",
   "name": "python",
   "nbconvert_exporter": "python",
   "pygments_lexer": "ipython3",
   "version": "3.6.5"
  }
 },
 "nbformat": 4,
 "nbformat_minor": 1
}
