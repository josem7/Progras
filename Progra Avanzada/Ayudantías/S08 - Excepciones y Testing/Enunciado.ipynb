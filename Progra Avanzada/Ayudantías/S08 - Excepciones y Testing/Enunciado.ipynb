{
 "cells": [
  {
   "cell_type": "markdown",
   "metadata": {
    "colab_type": "text",
    "id": "cllfeOezVyAY"
   },
   "source": [
    "# Ayudantía 8: Enunciado\n",
    "## Excepciones y Testing\n",
    "\n",
    "Nicolás Quiroz y Gabriel Lyon\n",
    "\n",
    "\n",
    "## AC05 2017-2 "
   ]
  },
  {
   "cell_type": "markdown",
   "metadata": {
    "colab_type": "text",
    "id": "TfRX6oT4VyAb"
   },
   "source": [
    "## Introducción\n",
    "El Departamento de Ciencia de la Computación (DCC) se ha percatado que muchos de sus cursos se quedan\n",
    "sin cupos y, por lo tanto, __ha creado un formulario__ para que sus alumnos puedan indicar qué cursos necesitan\n",
    "tomar. En __este formulario los alumnos deben completar los siguientes datos__:\n",
    "    - Nombre\n",
    "    - Sexualidad\n",
    "    - RUT \n",
    "    - Sigla de curso\n",
    "    - Sección\n",
    "    - Comentario\n",
    "\n",
    "Además, el DCC ha __creado una librería para analizar las respuestas del formulario__ (la cual encontramos en `form.py`). \n",
    "\n",
    "Sin embargo, esta librería no considera varias situaciones que iremos detallando a continuación:\n",
    "\n",
    "## Levantamiento de Excepciones\n",
    "\n",
    "El archivo `form.py` contiene a la clase `FormRegister` con varios métodos que no logran procesar algunas respuestas de los alumnos, de tal forma que nosotros debemos levantar excepciones cuando ocurra algo que **no** queremos."
   ]
  },
  {
   "cell_type": "markdown",
   "metadata": {
    "colab_type": "text",
    "id": "Ho2ZYFs3XXVP"
   },
   "source": [
    "El `__init__` de la clase `FormRegister` es el siguiente:"
   ]
  },
  {
   "cell_type": "code",
   "execution_count": null,
   "metadata": {
    "colab": {},
    "colab_type": "code",
    "id": "_z7apUjbVyAe"
   },
   "outputs": [],
   "source": [
    "class RegisterForm:\n",
    "    def __init__(selgf):\n",
    "        \"\"\"\n",
    "        NO TOCAR el init\n",
    "        \"\"\"\n",
    "        self.courses = {\n",
    "            \"IIC1103\": [0, 0, 0],  # IIC1103 tiene 2 secciones\n",
    "            \"IIC2233\": [0, 0, 0, 0],  # IIC2233 tiene 3 secciones\n",
    "            \"IIC2115\": [0, 0],  # IIC2115 tiene 1 seccion\n",
    "            \"IIE3115\": [0, 0],  # IIC2115 tiene 1 seccion\n",
    "            \"IIC2332\": [0, 0],  # IIC2115 tiene 1 seccion\n",
    "            \"IIC2515\": [0, 0]  # IIC2115 tiene 1 seccion\n",
    "        }\n",
    "\n",
    "        self.register_list = []  # Almacena los alumnos que se inscribieron con exito"
   ]
  },
  {
   "cell_type": "markdown",
   "metadata": {
    "colab_type": "text",
    "id": "f9B_wnsaVyAq"
   },
   "source": [
    "Además, la librería tiene los métodos:\n",
    "\n",
    "**`check_rut(rut)`:** Este método verifica que el rut sea válido, es decir, el dígito verificador corresponde al rut. Este debe venir en el siguiente formato:\n",
    "    - Sin puntos\n",
    "    - Con guíon y dígito verificador. Ej: 19829694-5. \n",
    "    \n",
    "Si el RUT resulta ser válido retorna `True`, si no, `False`. Lo que se pide para este método es levantar una excepción cuando el RUT venga con puntos, o en vez de guión hay un espacio."
   ]
  },
  {
   "cell_type": "code",
   "execution_count": null,
   "metadata": {
    "colab": {},
    "colab_type": "code",
    "id": "NqpTRL4EX8_5"
   },
   "outputs": [],
   "source": [
    "def check_rut(self, rut):  \n",
    "    '''Retorna rue si el rut es valido False si no lo es.\n",
    "  \n",
    "    Se encarga de levantar excepciones en el caso que el rut no sea válido.\n",
    "    '''\n",
    "    pass\n",
    "  \n",
    "  "
   ]
  },
  {
   "cell_type": "markdown",
   "metadata": {
    "colab_type": "text",
    "id": "ckfhGXI8bVj5"
   },
   "source": [
    "### Que pasa si queremos hacer la función `check_rut(self, rut)` estática? Se puede? Qué cambia?\n",
    "\n",
    "Es posible, dado que no se usan atributos de la instancia.\n",
    "\n",
    "Solo habría que cambiar la línea que dice\n",
    "```python\n",
    "self._check_rut(rut)\n",
    "```\n",
    "por \n",
    "```python\n",
    "FormRegister._check_rut(rut)\n",
    "```"
   ]
  },
  {
   "cell_type": "markdown",
   "metadata": {
    "colab_type": "text",
    "id": "i-7L1EbNVyA3"
   },
   "source": [
    "- **`add_course(course, section)`:**  Este método añade al diccionario `self.courses` la demanda del curso indicado. El curso debe venir con la sigla del departamento y la sigla numérica sin espacios. Ej: IIC2233.\n",
    "\n",
    "Se pide levantar una excepción cuándo **exista** un espacio en la sigla. Además, otra excepción si **no** existe el número de sección en la clase `FormRegister`. Concretamente, puede venir con 4 tipos de eventualidades: \n",
    "\n",
    " > - Hay un espacio en la sigla\n",
    " > - La sección vino escrita como \"todas\" en vez del número\n",
    " > - La sección fue ingresada con texto en el formato \"section N\"\n",
    " > - La sección no existe."
   ]
  },
  {
   "cell_type": "markdown",
   "metadata": {
    "colab_type": "text",
    "id": "-U16-vD8dHmY"
   },
   "source": [
    "El archivo contiene lo siguiente:\n",
    "\n",
    "```text \n",
    "Hugo Navarrete;Masculino;11961062-1;IIC2233;0;Necesito ese curso\n",
    "Bastian Mavrakis;Reptiliano;18918973-7;IIC 2515;1;Necesito ese curso\n",
    "Stephanie Chau;Femenino;19.657.850-1;IIE 3115;1;Es un curso muy dificil, casi para koreanos por lo que quiero tomarlo para demostrar que es trivial\n",
    "Marcelo Lagos;Masculino;19.644.9116;IIC2233;9;Me canse de hablar de terremotos, ahora quiero simularlos\n",
    "Fernando Pieressa;Sin definir;19244725-9;IIC2233;section 1;Quiero volver a tomarlo\n",
    "Hugo Navarrete;Error 404-Not found;11961062-1;IIC2115;todas;Dicen que es mejor que avanzada o.o\n",
    "```\n",
    "\n"
   ]
  },
  {
   "cell_type": "code",
   "execution_count": null,
   "metadata": {
    "colab": {},
    "colab_type": "code",
    "id": "2TxzHumCVyA5"
   },
   "outputs": [],
   "source": [
    "\n",
    "def add_course(self, course, section):\n",
    "    \n",
    "    # Hay un espacio en la sigla\n",
    "    pass\n",
    "    \n",
    "    # La seccion vino escrita como todas en vez del numero\n",
    "    pass\n",
    "\n",
    "    #La seccion fue ingresada con texto en el formato \"section N\"\n",
    "    pass\n",
    "    \n",
    "    # La seccion no existe.\n",
    "    pass"
   ]
  },
  {
   "cell_type": "markdown",
   "metadata": {
    "colab_type": "text",
    "id": "BjXbYfooVyBF"
   },
   "source": [
    "Además, la librería tiene 2 métodos que no debían ser modificados:\n",
    "\n",
    "- **`register_people_info(student_name, gender, comment)`:** Este método se llama después de verificar el RUT, en caso de que sea correcto se guarda la informacion del estudiante en una base de datos temporal.\n",
    "- **`save_data(path)`:** Dado un _path_, genera un archivo con todos los usuarios registrados en la base de datos temporal y deja vacía esa base de datos."
   ]
  },
  {
   "cell_type": "code",
   "execution_count": null,
   "metadata": {
    "colab": {},
    "colab_type": "code",
    "id": "UVzeCj61VyBI"
   },
   "outputs": [],
   "source": [
    "def register_people_info(self, student_name, gender, comment):\n",
    "    pass\n",
    "\n",
    "def save_data(self, path):\n",
    "    pass"
   ]
  },
  {
   "cell_type": "markdown",
   "metadata": {
    "colab_type": "text",
    "id": "MU_TRoJZVyBO"
   },
   "source": [
    "Por lo tanto la clase `FormRegister` queda finalmente como:"
   ]
  },
  {
   "cell_type": "code",
   "execution_count": null,
   "metadata": {
    "colab": {},
    "colab_type": "code",
    "id": "aFl_xy12VyBT"
   },
   "outputs": [],
   "source": [
    "class RegisterForm:\n",
    "    def __init__(self):\n",
    "        \"\"\"\n",
    "        NO TOCAR el init\n",
    "        \"\"\"\n",
    "        self.courses = {\n",
    "            \"IIC1103\": [0, 0, 0],  # IIC1103 tiene 2 secciones\n",
    "            \"IIC2233\": [0, 0, 0, 0],  # IIC2233 tiene 3 secciones\n",
    "            \"IIC2115\": [0, 0],  # IIC2115 tiene 1 seccion\n",
    "            \"IIE3115\": [0, 0],  # IIC2115 tiene 1 seccion\n",
    "            \"IIC2332\": [0, 0],  # IIC2115 tiene 1 seccion\n",
    "            \"IIC2515\": [0, 0]  # IIC2115 tiene 1 seccion\n",
    "        }\n",
    "\n",
    "        self.register_list = []  # Almacena los alumnos que se inscribieron con exito\n",
    "    \n",
    "    def check_rut(self, rut):\n",
    "  \n",
    "        '''Retorna rue si el rut es valido False si no lo es.\n",
    "  \n",
    "        Se encarga de levantar excepciones en el caso que el rut no sea válido.\n",
    "        '''\n",
    "        pass\n",
    "    \n",
    "    \n",
    "    def add_course(self, course, section):\n",
    "        \n",
    "        # Hay un espacio en la sigla\n",
    "        pass\n",
    "        \n",
    "        # La seccion vino escrita como todas en vez del numero\n",
    "        pass\n",
    "    \n",
    "        #La seccion fue ingresada con texto en el formato \"section N\"\n",
    "        pass\n",
    "        \n",
    "        # La seccion no existe.\n",
    "        pass\n",
    "    \n",
    "    \n",
    "    def register_people_info(self, student_name, gender, comment):\n",
    "        pass\n",
    "\n",
    "    def save_data(self, path):\n",
    "        pass"
   ]
  },
  {
   "cell_type": "markdown",
   "metadata": {
    "colab_type": "text",
    "id": "vOhn3bmjVyBd"
   },
   "source": [
    "Con esto concluye la primera parte de la actividad (levantamiento de excepciones).\n",
    "\n",
    "## Manejo de Excepciones\n",
    "\n",
    "Para esta parte se debe manejar las excepciones desde el el código escrito en `AC05.py`, el cual inicialmente se ve de la siguiente forma:"
   ]
  },
  {
   "cell_type": "code",
   "execution_count": null,
   "metadata": {
    "colab": {},
    "colab_type": "code",
    "id": "EeqWtci2VyBf",
    "outputId": "68b78daf-6aa6-4a6e-ab42-4b75e84d2748"
   },
   "outputs": [],
   "source": [
    "form = RegisterForm()\n",
    "\n",
    "with open(\"test.txt\") as test_file:\n",
    "\n",
    "    pass"
   ]
  },
  {
   "cell_type": "markdown",
   "metadata": {
    "colab_type": "text",
    "id": "eJP7DXYgVyBr"
   },
   "source": [
    "Lo que se debe hacer es un buen uso de `Try`/`Except` para manejar las excepciones según lo pedido.\n",
    "\n",
    "> - Si un RUT tienen punto/s, o bien, no está con guión, arreglarlos. Ej: 19.829.694 5 -> 19829694-5\n",
    "> - Si los cursos tienen un espacio, se elimina el espacio. Ej: IIC 2233 -> IIC2233\n",
    "> - Si el número de sección no existe, se deja como 0. Ej: 888 -> 0\n",
    "> - Si la sección es \"todas\", se cambia por 0. Ej: \"todas\" -> 0\n",
    "> - Si la sección es de tipo \"section N\", se cambia por N. Ej: \"section 5\" -> 5"
   ]
  },
  {
   "cell_type": "code",
   "execution_count": null,
   "metadata": {
    "colab": {},
    "colab_type": "code",
    "id": "7E-_soyRVyBt"
   },
   "outputs": [],
   "source": [
    "form = RegisterForm()\n",
    "\n",
    "with open(\"test.txt\") as test_file:\n",
    "\n",
    "    pass\n",
    "\n"
   ]
  },
  {
   "cell_type": "markdown",
   "metadata": {
    "colab_type": "text",
    "id": "MWjYip5wVyB5"
   },
   "source": [
    "Con esto termina la parte de manejo de excepciones y falta solo la parte final.\n",
    "\n",
    "## Testing\n",
    "\n",
    "Para demostrar que la librería funciona se debía escribir un código de *testing* que probara las siguientes funcionalidades:\n",
    "\n",
    "- Al vericar un RUT con un dígito verificador erróneo y formato correcto, el metodo `check_rut` retorna `False`\n",
    "\n",
    "Para esto, primero se debe escribir la clase de para ejecutar el *testing* y definir los métodos `setUp` y `tearDown`."
   ]
  },
  {
   "cell_type": "code",
   "execution_count": null,
   "metadata": {
    "colab": {},
    "colab_type": "code",
    "id": "eRU7X7G4jx4b"
   },
   "outputs": [],
   "source": [
    "import unittest\n",
    "import os.path\n",
    "\n",
    "\n",
    "class Test(unittest.TestCase):\n",
    "    \n",
    "    def setUp(self):\n",
    "        pass\n",
    "\n",
    "    def tearDown(self):\n",
    "        pass\n",
    "            \n",
    "    def test_rut(self):  \n",
    "        # Testea la función check_rut (que retorne False ante ruts inexistentes).\n",
    "        pass"
   ]
  },
  {
   "cell_type": "code",
   "execution_count": null,
   "metadata": {
    "colab": {},
    "colab_type": "code",
    "id": "wN8vQ7sZVyB8"
   },
   "outputs": [],
   "source": [
    "import unittest\n",
    "import os.path\n",
    "\n",
    "\n",
    "class Test(unittest.TestCase):\n",
    "    \n",
    "    def setUp(self):\n",
    "        self.form = RegisterForm()\n",
    "\n",
    "    def tearDown(self):\n",
    "        pass\n",
    "            \n",
    "    def test_rut_false(self):  \n",
    "        # Testea la función check_rut (que retorne False ante ruts inexistentes).\n",
    "        pass"
   ]
  },
  {
   "cell_type": "markdown",
   "metadata": {
    "colab_type": "text",
    "id": "R4LByKbwVyCD"
   },
   "source": [
    "- Al ingresar un RUT con formato incorrecto, se quiere verificar que se levante una excepción.\n",
    "- Al ingresar un RUT con formato correcto, se debe retornar `True`."
   ]
  },
  {
   "cell_type": "code",
   "execution_count": null,
   "metadata": {
    "colab": {},
    "colab_type": "code",
    "id": "2YzM9CbyVyCG"
   },
   "outputs": [],
   "source": [
    "    # Testea que check_rut levante una excepción al ingresar un existentte con buen formato, retorne True\n",
    "    def test_rut(self):\n",
    "        # Cuando el formato está bien, y el rut existe, debería retornar True\n",
    "        pass\n",
    "\n",
    "    # Testea que check_rut levante una excepción al ingresar un rut en mal formato.\n",
    "    def test_rut_exception(self):  \n",
    "        # Cuando el formato está mal, levanta una excepción.\n",
    "        pass\n",
    "    "
   ]
  },
  {
   "cell_type": "markdown",
   "metadata": {
    "colab_type": "text",
    "id": "vgdYrv2qVyCP"
   },
   "source": [
    "- Se debe verificar que si se registra de manera correcta una persona y se guardan los cambios realizados en un archivo, los datos estan bien ingresados en el archivo creado. Es decir, vericar que las primeras 4 lineas del archivo sean:\n",
    "> - Student: \"nombre_alumno\"\n",
    "  - Gender: \"genero\"\n",
    "  - Comment: \"comentario\"\n",
    "  - ########################################"
   ]
  },
  {
   "cell_type": "code",
   "execution_count": null,
   "metadata": {
    "colab": {},
    "colab_type": "code",
    "id": "Ek3EoAOrVyCS"
   },
   "outputs": [],
   "source": [
    "    # Testea que los datos de usuarios registrados estén bien guardados al ejecutar save_data.\n",
    "    \n",
    "    def test_file(self):  \n",
    "    \n",
    "        # Primero guardamos la información en la base de datos local (lista)\n",
    "        \n",
    "        # Luego guardamos la información en un archivo:\n",
    "        \n",
    "        # la variable info contiene el string que debió haberse escrito en archivo.txt.\n",
    "        pass"
   ]
  },
  {
   "cell_type": "code",
   "execution_count": null,
   "metadata": {
    "colab": {},
    "colab_type": "code",
    "id": "6wf-MbC-ksV8"
   },
   "outputs": [],
   "source": [
    "import unittest\n",
    "import os.path\n",
    "\n",
    "\n",
    "class Test(unittest.TestCase):\n",
    "    \n",
    "    def setUp(self):\n",
    "        self.form = RegisterForm()\n",
    "\n",
    "    def tearDown(self):\n",
    "        # Agregamos la eliminación del archivo\n",
    "        pass\n",
    "        \n",
    "    def test_rut_false(self):  \n",
    "        # Testea la función check_rut (que retorne False ante ruts inexistentes).\n",
    "        pass"
   ]
  },
  {
   "cell_type": "markdown",
   "metadata": {
    "colab_type": "text",
    "id": "-jk7O0teVyCg"
   },
   "source": [
    "- Se debe verificar que el método `register_people_info` guarde dentro de la base temporal la información de la persona. Para esto el método a crear deberá verificar que cada dato ingresado se encuentra en el último elemento de la base de datos temporal."
   ]
  },
  {
   "cell_type": "code",
   "execution_count": null,
   "metadata": {
    "colab": {},
    "colab_type": "code",
    "id": "ZFoHFcb9VyCi"
   },
   "outputs": [],
   "source": [
    "# Testea que los datos ingresados en la base de datos local sean correctos.\n",
    "def test_register(self):  \n",
    "        pass"
   ]
  },
  {
   "cell_type": "markdown",
   "metadata": {
    "colab_type": "text",
    "id": "Ue5PIHuwVyCv"
   },
   "source": [
    "Finalmente la clase `Test` quedará de la siguiente manera:"
   ]
  },
  {
   "cell_type": "code",
   "execution_count": null,
   "metadata": {
    "colab": {},
    "colab_type": "code",
    "id": "wVUNkXCFVyCx"
   },
   "outputs": [],
   "source": [
    "import unittest\n",
    "import os.path\n",
    "\n",
    "\n",
    "class Test(unittest.TestCase):\n",
    "    \n",
    "    def setUp(self):\n",
    "        pass\n",
    "\n",
    "    def tearDown(self):\n",
    "        pass\n",
    "            \n",
    "    def test_rut(self):  # Testea la función check_rut (que retorne False ante ruts inexistentes).\n",
    "        pass\n",
    "    \n",
    "    def test_rut_exception(self):  # Testea que check_rut levante una excepción al ingresar un rut en mal formato.\n",
    "        pass\n",
    "    \n",
    "    def test_file(self):  # Testea que los datos de usuarios registrados estén bien guardados al ejecutar save_data.\n",
    "        pass\n",
    "\n",
    "    def test_register(self):  # Testea que los datos ingresados en la base de datos local sean correctos.\n",
    "        pass\n",
    "\n"
   ]
  },
  {
   "cell_type": "markdown",
   "metadata": {
    "colab_type": "text",
    "id": "sTcymQzbVyC4"
   },
   "source": [
    "Ahora ejecutamos el *test*"
   ]
  },
  {
   "cell_type": "code",
   "execution_count": null,
   "metadata": {
    "colab": {},
    "colab_type": "code",
    "id": "BDilMAI4VyC7",
    "outputId": "bb5fb86f-4a53-41d5-c6f3-fead8048e08b"
   },
   "outputs": [],
   "source": [
    "# test.main() en cualquier editor que no sea jupyter"
   ]
  }
 ],
 "metadata": {
  "colab": {
   "collapsed_sections": [],
   "name": "solucion.ipynb",
   "provenance": [],
   "version": "0.3.2"
  },
  "kernelspec": {
   "display_name": "Python 3",
   "language": "python",
   "name": "python3"
  },
  "language_info": {
   "codemirror_mode": {
    "name": "ipython",
    "version": 3
   },
   "file_extension": ".py",
   "mimetype": "text/x-python",
   "name": "python",
   "nbconvert_exporter": "python",
   "pygments_lexer": "ipython3",
   "version": "3.6.5"
  }
 },
 "nbformat": 4,
 "nbformat_minor": 1
}
