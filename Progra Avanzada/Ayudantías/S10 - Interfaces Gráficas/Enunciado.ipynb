{
 "cells": [
  {
   "cell_type": "markdown",
   "metadata": {
    "slideshow": {
     "slide_type": "slide"
    }
   },
   "source": [
    "## Actividad\n",
    "\n",
    "Para esta actividad, deberas implementar un pequeño juego 2D. Este juego contara con un menú de inicio y una ventana principal.\n",
    "\n",
    "![alt text][captura]\n",
    "\n",
    "[captura]: Captura.png \"Captura Juego\"\n"
   ]
  },
  {
   "cell_type": "markdown",
   "metadata": {
    "slideshow": {
     "slide_type": "subslide"
    }
   },
   "source": [
    "### Menú de Inicio:\n",
    "\n",
    "La primera ventana del juego será un menu de inicio. Esta ventana posee un boton que al apretarlo incrementará un contador, y cuando el contador supere el número 10 se iniciará el juego.\n"
   ]
  },
  {
   "cell_type": "markdown",
   "metadata": {
    "slideshow": {
     "slide_type": "subslide"
    }
   },
   "source": [
    "### Ventana de Juego:\n",
    "\n",
    "Este es un juego super simple, en el cual con las teclas `A` y `D` se movera un personaje a lo largo de un mapa 2D. Este personaje podrá saltar al presionar la tecla `SPACE` y se agachara con la tecla `S`. Para que el juego sea mas amigable, se le debe agregar dinamismo al personaje a traves del uso de **sprites**. Por útlimo, cabe destacar que se deben considerar aspectos lógicos como los límites de movimiento del personaje y inhabilitar dobles saltos."
   ]
  }
 ],
 "metadata": {
  "celltoolbar": "Slideshow",
  "kernelspec": {
   "display_name": "Python 3",
   "language": "python",
   "name": "python3"
  },
  "language_info": {
   "codemirror_mode": {
    "name": "ipython",
    "version": 3
   },
   "file_extension": ".py",
   "mimetype": "text/x-python",
   "name": "python",
   "nbconvert_exporter": "python",
   "pygments_lexer": "ipython3",
   "version": "3.6.4"
  }
 },
 "nbformat": 4,
 "nbformat_minor": 2
}
