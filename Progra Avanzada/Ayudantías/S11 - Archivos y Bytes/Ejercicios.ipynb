{
 "cells": [
  {
   "cell_type": "markdown",
   "metadata": {
    "colab_type": "text",
    "id": "zgWY-2u9kePp"
   },
   "source": [
    "# Ejercicios"
   ]
  },
  {
   "cell_type": "markdown",
   "metadata": {
    "colab_type": "text",
    "id": "pPuDjAA_kuub"
   },
   "source": [
    "Estos son algunos ejercicios básicos para que practiquen la materia de esta semana.\n",
    "\n",
    "Si tienen dudas, repasen la materia, busquen en Google y, si la duda persiste, no duden en publicar una Issue =D.\n",
    "\n"
   ]
  },
  {
   "cell_type": "markdown",
   "metadata": {
    "colab_type": "text",
    "id": "yFbgh_yikiZc"
   },
   "source": [
    "## 1) "
   ]
  },
  {
   "cell_type": "markdown",
   "metadata": {
    "colab_type": "text",
    "id": "QQikExvUk6Ns"
   },
   "source": [
    "Transforma los caracteres del string \"wubbalubbadubdub\" a ascii, luego a bytes, invierte los bytes e imprime el string invertido."
   ]
  },
  {
   "cell_type": "code",
   "execution_count": 0,
   "metadata": {
    "colab": {},
    "colab_type": "code",
    "id": "ZM51Qzpdmw2W"
   },
   "outputs": [],
   "source": []
  },
  {
   "cell_type": "markdown",
   "metadata": {
    "colab_type": "text",
    "id": "KU_0EF0kk9uU"
   },
   "source": [
    "## 2)"
   ]
  },
  {
   "cell_type": "markdown",
   "metadata": {
    "colab_type": "text",
    "id": "wV5KHYsBk94a"
   },
   "source": [
    "Los siguientes números estan escritos en notación base 3, 5 y 7 respectivamente. \n",
    "Imprime los números en notación normal (base 10) y como binarios (base 2)\n",
    "\n",
    "Hint: Crea una función genérica que reciba de parámetros un número (string) y la base en que está escrita.\n",
    "\n",
    "* 21012021 \n",
    "* 41232004\n",
    "* 24232416"
   ]
  },
  {
   "cell_type": "code",
   "execution_count": 0,
   "metadata": {
    "colab": {},
    "colab_type": "code",
    "id": "NKerZEb8mwSF"
   },
   "outputs": [],
   "source": []
  },
  {
   "cell_type": "markdown",
   "metadata": {
    "colab_type": "text",
    "id": "0EaDN176k97s"
   },
   "source": [
    "## 3)"
   ]
  },
  {
   "cell_type": "markdown",
   "metadata": {
    "colab_type": "text",
    "id": "JHxu8RgclDXh"
   },
   "source": [
    "Escribir una función que copie todo el contenido de un archivo (sea de texto o binario) y escriba otro que se llame \"i_love_iic223.txt\" de modo que sean exactamente iguales. (Notar que debe funcionar independiente si el archivo es .txt o no)"
   ]
  },
  {
   "cell_type": "code",
   "execution_count": 0,
   "metadata": {
    "colab": {},
    "colab_type": "code",
    "id": "-Uo1tVenmxgR"
   },
   "outputs": [],
   "source": []
  },
  {
   "cell_type": "markdown",
   "metadata": {
    "colab_type": "text",
    "id": "5yQOaexclEHr"
   },
   "source": [
    "## 4)"
   ]
  },
  {
   "cell_type": "markdown",
   "metadata": {
    "colab_type": "text",
    "id": "u14nBiiplGOg"
   },
   "source": [
    " Escriba una función que reciba un archivo y una carpeta, y mueva el archivo a la carpeta si estos existen o los cree si no existen (tanto la carpeta como el archivo) "
   ]
  },
  {
   "cell_type": "code",
   "execution_count": 0,
   "metadata": {
    "colab": {},
    "colab_type": "code",
    "id": "6VRcFW2dsLY1"
   },
   "outputs": [],
   "source": []
  }
 ],
 "metadata": {
  "colab": {
   "name": "Ejercicios.ipynb",
   "provenance": [],
   "version": "0.3.2"
  },
  "kernelspec": {
   "display_name": "Python 3",
   "language": "python",
   "name": "python3"
  },
  "language_info": {
   "codemirror_mode": {
    "name": "ipython",
    "version": 3
   },
   "file_extension": ".py",
   "mimetype": "text/x-python",
   "name": "python",
   "nbconvert_exporter": "python",
   "pygments_lexer": "ipython3",
   "version": "3.6.6"
  }
 },
 "nbformat": 4,
 "nbformat_minor": 1
}
