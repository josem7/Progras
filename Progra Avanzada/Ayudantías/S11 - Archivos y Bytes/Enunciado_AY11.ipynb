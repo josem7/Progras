{
 "cells": [
  {
   "cell_type": "markdown",
   "metadata": {
    "colab_type": "text",
    "id": "qUfx4dKjtBTu"
   },
   "source": [
    "# Ayudantía 11:  I/O - Manejo de bytes\n",
    "### Autores: Santiago Laguna (`@santilaguna`) y Benjamín Martínez (`@bimartinez`)\n"
   ]
  },
  {
   "cell_type": "markdown",
   "metadata": {
    "colab_type": "text",
    "id": "NKHAvaMevNt5"
   },
   "source": [
    "### Introducción"
   ]
  },
  {
   "cell_type": "markdown",
   "metadata": {
    "colab_type": "text",
    "id": "nfDnIQEvvPRg"
   },
   "source": [
    "En esta ayudantía veremos lo que es un *path*, las diferencias entre uno relativo y uno absoluto, además de como acceder a archivos en carpetas. También repasaremos *strings* y algunas características que poseen. Finalmente revisaremos *bytes* e *I/O*, tópicos en los que veremos los conceptos de *bits*, *bytes* y *bytearray*, además de como aplicarlos para resolver un problema."
   ]
  },
  {
   "cell_type": "markdown",
   "metadata": {
    "colab_type": "text",
    "id": "_YnOn9tmubhn"
   },
   "source": [
    "## Actividad 11, 2018-1\n",
    "\n"
   ]
  },
  {
   "cell_type": "markdown",
   "metadata": {
    "colab_type": "text",
    "id": "oWwrD-oIzNYv"
   },
   "source": [
    "### Parte 1: Encontrar Archivos"
   ]
  },
  {
   "cell_type": "markdown",
   "metadata": {
    "colab_type": "text",
    "id": "Ow5TO1CUvoSg"
   },
   "source": [
    "Para poder resolver el primer problema, tenemos N carpetas que se encuentran dentro de otras M carpetas. En alguna de estas M X N carpetas se esconderán aleatoriamente dos archivos corruptos: marciano64.png y marcianozurdo.pep. Tu primera misión es encontrar automáticamente el path a cada uno de esos archivos corruptos, para poder leer esos archivos posteriormente"
   ]
  },
  {
   "cell_type": "code",
   "execution_count": 2,
   "metadata": {
    "colab": {},
    "colab_type": "code",
    "id": "XhbNsI_mvBQd"
   },
   "outputs": [],
   "source": [
    "def encontrar_path(nombre_archivo):\n",
    "    pass"
   ]
  },
  {
   "cell_type": "markdown",
   "metadata": {
    "colab_type": "text",
    "id": "Oq5BsDxrzVsC"
   },
   "source": [
    "### Parte 2: Algoritmo base 64 y rotar chunks\n",
    "Luego de haber encontrado los archivos corruptos, deberás crear dos algoritmos para decodificar los archivos entregados. Los algoritmos son los siguientes:"
   ]
  },
  {
   "cell_type": "markdown",
   "metadata": {
    "colab_type": "text",
    "id": "U9R1957Zzvop"
   },
   "source": [
    "### Rotar hacia la izquierda\n",
    "\n",
    "* A diferencia del algoritmo base64, que se aplica directo a todos los bytes del archivo, este algoritmo se aplica a una sub-secuencia de bytes, que denominaremos chunk. El tamaño de cada chunk se definirá a la hora de juntar los archivos.\n",
    "* El algoritmo consiste en que a cada chunk se le rota un byte a la izquierda, es decir, todos avanzan una posición y el primero pasa a la última posición.\n",
    "\n",
    "![rotar](images/rotar_chunks.png)"
   ]
  },
  {
   "cell_type": "code",
   "execution_count": 0,
   "metadata": {
    "colab": {},
    "colab_type": "code",
    "id": "Dow2vntT38Gn"
   },
   "outputs": [],
   "source": [
    "def rotar(chunk):\n",
    "    pass"
   ]
  },
  {
   "cell_type": "markdown",
   "metadata": {
    "colab_type": "text",
    "id": "SpaMcrBizaZi"
   },
   "source": [
    "### Algoritmo base64\n",
    "\n",
    "* Leer los bytes del archivo encriptado con base64.\n",
    "* Transformar cada byte a su carácter ASCII correspondiente.\n",
    "* Cada carácter obtenido se cambia por su valor base64 decimal. Por ejemplo, “E” → 4 tal y como se indica en la tabla.\n",
    "\n",
    "Markdown | Less \n",
    "--- | ---\n",
    "A-Z | 0-25 \n",
    "a-z | 26-51\n",
    "0-9 | 52-61\n",
    "+ | 62\n",
    "/ | 63\n",
    "\n",
    "* Los valores decimales obtenidos se convierten a su equivalente en binario de 6 bits. Si el número queda menor a 6 bits, se deben agregar ceros a la izquierda hasta completar 6.\n",
    "* Los conjuntos de 6 bits se concatenan, formando una gran cadena de bits.\n",
    "* La gran cadena de bits obtenidos en el paso anterior se divide en grupos de 8 bits.\n",
    "* Finalmente los números binarios de 8 bits se convierten en sus equivalentes enteros.\n",
    "\n",
    "\n"
   ]
  },
  {
   "cell_type": "code",
   "execution_count": 1,
   "metadata": {
    "colab": {},
    "colab_type": "code",
    "id": "aH-oLne738m3"
   },
   "outputs": [],
   "source": [
    "# Aqui debemos preparar todos los parámetros que ocuparemos para realizar el algoritmo"
   ]
  },
  {
   "cell_type": "code",
   "execution_count": 0,
   "metadata": {
    "colab": {},
    "colab_type": "code",
    "id": "OIEbDgAa_Xyx"
   },
   "outputs": [],
   "source": [
    "def algoritmo_base_64(nombre_archivo):\n",
    "    pass"
   ]
  },
  {
   "cell_type": "markdown",
   "metadata": {
    "colab_type": "text",
    "id": "OF21nbpi6rQ5"
   },
   "source": [
    "### Parte 3: Juntar los archivos "
   ]
  },
  {
   "cell_type": "markdown",
   "metadata": {
    "colab_type": "text",
    "id": "9Ct4c2iJ6wOF"
   },
   "source": [
    "El archivo resultante debe llamarse resultado.png y debe visualizarse correctamente como imagen.\n",
    "\n",
    "Para crear este archivo, debes juntar chunks de ambos archivos en un bytearray. Estos se agregarán al bytearray de manera intercalada partiendo por el archivo marcianozurdo.pep, de la siguiente manera\n",
    "\n",
    "chunk 1: Aplicar algoritmo 2 al primer chunk del archivo marcianozurdo.pep, y agregar el resultado al bytearray.\n",
    "\n",
    "chunk 2: Agregar el primer chunk del archivo marciano64.png decodificado, y agregar el resultado al bytearray.\n",
    "\n",
    "chunk 3: Aplicar algoritmo 2 al segundo chunk del archivo marcianozurdo.pep, y agregar el resultado al bytea-rray.\n",
    "\n",
    "chunk n: ... Intercaladamente hasta que no queden bytes por leer\n",
    "\n",
    "El tamaño de cada chunk del archivo resultado.png viene determinado por la sucesión de Fibonacci partiendo del 1. Por lo tanto, el chunk 1 será de 1 byte, luego el chunk 2 será de 1 byte, el chunk 3 será de 2 bytes, así sucesivamente según la sucesión de Fibonacci."
   ]
  },
  {
   "cell_type": "markdown",
   "metadata": {
    "colab_type": "text",
    "id": "MjPQscDAK3N3"
   },
   "source": [
    "![juntar](images/juntar_bytes.png)"
   ]
  },
  {
   "cell_type": "code",
   "execution_count": 1,
   "metadata": {
    "colab": {},
    "colab_type": "code",
    "id": "TSacolaY8Dcb"
   },
   "outputs": [],
   "source": [
    "def generador_size():\n",
    "    pass"
   ]
  },
  {
   "cell_type": "code",
   "execution_count": 0,
   "metadata": {
    "colab": {},
    "colab_type": "code",
    "id": "CZr9lC8E6p2i"
   },
   "outputs": [],
   "source": [
    "def juntar(archivo_64, archivo_a_rotar):\n",
    "    pass"
   ]
  },
  {
   "cell_type": "code",
   "execution_count": null,
   "metadata": {},
   "outputs": [],
   "source": [
    "def escribir(text, archivo_resultado=\"resultado.png\"):\n",
    "    pass"
   ]
  }
 ],
 "metadata": {
  "colab": {
   "collapsed_sections": [],
   "name": "Enunciado_AY11.ipynb",
   "provenance": [],
   "version": "0.3.2"
  },
  "kernelspec": {
   "display_name": "Python 3",
   "language": "python",
   "name": "python3"
  },
  "language_info": {
   "codemirror_mode": {
    "name": "ipython",
    "version": 3
   },
   "file_extension": ".py",
   "mimetype": "text/x-python",
   "name": "python",
   "nbconvert_exporter": "python",
   "pygments_lexer": "ipython3",
   "version": "3.6.6"
  }
 },
 "nbformat": 4,
 "nbformat_minor": 1
}
