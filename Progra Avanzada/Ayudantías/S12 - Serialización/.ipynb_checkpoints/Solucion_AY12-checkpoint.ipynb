{
 "cells": [
  {
   "cell_type": "markdown",
   "metadata": {
    "colab_type": "text",
    "id": "_qcWsg5mO3uV"
   },
   "source": [
    "# Ayudantia 12: Serializacion\n",
    "## Autores: [@jjaguillon](https://github.com/jjaguillon) & [@fgbruna](https://github.com/fgbruna)"
   ]
  },
  {
   "cell_type": "markdown",
   "metadata": {
    "colab_type": "text",
    "id": "QLc0zClszTKf"
   },
   "source": [
    "***¿Que significa serializar?***\n",
    "\n",
    "*Consiste en un proceso de codificación de un objeto en un medio de almacenamiento* "
   ]
  },
  {
   "cell_type": "markdown",
   "metadata": {
    "colab_type": "text",
    "id": "Tl-c16Tp_KQ4"
   },
   "source": [
    "# Pickle vs JSON\n",
    "\n",
    "![Resmuen](imgs/resumen.png)"
   ]
  },
  {
   "cell_type": "markdown",
   "metadata": {
    "colab_type": "text",
    "id": "5jF5Q_BEEonB"
   },
   "source": [
    "## Actividad 12 2018-1 (Con algunas modificaciones)\n",
    "\n",
    "Pueden encontrar el enunciado completo [aquí](https://github.com/IIC2233/Syllabus-2018-1/blob/master/Actividades/AC12/AC12.pdf)."
   ]
  },
  {
   "cell_type": "markdown",
   "metadata": {
    "colab_type": "text",
    "id": "XtrhOlaLGgvs"
   },
   "source": [
    "## Introducción\n",
    "\n",
    "¡Oh no! el Malvado Dr. Mavrakis ha conseguido aprender los 6 Lenguajes del Infinito y está decidido\n",
    "en lograr el balance en el IIC2233 Syllabus Universe. Para esto, el malvado rufián tiene pensado serializar a la\n",
    "mitad de los usuarios del curso Programación Avanzada, con el objetivo de debilitar el universo de los versados\n",
    "estudiantes que lo componen y así después poder serializar a la mitad de la toda la comunidad de Github.\n",
    "\n",
    "![6 lenguajes del infinito](imgs/lenguajes.png)\n",
    "\n",
    "Después de correr 14.000.605 simulaciones, te das cuenta que el único escenario posible en el que salvas\n",
    "tu semestre es ayudando al Dr. Mavrakis. Por esta razón, para esta actividad deberás hacer todo lo posible\n",
    "para que este vil villano lleve a cabo su plan."
   ]
  },
  {
   "cell_type": "markdown",
   "metadata": {
    "colab_type": "text",
    "id": "QYq6421rV4d_"
   },
   "source": [
    "## Instrucciones\n",
    "\n",
    "Debes completar las siguientes funciones:"
   ]
  },
  {
   "cell_type": "code",
   "execution_count": 0,
   "metadata": {
    "colab": {},
    "colab_type": "code",
    "id": "Ixyq-2eIlE9z"
   },
   "outputs": [],
   "source": [
    "import os\n",
    "import json\n",
    "import pickle\n",
    "from random import sample"
   ]
  },
  {
   "cell_type": "markdown",
   "metadata": {
    "colab_type": "text",
    "id": "1WHAmDltHKNs"
   },
   "source": [
    "### Parte 1\n",
    "\n",
    "\n",
    "**agregar_estilo**: Lamentablemente el Dr. Mavrakis no tiene conocimientos de CSS, por lo que te\n",
    "pide que le des estilo a su interfaz. Encontrarás la variable ESTILO que contiene los\n",
    "estilos de los widgets de la interfaz. Éstos están en el formato: ((widget1, estilo1), (widget2,\n",
    "estilo2), ...). Tu función debe retornar un objeto json con el formato: {widget1: estilo1,\n",
    "widget2: estilo2 ...}\n"
   ]
  },
  {
   "cell_type": "code",
   "execution_count": 0,
   "metadata": {
    "colab": {},
    "colab_type": "code",
    "id": "ssiuUaSOWDg1"
   },
   "outputs": [],
   "source": [
    "ESTILO = ((\"label_principal\", \"background-image: url(gui/logo.png);\"),\n",
    "          (\"boton_serializar\", \"background-image: url(gui/guantlet.png);\"),\n",
    "          (\"boton_deserializar\", \"background-image: url(gui/dragon_balls.png);\"),\n",
    "          (\"label_personas\",\"background-color: rgba(30, 232, 204, 153);\"),\n",
    "          (\"centralwidget\", \"#centralwidget{background-color: \"\n",
    "                            \"qlineargradient(spread:repeat, x1:0,\"\n",
    "                            \" y1:0,x2:1,y2:0,stop:0.197044 \"\n",
    "                            \"rgba(179, 179, 179, 255), \"\n",
    "                            \"stop:0.64532 rgba(204, 204, 204, 255), \"\n",
    "                            \"stop:1 rgba(255, 255, 255, 255));}\"),\n",
    "          (\"label_barra\", \"background-color: rgb(76, 76, 76);\"),\n",
    "          (\"scrollArea\", \"#area{border: 3px solid black;} \"\n",
    "                         \"QLabel{border: 1px solid grey; font-weight: bold}\"))\n",
    "\n",
    "def agregar_estilo():\n",
    "    return json.dumps(dict(ESTILO))"
   ]
  },
  {
   "cell_type": "markdown",
   "metadata": {
    "colab_type": "text",
    "id": "e1oo-d-CWcFp"
   },
   "source": [
    "### Parte 2\n",
    "\n",
    "**cargar_personas**: El archivo ***personas.json*** contiene la información de todos los alumnos del curso.\n",
    "Cada alumno contiene atributos que no le interesan al Dr. Mavrakis, por esta razón te entrega el\n",
    "archivo ***caracteristicas.json*** con los atributos que sí necesita. Tu función deberá cargar el archivo\n",
    "personas.json utilizando un **object_hook**, el cual debe recibir una función auxiliar que se encargue\n",
    "de cargar el archivo caracteristicas.json, filtrar los atributos necesarios y retornar un objeto\n",
    "Persona. Finalmente, tu función deberá retornar una lista de Personas.\n",
    "\n",
    "**Importante**: *Asuma que la clase Persona está definida previamente.*"
   ]
  },
  {
   "cell_type": "code",
   "execution_count": 0,
   "metadata": {
    "colab": {},
    "colab_type": "code",
    "id": "E6WtpUYzX1Sm"
   },
   "outputs": [],
   "source": [
    "pass"
   ]
  },
  {
   "cell_type": "markdown",
   "metadata": {
    "colab_type": "text",
    "id": "VGlTih7XjNru"
   },
   "source": [
    "### Parte 3\n",
    "\n",
    "**generar_personas(personas)**: Tu función deberá crear la carpeta Personas que contenga a las\n",
    "personas serializadas en formato JSON según el siguiente formato:\n",
    "\n",
    "{\"Nombre\": nombre del alumno,\n",
    "\"Apellido\": primer apellido del alumno,\n",
    "\"Numero de Alumno\": numero de alumno}\n",
    "\n",
    "Para ello se deberá personalizar la serialización de cada persona mediante un **JSONEncoder**. El nombre\n",
    "de los archivos debe seguir el siguiente formato: <codigo_genetico>.json, donde codigo_genetico\n",
    "corresponde al código genético de cada persona.\n",
    "\n",
    "**Importante**: *Al igual que la parte anterior, asuma que la clase Persona está definida previamente.*\n"
   ]
  },
  {
   "cell_type": "code",
   "execution_count": null,
   "metadata": {
    "colab": {},
    "colab_type": "code",
    "id": "ZKcr3rRcjm40"
   },
   "outputs": [],
   "source": [
    "class PersonaEncoder(json.JSONEncoder):\n",
    "\n",
    "    def default(self, p):\n",
    "        if isinstance(p, Persona):\n",
    "            return {\"Nombre\": p.nombre,\n",
    "                    \"Apellido\": p.apellido_paterno,\n",
    "                    \"Numero de Alumno\": p.numero_alumno}\n",
    "        return super().default(p)\n",
    "\n",
    "\n",
    "def generar_personas(personas):\n",
    "    if not os.path.exists(\"Personas\"):\n",
    "        os.mkdir(\"Personas\")\n",
    "\n",
    "    for p in personas:\n",
    "        path =\"Personas/{}.json\".format(p.codigo_genetico)\n",
    "        with open(path, \"w\") as file:\n",
    "            json.dump(p, file, cls= PersonaEncoder, indent=4)"
   ]
  },
  {
   "cell_type": "markdown",
   "metadata": {
    "colab_type": "text",
    "id": "DfYp6j_lj98w"
   },
   "source": [
    "### Parte 4\n",
    "\n",
    "**serializar_personas(personas)**: Tu función debe seleccionar a la mitad de las personas al azar y\n",
    "serializarlas utilizando pickle. Para ello se deberán guardar los archivos generados en una carpeta\n",
    "llamada Serializados según el formato: <numero_alumno>.rip, donde numero_alumno corresponde\n",
    "al número de alumno de cada persona.\n",
    "\n",
    "Como la serialización mediante pickle transforma a las **Personas** en bytes, éstas alcanzan a decir algo antes\n",
    "de ser serializados. Es por esto que debes modificar el **\\__getstate__** de la clase Persona para que cuando\n",
    "alguien sea serializado se le agregue el atributo ultimas_palabras y este sea igual a alguna frase emotiva\n",
    "(e.g: \"Señor Nebil no me quiero ir...\"). Deberás también modificar el **\\__setstate__** en caso de que la persona\n",
    "sea resucitada (deserializada), donde se borre este atributo.\n"
   ]
  },
  {
   "cell_type": "code",
   "execution_count": 0,
   "metadata": {
    "colab": {},
    "colab_type": "code",
    "id": "3WM70PZqkdic"
   },
   "outputs": [],
   "source": [
    "class Persona():\n",
    "    def __init__(self, nombre, apellido_paterno, apellido_materno, numero_alumno,\n",
    "                 codigo_genetico, hermosura, inteligencia, velocidad):\n",
    "        self.nombre = nombre\n",
    "        self.apellido_paterno = apellido_paterno\n",
    "        self.apellido_materno = apellido_materno\n",
    "        self.numero_alumno = numero_alumno\n",
    "        self.codigo_genetico = codigo_genetico\n",
    "        self.hermosura = hermosura\n",
    "        self.inteligencia = inteligencia\n",
    "        self.velocidad = velocidad\n",
    "        self.serializado = False\n",
    "    \n",
    "    def __getstate__(self):\n",
    "        nuevo_dict = self.__dict__.copy()\n",
    "        nuevo_dict.update({\"serializado\": True})\n",
    "        nuevo_dict.update({\"ultimas_palabras\" : \"No me quiero ir señor Nebil...\"})\n",
    "        return nuevo_dict\n",
    "\n",
    "    def __setstate__(self, state):\n",
    "        state.update({\"serializado\": False})\n",
    "        del state[\"ultimas_palabras\"]\n",
    "        self.__dict__ = state\n",
    "        \n",
    "def serializar_personas(personas):\n",
    "    elegidas = sample(list(personas), int(len(personas)/2))\n",
    "    if not os.path.exists(\"Serializados\"):\n",
    "        os.mkdir(\"Serializados\")\n",
    "    for p in elegidas:\n",
    "        path = \"Serializados/{}.rip\".format(p.numero_alumno)\n",
    "        with open(path, \"wb\") as file:\n",
    "            pickle.dump(p, file)\n",
    "\n"
   ]
  }
 ],
 "metadata": {
  "colab": {
   "name": "AY12.ipynb",
   "private_outputs": true,
   "provenance": [],
   "version": "0.3.2"
  },
  "kernelspec": {
   "display_name": "Python 3",
   "language": "python",
   "name": "python3"
  },
  "language_info": {
   "codemirror_mode": {
    "name": "ipython",
    "version": 3
   },
   "file_extension": ".py",
   "mimetype": "text/x-python",
   "name": "python",
   "nbconvert_exporter": "python",
   "pygments_lexer": "ipython3",
   "version": "3.6.4"
  }
 },
 "nbformat": 4,
 "nbformat_minor": 1
}
