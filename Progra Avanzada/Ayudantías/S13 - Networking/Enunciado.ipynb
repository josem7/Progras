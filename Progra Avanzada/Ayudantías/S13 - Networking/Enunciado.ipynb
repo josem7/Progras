{
 "cells": [
  {
   "cell_type": "markdown",
   "metadata": {},
   "source": [
    "# Ayudantía 13 - Networking\n",
    "\n",
    "**autores**: Jacques Hasard & Paul Heinsohn\n",
    "\n",
    "## Actividad\n",
    "\n",
    "### DCChat\n",
    "\n",
    "Para esta actividad crearemos un grupo de chat para 5 personas en el cual tendremos que hacer un servidor, cliente e interfaz gráfica\n",
    "\n",
    "###  Servidor\n",
    "\n",
    "Tendremos que implementar un servidor tal que logre captar todas las nuevas conexiones hasta llegar a 5 participantes, para luego recibir y distribuir los mensajes que envíen estos.\n",
    "\n",
    "### Cliente\n",
    "\n",
    "Este tendrá que ser capaz de conectarse al servidor para luego enviar mensajes a los otros clientes, también tendrá que saber cómo manejar los mensajes entrantes desde el servidor para leerlos.\n",
    "\n",
    "### GUI\n",
    "\n",
    "Implementaremos una interfaz gráfica porque ¿quién chatearía desde una consola? \n",
    "\n",
    "Esta debe contener:\n",
    "- Un menú de inicio donde se pueda registrar el nombre de usuario\n",
    "- El chat, donde podrás enviar y recibir mensajes"
   ]
  },
  {
   "cell_type": "markdown",
   "metadata": {},
   "source": [
    "![alt text][captura]\n",
    "\n",
    "[captura]: Captura1.png \"Captura Juego1\""
   ]
  },
  {
   "cell_type": "markdown",
   "metadata": {},
   "source": [
    "![alt text][captura]\n",
    "\n",
    "[captura]: Captura2.png \"Captura Juego\""
   ]
  }
 ],
 "metadata": {
  "kernelspec": {
   "display_name": "Python 3",
   "language": "python",
   "name": "python3"
  },
  "language_info": {
   "codemirror_mode": {
    "name": "ipython",
    "version": 3
   },
   "file_extension": ".py",
   "mimetype": "text/x-python",
   "name": "python",
   "nbconvert_exporter": "python",
   "pygments_lexer": "ipython3",
   "version": "3.6.4"
  }
 },
 "nbformat": 4,
 "nbformat_minor": 2
}
