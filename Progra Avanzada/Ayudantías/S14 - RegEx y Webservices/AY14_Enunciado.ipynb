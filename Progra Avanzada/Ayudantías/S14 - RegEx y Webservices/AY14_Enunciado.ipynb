{
 "cells": [
  {
   "cell_type": "markdown",
   "metadata": {
    "colab_type": "text",
    "id": "uAyTc4S8HxST"
   },
   "source": [
    "# Ayudantía 14:  RegEx - Webservices\n",
    "### Autores: Fernando Duarte (`@fdduarte`) y Benjamín Martínez (`@bimartinez`)"
   ]
  },
  {
   "cell_type": "markdown",
   "metadata": {
    "colab_type": "text",
    "id": "vSozQKjjPBHO"
   },
   "source": [
    "## Introducción\n",
    "\n",
    "En esta ayudantía veremos cómo encontrar patrones de caracteres en *strings* mediante *Regular Expressions* (*RegEx*). También repasaremos conceptos de *Webservices*, específicamente la comunicación con una API a través de métodos HTTP.\n",
    "\n",
    "\n",
    "## AC14 2018-1 | Parte 1: RegEx\n",
    "\n",
    "### Limpieza de *strings*\n",
    "\n",
    "Deberás primero arreglar el archivo memes.txt. El formato que se debe obtener es `'id imagen, texto superior, texto inferior'`, el problema es que las comas desaparecieron y fueron reemplazadas por expresiones que cumplen las siguientes reglas:\n",
    "\n",
    " - Las expresiones se encuentran entre dos símbolos $.\n",
    " - Estas expresiones pueden contener cualquier número y símbolo de operaciones básicas (+, -, *, /, =).\n",
    " - La cantidad y orden de los caracteres dentro de la expresión no están definidos (por eso son extrañas).\n",
    " \n",
    "Ejemplo: `\"$5*+637378**6$\"`\n",
    " \n",
    "Debes hacerlo creando la función `arreglar_memes` que debe escribir el resultado en un archivo llamado `arreglados.txt`"
   ]
  },
  {
   "cell_type": "code",
   "execution_count": 0,
   "metadata": {
    "colab": {},
    "colab_type": "code",
    "id": "qT0g6x-JHipR"
   },
   "outputs": [],
   "source": [
    "import random\n",
    "import re\n",
    "import requests"
   ]
  },
  {
   "cell_type": "code",
   "execution_count": 0,
   "metadata": {
    "colab": {},
    "colab_type": "code",
    "id": "kaEq1KhTMzIS"
   },
   "outputs": [],
   "source": [
    "def arreglar_memes(path, path_final):\n",
    "    \"\"\"\"\n",
    "    Abre el archivo path y corrige cada una de las solicitudes del enunciado\n",
    "    guardándolas en path_final\n",
    "    :param path: str\n",
    "    :param pathfinal: str\n",
    "    :return:\n",
    "    \"\"\"\n",
    "    pass"
   ]
  },
  {
   "cell_type": "markdown",
   "metadata": {
    "colab_type": "text",
    "id": "KCbMlLG0RUQS"
   },
   "source": [
    "### Validación Correo \n",
    "\n",
    "Deberás crear la función `validar_correo` que reciba un correo y retorne `True` si es válido o no. Primero debe chequear a través de RegEx y luego a través de un *request* HTTP a la dirección del correo (recuerda agregar el prefijo correspondiente al protocolo), la cual debe retornar un código de estado válido (menor a 400, puedes revisar qué significa cada uno en los contenidos), retornando `True` solo si estas dos condiciones se cumplen."
   ]
  },
  {
   "cell_type": "code",
   "execution_count": 0,
   "metadata": {
    "colab": {},
    "colab_type": "code",
    "id": "XoylEb5rRlYx"
   },
   "outputs": [],
   "source": [
    "def validar_correo(correo):\n",
    "    \"\"\"\n",
    "    Retorna True si el formato del correo es valido y si el servidor existe,\n",
    "    en otro caso retorna False\n",
    "    :param correo: str\n",
    "    :return: bool\n",
    "    \"\"\"\n",
    "    pass\n"
   ]
  },
  {
   "cell_type": "markdown",
   "metadata": {
    "colab_type": "text",
    "id": "8xdHZt12TW0-"
   },
   "source": [
    "## Parte 2: Webservices\n",
    "\n",
    "### Obtener mejores meme\n",
    "\n",
    "Crear la función `obtener_mejores` capaz de obtener los memes más populares y elegir aleatoriamente 10 de estos memes para ser mostrados. Esta *request* se realiza a https://api.imgflip.com/get_memes a través del método GET, no se le deben entregar argumentos.\n"
   ]
  },
  {
   "cell_type": "code",
   "execution_count": 0,
   "metadata": {
    "colab": {},
    "colab_type": "code",
    "id": "GGnxFKHlBgKH"
   },
   "outputs": [],
   "source": [
    "def obtener_mejores():\n",
    "    \"\"\"\n",
    "    Retorna una muestra aleatoria de 10 memes provenientes de los 100 mejores\n",
    "    :return: [dict]\n",
    "    \"\"\"\n",
    "    pass"
   ]
  },
  {
   "cell_type": "markdown",
   "metadata": {
    "colab_type": "text",
    "id": "xm88SXT5Jdf9"
   },
   "source": [
    "### Crear meme\n",
    "\n",
    "Crear la función `generar_meme` que dados el id de un meme, texto superior e inferior cree y retorne el meme creado. Esta *request* se realiza a https://api.imgflip.com/caption_image a través del método POST, se le envían los siguientes argumentos:\n",
    "\n",
    "![table](imgs/table.png)"
   ]
  },
  {
   "cell_type": "code",
   "execution_count": 0,
   "metadata": {
    "colab": {},
    "colab_type": "code",
    "id": "nIkQL3CnNvP8"
   },
   "outputs": [],
   "source": [
    "\n",
    "def generar_meme(template_id, username, password, text0='', text1=''):\n",
    "    \"\"\"\n",
    "    Genera un meme correspondiente al template_id con texto superior text0\n",
    "    y texto inferior text1. Retorna la url al meme\n",
    "    :param template_id: int\n",
    "    :param username: str\n",
    "    :param password: str\n",
    "    :param text0: str\n",
    "    :param text1: str\n",
    "    :return: str\n",
    "    \"\"\"\n",
    "    pass"
   ]
  }
 ],
 "metadata": {
  "colab": {
   "name": "AY14_Solucion.ipynb",
   "provenance": [],
   "version": "0.3.2"
  },
  "kernelspec": {
   "display_name": "Python 3",
   "language": "python",
   "name": "python3"
  },
  "language_info": {
   "codemirror_mode": {
    "name": "ipython",
    "version": 3
   },
   "file_extension": ".py",
   "mimetype": "text/x-python",
   "name": "python",
   "nbconvert_exporter": "python",
   "pygments_lexer": "ipython3",
   "version": "3.6.5"
  }
 },
 "nbformat": 4,
 "nbformat_minor": 1
}
