{
 "cells": [
  {
   "cell_type": "markdown",
   "metadata": {
    "colab_type": "text",
    "id": "uAyTc4S8HxST"
   },
   "source": [
    "# Ayudantía 14:  RegEx - Webservices\n",
    "### Autores: Fernando Duarte (`@fdduarte`) y Benjamín Martínez (`@bimartinez`)"
   ]
  },
  {
   "cell_type": "markdown",
   "metadata": {
    "colab_type": "text",
    "id": "vSozQKjjPBHO"
   },
   "source": [
    "## Parte 1: RegEx\n",
    "\n",
    "### Limpieza de *strings*\n",
    "\n",
    "Deberás primero arreglar el archivo memes.txt. El formato que se debe obtener es `‘id imagen, texto superior, texto inferior’`, el problema es que las comas desaparecieron y fueron reemplazadas por expresiones que cumplen las siguientes reglas:\n",
    "\n",
    " - Las expresiones se encuentran entre dos símbolos $.\n",
    " - Las expresiones puede contener cualquier número y símbolo de operaciones básicas (+, -, *, /, =).\n",
    " - La cantidad y orden de los caracteres dentro de la expresión no están definidos (por eso son extrañas)\n",
    " \n",
    "Debes hacerlo creando la función `arreglar_memes` que debe escribir el resultado en un archivo llamado `arreglados.txt`"
   ]
  },
  {
   "cell_type": "code",
   "execution_count": 4,
   "metadata": {
    "colab": {},
    "colab_type": "code",
    "id": "qT0g6x-JHipR"
   },
   "outputs": [],
   "source": [
    "import random\n",
    "import re\n",
    "import requests"
   ]
  },
  {
   "cell_type": "code",
   "execution_count": 5,
   "metadata": {
    "colab": {},
    "colab_type": "code",
    "id": "kaEq1KhTMzIS"
   },
   "outputs": [],
   "source": [
    "def arreglar_memes(path, path_final):\n",
    "    \"\"\"\"\n",
    "    Abre el archivo path y corrige cada una de las solicitudes del enunciado\n",
    "    guardándolas en path_final\n",
    "    :param path: str\n",
    "    :param pathfinal: str\n",
    "    :return:\n",
    "    \"\"\"\n",
    "    new_lines = []\n",
    "    with open(path, 'r') as bad_memes:\n",
    "        for line in bad_memes:\n",
    "            # Sustituimos todas las expresiónes en la línea por una coma\n",
    "            fixed = re.sub('\\$[0-9,\\*,\\+,\\-,\\/,=]+\\$', ',', line)\n",
    "            new_lines.append(fixed)\n",
    "    with open(path_final, 'w') as ok_memes:\n",
    "        ok_memes.writelines(new_lines)"
   ]
  },
  {
   "cell_type": "markdown",
   "metadata": {
    "colab_type": "text",
    "id": "KCbMlLG0RUQS"
   },
   "source": [
    "### Validación Correo \n",
    "\n",
    "Deberás crear la función `validar_correo` que reciba un correo y retorne `True` si es válido o no. Primero debe chequear a través de RegEx y luego a través de un *request* HTTP a la dirección del correo (recuerda agregar el prefijo correspondiente al protocolo), la cual debe retornar un código de estado válido (menor a 400, puedes revisar qué significa cada uno en los contenidos), retornando `True` solo si estas dos condiciones se cumplen."
   ]
  },
  {
   "cell_type": "code",
   "execution_count": 6,
   "metadata": {
    "colab": {},
    "colab_type": "code",
    "id": "XoylEb5rRlYx"
   },
   "outputs": [],
   "source": [
    "def validar_correo(correo):\n",
    "    \"\"\"\n",
    "    Retorna True si el formato del correo es valido y si el servidor existe,\n",
    "    en otro caso retorna False\n",
    "    :param correo: str\n",
    "    :return: bool\n",
    "    \"\"\"\n",
    "    \n",
    "    #Esta es la expresión para chequear que un correo es válido\n",
    "    pattern = \"(^[a-zA-Z0-9_.+-]+@[a-zA-Z0-9-]+\\.[a-zA-Z0-9-.]+$)\"\n",
    "    \n",
    "    # Chequeamos si se cumple el patrón\n",
    "    if bool(re.match(pattern, correo)):\n",
    "        try:\n",
    "            # Aquí obtenemos el dominio del correo (el texto después de @)\n",
    "            url = 'http://' + re.split('\\@', correo)[1]\n",
    "            \n",
    "            # Realizamos la request\n",
    "            response = requests.get(url)\n",
    "            response = response.status_code\n",
    "            if int(response) < 400:\n",
    "                return True\n",
    "        except requests.exceptions.ConnectionError:\n",
    "            return False\n"
   ]
  },
  {
   "cell_type": "markdown",
   "metadata": {
    "colab_type": "text",
    "id": "8xdHZt12TW0-"
   },
   "source": [
    "## Parte 2: Webservices\n",
    "\n",
    "### Obtener mejores meme\n",
    "\n",
    "Crear la función `obtener_mejores` capaz de obtener los memes más populares y elegir aleatoriamente 10 de estos memes para ser mostrados.\n"
   ]
  },
  {
   "cell_type": "code",
   "execution_count": 9,
   "metadata": {
    "colab": {},
    "colab_type": "code",
    "id": "GGnxFKHlBgKH"
   },
   "outputs": [
    {
     "data": {
      "text/plain": [
       "[{'id': '61584',\n",
       "  'name': 'Socially Awesome Awkward Penguin',\n",
       "  'url': 'https://i.imgflip.com/1bio.jpg',\n",
       "  'width': 576,\n",
       "  'height': 577},\n",
       " {'id': '27813981',\n",
       "  'name': 'Hide the Pain Harold',\n",
       "  'url': 'https://i.imgflip.com/gk5el.jpg',\n",
       "  'width': 480,\n",
       "  'height': 601},\n",
       " {'id': '14371066',\n",
       "  'name': 'Star Wars Yoda',\n",
       "  'url': 'https://i.imgflip.com/8k0sa.jpg',\n",
       "  'width': 620,\n",
       "  'height': 714},\n",
       " {'id': '228024',\n",
       "  'name': 'Liam Neeson Taken',\n",
       "  'url': 'https://i.imgflip.com/4vy0.jpg',\n",
       "  'width': 300,\n",
       "  'height': 300},\n",
       " {'id': '109765',\n",
       "  'name': 'Ill Just Wait Here',\n",
       "  'url': 'https://i.imgflip.com/2cp1.jpg',\n",
       "  'width': 491,\n",
       "  'height': 550},\n",
       " {'id': '563423',\n",
       "  'name': 'That Would Be Great',\n",
       "  'url': 'https://i.imgflip.com/c2qn.jpg',\n",
       "  'width': 526,\n",
       "  'height': 440},\n",
       " {'id': '61579',\n",
       "  'name': 'One Does Not Simply',\n",
       "  'url': 'https://i.imgflip.com/1bij.jpg',\n",
       "  'width': 568,\n",
       "  'height': 335},\n",
       " {'id': '5496396',\n",
       "  'name': 'Leonardo Dicaprio Cheers',\n",
       "  'url': 'https://i.imgflip.com/39t1o.jpg',\n",
       "  'width': 600,\n",
       "  'height': 400},\n",
       " {'id': '99683372',\n",
       "  'name': 'Sleeping Shaq',\n",
       "  'url': 'https://i.imgflip.com/1nck6k.jpg',\n",
       "  'width': 640,\n",
       "  'height': 631},\n",
       " {'id': '235589',\n",
       "  'name': 'Evil Toddler',\n",
       "  'url': 'https://i.imgflip.com/51s5.jpg',\n",
       "  'width': 500,\n",
       "  'height': 332}]"
      ]
     },
     "execution_count": 9,
     "metadata": {},
     "output_type": "execute_result"
    }
   ],
   "source": [
    "def obtener_mejores():\n",
    "    \"\"\"\n",
    "    Retorna una muestra aleatoria de 10 memes provenientes de los 100 mejores\n",
    "    :return: [dict]\n",
    "    \"\"\"\n",
    "    \n",
    "    # Realizamos la request\n",
    "    response = requests.get('https://api.imgflip.com/get_memes')\n",
    "    \n",
    "    # Obtenemos la respuesta de la API\n",
    "    response = response.json()\n",
    "    memes_list = response['data']['memes']\n",
    "    \n",
    "    # Obtenemos 10 memes al azar\n",
    "    top_10 = random.sample(memes_list, 10)\n",
    "    return top_10\n",
    "obtener_mejores()"
   ]
  },
  {
   "cell_type": "markdown",
   "metadata": {
    "colab_type": "text",
    "id": "xm88SXT5Jdf9"
   },
   "source": [
    "### Crear meme\n",
    "\n",
    "Crear la función `generar_meme` que dados el id de un meme, texto superior e inferior cree y retorne el meme creado."
   ]
  },
  {
   "cell_type": "code",
   "execution_count": 8,
   "metadata": {
    "colab": {},
    "colab_type": "code",
    "id": "nIkQL3CnNvP8"
   },
   "outputs": [],
   "source": [
    "\n",
    "def generar_meme(template_id, username, password, text0='', text1=''):\n",
    "    \"\"\"\n",
    "    Genera un meme correspondiente al template_id con texto superior text0\n",
    "    y texto inferior text1. Retorna la url al meme\n",
    "    :param template_id: int\n",
    "    :param username: str\n",
    "    :param password: str\n",
    "    :param text0: str\n",
    "    :param text1: str\n",
    "    :return: str\n",
    "    \"\"\"\n",
    "    \n",
    "    # Armamos los datos que enviaremos a la API\n",
    "    data = {'template_id': template_id, 'username': username,\n",
    "            'password': password, 'text0': text0, 'text1': text1}\n",
    "    \n",
    "    # Realizamos la request\n",
    "    response = requests.post('https://api.imgflip.com/caption_image',\n",
    "                             data=data)\n",
    "    \n",
    "    # Obtenemos la respuesta\n",
    "    response = response.json()\n",
    "    url = response['data']['url']\n",
    "    return url"
   ]
  },
  {
   "cell_type": "code",
   "execution_count": null,
   "metadata": {},
   "outputs": [],
   "source": []
  },
  {
   "cell_type": "code",
   "execution_count": null,
   "metadata": {},
   "outputs": [],
   "source": []
  }
 ],
 "metadata": {
  "colab": {
   "name": "AY14_Solucion.ipynb",
   "provenance": [],
   "version": "0.3.2"
  },
  "kernelspec": {
   "display_name": "Python 3",
   "language": "python",
   "name": "python3"
  },
  "language_info": {
   "codemirror_mode": {
    "name": "ipython",
    "version": 3
   },
   "file_extension": ".py",
   "mimetype": "text/x-python",
   "name": "python",
   "nbconvert_exporter": "python",
   "pygments_lexer": "ipython3",
   "version": "3.6.4"
  }
 },
 "nbformat": 4,
 "nbformat_minor": 1
}
