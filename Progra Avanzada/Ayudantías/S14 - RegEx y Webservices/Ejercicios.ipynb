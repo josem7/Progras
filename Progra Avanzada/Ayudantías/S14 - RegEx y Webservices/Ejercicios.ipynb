{
 "cells": [
  {
   "cell_type": "markdown",
   "metadata": {},
   "source": [
    "# Ejercicios\n",
    "\n",
    "## Regex\n",
    "\n",
    "### Ejercicio 1"
   ]
  },
  {
   "cell_type": "markdown",
   "metadata": {},
   "source": [
    "Escribe los _outputs_ del siguiente código. (Nótese que caracteres especiales se incluye un backslash antes)"
   ]
  },
  {
   "cell_type": "code",
   "execution_count": null,
   "metadata": {},
   "outputs": [],
   "source": [
    "import re\n",
    "\n",
    "instructions = ['MOV A,B', 'MOV A,(dir)', 'ADD A,(dir)']\n",
    "for instruction in instructions:\n",
    "    print(re.match('[A-Z]+ [A-Z],\\([A-Za-z]+\\)', instruction))\n",
    "    \n",
    "login_inputs = ['hola1234', 'hola-1234', 'hola_1234']\n",
    "valid_names = [name for name in login_inputs if re.fullmatch('[A-Za-z0-9_]+', name)]"
   ]
  },
  {
   "cell_type": "markdown",
   "metadata": {},
   "source": [
    "### Ejercicio 2\n",
    "Implementa un verificador de correos UC."
   ]
  },
  {
   "cell_type": "code",
   "execution_count": null,
   "metadata": {},
   "outputs": [],
   "source": [
    "# Escribe tu código aqui"
   ]
  },
  {
   "cell_type": "markdown",
   "metadata": {},
   "source": [
    "### Ejercicio 3\n",
    "\n",
    "En el siguiente código, utiliza regex para reemplazar las palabras no permitidas en un chat por `****`."
   ]
  },
  {
   "cell_type": "code",
   "execution_count": null,
   "metadata": {},
   "outputs": [],
   "source": [
    "chat_messages = ['hi!', 'my man', 'i like that', 'tell me your password', 'what a noob', 'lol']\n",
    "banned_words = ['password', 'noob']\n",
    "\n",
    "# Escribe tu código aquí\n",
    "\n",
    "print(chat_messages_filtered)"
   ]
  },
  {
   "cell_type": "markdown",
   "metadata": {},
   "source": [
    "## Webservices\n",
    "### Ejercicio\n",
    "La página **setlist.fm** (Se encarga de guardar estadísticas de conciertos), cuenta con una API bastante básica.\n",
    "\n",
    "Esta API posee, entre otros, el método\n",
    "\n",
    "`GET` `1.0/artist/{mbid}`\n",
    "\n",
    "El cual, dado un *mbid* (music brainz id) retorna un _json_ con las características del grupo.\n",
    "\n",
    "En el código, obten el atributo `name` del _json_."
   ]
  },
  {
   "cell_type": "code",
   "execution_count": null,
   "metadata": {},
   "outputs": [],
   "source": [
    "import requests\n",
    "\n",
    "URL = 'https://api.setlist.fm/rest/1.0/artist/'\n",
    "MBID = '83d91898-7763-47d7-b03b-b92132375c47'\n",
    "KEY = 'ed3af8cc-9960-4249-baac-b04be7ad5d16'\n",
    "\n",
    "header = {'Accept': 'application/json', 'x-api-key': KEY}\n",
    "\n",
    "response = requests.get(f'{URL}{MBID}', headers=header)\n",
    "\n",
    "# Escribe tu código aqui\n",
    "\n",
    "print(name)\n"
   ]
  },
  {
   "cell_type": "markdown",
   "metadata": {},
   "source": [
    "Otro método interesante de la api de **setlist** es el método\n",
    "\n",
    "`GET` `1.0/artist/{mbid}/setlists`\n",
    "\n",
    "El cual, retorna los setlist de un grupo dado su *mbid*.\n",
    "\n",
    "Envía un request a la **API** de **setlist** y obtén información sobre los últimos conciertos del grupo"
   ]
  },
  {
   "cell_type": "code",
   "execution_count": null,
   "metadata": {},
   "outputs": [],
   "source": [
    "import requests\n",
    "\n",
    "# Escribe tu código aqui"
   ]
  },
  {
   "cell_type": "markdown",
   "metadata": {},
   "source": [
    "### Notas\n",
    "\n",
    "- La librería `requests` no puede ser importada en _jupyter_, por lo que tendrás que ejecutar el código desde consola.\n",
    "- El parámetro `header` es usado por algunas APIs. Para efectos del curso, este funciona de manera parecida al parámetro `params`."
   ]
  },
  {
   "cell_type": "code",
   "execution_count": null,
   "metadata": {},
   "outputs": [],
   "source": []
  }
 ],
 "metadata": {
  "kernelspec": {
   "display_name": "Python 3",
   "language": "python",
   "name": "python3"
  },
  "language_info": {
   "codemirror_mode": {
    "name": "ipython",
    "version": 3
   },
   "file_extension": ".py",
   "mimetype": "text/x-python",
   "name": "python",
   "nbconvert_exporter": "python",
   "pygments_lexer": "ipython3",
   "version": "3.6.5"
  }
 },
 "nbformat": 4,
 "nbformat_minor": 2
}
